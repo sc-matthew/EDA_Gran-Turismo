{
 "cells": [
  {
   "cell_type": "markdown",
   "id": "3739e37d",
   "metadata": {
    "papermill": {
     "duration": 0.01136,
     "end_time": "2023-02-14T16:50:40.631710",
     "exception": false,
     "start_time": "2023-02-14T16:50:40.620350",
     "status": "completed"
    },
    "tags": []
   },
   "source": [
    "# What is the best car in Gran Turismo 7?\n",
    "> Gran Turismo 7 is a popular racing simulation video game developed by Polyphony Digital and published by Sony Interactive Entertainment. Many players have played this game and curious about which car is the best to use. The author aims to conduct comprehensive analyses from multiple dimensions to provide insightful information to the audience.\n",
    "\n",
    "> In this project, the author will display the data through various visualisation and DataFrame, allowing the audience to select the dimensions they would like to view. \n",
    "    \n",
    "> <img src=\"https://hips.hearstapps.com/roa.h-cdn.co/assets/16/20/1463678056-gran-turismo-sport-.gif\">\n",
    "\n",
    "### This project is brought to you by : [Suramate Chokchaisuwan](https://github.com/sc-matthew) 6341232926\n",
    "\n",
    "---"
   ]
  },
  {
   "cell_type": "markdown",
   "id": "21d98223",
   "metadata": {
    "papermill": {
     "duration": 0.009947,
     "end_time": "2023-02-14T16:50:40.651624",
     "exception": false,
     "start_time": "2023-02-14T16:50:40.641677",
     "status": "completed"
    },
    "tags": []
   },
   "source": [
    "# Part I: Data Preparation and Data Cleaning\n",
    "> Description -> The data set contains a list of cars in Gran Turismo 7.\n",
    "\n",
    "Fields Include:\n",
    "\n",
    "* model - Car Model from several brands\n",
    "\n",
    "* category -> Describe Car Type whether it is a Road, Racing, and etc.\n",
    "\n",
    "* pp -> Performance Point that using in game to rank car\n",
    "\n",
    "* transmission -> Specified where the gearbox is located\n",
    "\n",
    "* coll -> stands for \"Collector Points\", you will gain this when purchasing a new car\n",
    "\n",
    "* price -> Car Price (Cr.) -> for the unit, \"Cr.\" stands for Credits which you can earn by taking part in races and events.\n",
    "\n",
    "* hp -> stands for \"Horse Power\", it is a unit of measurement of power usually in reference to the output of engines or motors. \n",
    "\n",
    "* lbs -> Weight of Car (1 lb is approximately equal to 0.45359 kg)\n",
    "\n",
    "* kg/kw -> Power-to-weight ratio (a type of car performance measurement)\n",
    "\n",
    "* img_url -> Image URL of cars\n",
    "\n",
    "---\n",
    "### Packages Used in This Project\n",
    "> Please note that if you download this notebook and run it in a different environment with different versions of packages, the results may vary. Additionally, the author has used URL links to retrieve the car pictures from a website. If these pictures are deleted or the path are modified in the future, there may be issues with displaying the pictures."
   ]
  },
  {
   "cell_type": "code",
   "execution_count": 31,
   "id": "14bf9d9e",
   "metadata": {
    "execution": {
     "iopub.execute_input": "2023-02-14T16:50:40.673773Z",
     "iopub.status.busy": "2023-02-14T16:50:40.673019Z",
     "iopub.status.idle": "2023-02-14T16:50:43.057851Z",
     "shell.execute_reply": "2023-02-14T16:50:43.056269Z"
    },
    "papermill": {
     "duration": 2.3995,
     "end_time": "2023-02-14T16:50:43.061033",
     "exception": false,
     "start_time": "2023-02-14T16:50:40.661533",
     "status": "completed"
    },
    "tags": []
   },
   "outputs": [
    {
     "name": "stdout",
     "output_type": "stream",
     "text": [
      "1.5.2\n",
      "2023-03-09 10:00:01.455443\n"
     ]
    }
   ],
   "source": [
    "import pandas as pd\n",
    "import numpy as np\n",
    "import matplotlib.pyplot as plt\n",
    "import seaborn as sns\n",
    "\n",
    "import re\n",
    "\n",
    "import requests\n",
    "from PIL import Image\n",
    "from io import BytesIO\n",
    "\n",
    "from ipywidgets import interact\n",
    "import plotly.express as px\n",
    "from IPython.display import display\n",
    "import IPython.display as ipd\n",
    "\n",
    "print(pd.__version__)\n",
    "print(pd.Timestamp.now())\n"
   ]
  },
  {
   "cell_type": "markdown",
   "id": "5b41670a",
   "metadata": {
    "papermill": {
     "duration": 0.009588,
     "end_time": "2023-02-14T16:50:43.081020",
     "exception": false,
     "start_time": "2023-02-14T16:50:43.071432",
     "status": "completed"
    },
    "tags": []
   },
   "source": [
    "## Retrieve data \n",
    "> Author retrieve data from the Kaggle dataset and create a copy of the dataframe to prevent any mistakes that could affect the original data because at the end of the data preparation process, author will compare the data between the original one and the cleaned one to make sure that the data which will be used in the visualisation is valid."
   ]
  },
  {
   "cell_type": "code",
   "execution_count": 32,
   "id": "ae7009e2",
   "metadata": {
    "execution": {
     "iopub.execute_input": "2023-02-14T16:50:43.104086Z",
     "iopub.status.busy": "2023-02-14T16:50:43.103643Z",
     "iopub.status.idle": "2023-02-14T16:50:43.129129Z",
     "shell.execute_reply": "2023-02-14T16:50:43.128109Z"
    },
    "papermill": {
     "duration": 0.039558,
     "end_time": "2023-02-14T16:50:43.131677",
     "exception": false,
     "start_time": "2023-02-14T16:50:43.092119",
     "status": "completed"
    },
    "tags": []
   },
   "outputs": [],
   "source": [
    "source_url = 'https://github.com/sc-matthew/EDA_Gran-Turismo/raw/main/master_gran_turismo_gt7.csv'\n",
    "df_raw = pd.read_csv(source_url, names=['model', 'category', 'pp', 'transmission', 'coll', 'price', 'hp', 'lbs',\n",
    "       'kg/kw', 'img_url'])\n",
    "\n",
    "df = df_raw.copy()\n"
   ]
  },
  {
   "cell_type": "code",
   "execution_count": 33,
   "id": "b4257837",
   "metadata": {},
   "outputs": [
    {
     "data": {
      "text/html": [
       "<div>\n",
       "<style scoped>\n",
       "    .dataframe tbody tr th:only-of-type {\n",
       "        vertical-align: middle;\n",
       "    }\n",
       "\n",
       "    .dataframe tbody tr th {\n",
       "        vertical-align: top;\n",
       "    }\n",
       "\n",
       "    .dataframe thead th {\n",
       "        text-align: right;\n",
       "    }\n",
       "</style>\n",
       "<table border=\"1\" class=\"dataframe\">\n",
       "  <thead>\n",
       "    <tr style=\"text-align: right;\">\n",
       "      <th></th>\n",
       "      <th>model</th>\n",
       "      <th>category</th>\n",
       "      <th>pp</th>\n",
       "      <th>transmission</th>\n",
       "      <th>coll</th>\n",
       "      <th>price</th>\n",
       "      <th>hp</th>\n",
       "      <th>lbs</th>\n",
       "      <th>kg/kw</th>\n",
       "      <th>img_url</th>\n",
       "    </tr>\n",
       "  </thead>\n",
       "  <tbody>\n",
       "    <tr>\n",
       "      <th>0</th>\n",
       "      <td>Abarth 1500 Biposto Bertone B.A.T 1 '52</td>\n",
       "      <td>Categories unknown</td>\n",
       "      <td>PP ??</td>\n",
       "      <td>FR</td>\n",
       "      <td>?? pts</td>\n",
       "      <td>?? Cr</td>\n",
       "      <td>72</td>\n",
       "      <td>1918.0</td>\n",
       "      <td>12.08 Kg/Hp</td>\n",
       "      <td>https://www.kudosprime.com//gts/images/cars/gt...</td>\n",
       "    </tr>\n",
       "    <tr>\n",
       "      <th>1</th>\n",
       "      <td>Abarth 500 '09</td>\n",
       "      <td>Road Car</td>\n",
       "      <td>PP 377</td>\n",
       "      <td>FF</td>\n",
       "      <td>29 pts</td>\n",
       "      <td>29,500 Cr</td>\n",
       "      <td>133</td>\n",
       "      <td>2282.0</td>\n",
       "      <td>7.78 Kg/Hp</td>\n",
       "      <td>https://www.kudosprime.com/images/cars/gt7_car...</td>\n",
       "    </tr>\n",
       "    <tr>\n",
       "      <th>2</th>\n",
       "      <td>Abarth 595 SS '70</td>\n",
       "      <td>Road Car</td>\n",
       "      <td>PP 184</td>\n",
       "      <td>RR</td>\n",
       "      <td>48 pts</td>\n",
       "      <td>≈48,900 Cr</td>\n",
       "      <td>30</td>\n",
       "      <td>1036.0</td>\n",
       "      <td>15.67 Kg/Hp</td>\n",
       "      <td>https://www.kudosprime.com/images/cars/gt7_car...</td>\n",
       "    </tr>\n",
       "    <tr>\n",
       "      <th>3</th>\n",
       "      <td>Alfa Romeo 155 2.5 V6 TI '93</td>\n",
       "      <td>Racing Car</td>\n",
       "      <td>PP 673</td>\n",
       "      <td>4WD</td>\n",
       "      <td>800 pts</td>\n",
       "      <td>800,000 Cr</td>\n",
       "      <td>413</td>\n",
       "      <td>2227.0</td>\n",
       "      <td>2.45 Kg/Hp</td>\n",
       "      <td>https://www.kudosprime.com/images/cars/gt7_car...</td>\n",
       "    </tr>\n",
       "    <tr>\n",
       "      <th>4</th>\n",
       "      <td>Alfa Romeo 4C '14</td>\n",
       "      <td>Midship|Road Car</td>\n",
       "      <td>PP 523</td>\n",
       "      <td>MR</td>\n",
       "      <td>89 pts</td>\n",
       "      <td>89,100 Cr</td>\n",
       "      <td>235</td>\n",
       "      <td>2094.0</td>\n",
       "      <td>4.04 Kg/Hp</td>\n",
       "      <td>https://www.kudosprime.com/images/cars/gt7_car...</td>\n",
       "    </tr>\n",
       "  </tbody>\n",
       "</table>\n",
       "</div>"
      ],
      "text/plain": [
       "                                     model            category      pp  \\\n",
       "0  Abarth 1500 Biposto Bertone B.A.T 1 '52  Categories unknown   PP ??   \n",
       "1                           Abarth 500 '09            Road Car  PP 377   \n",
       "2                        Abarth 595 SS '70            Road Car  PP 184   \n",
       "3             Alfa Romeo 155 2.5 V6 TI '93          Racing Car  PP 673   \n",
       "4                        Alfa Romeo 4C '14    Midship|Road Car  PP 523   \n",
       "\n",
       "  transmission     coll       price   hp     lbs        kg/kw  \\\n",
       "0           FR   ?? pts       ?? Cr   72  1918.0  12.08 Kg/Hp   \n",
       "1           FF   29 pts   29,500 Cr  133  2282.0   7.78 Kg/Hp   \n",
       "2           RR   48 pts  ≈48,900 Cr   30  1036.0  15.67 Kg/Hp   \n",
       "3          4WD  800 pts  800,000 Cr  413  2227.0   2.45 Kg/Hp   \n",
       "4           MR   89 pts   89,100 Cr  235  2094.0   4.04 Kg/Hp   \n",
       "\n",
       "                                             img_url  \n",
       "0  https://www.kudosprime.com//gts/images/cars/gt...  \n",
       "1  https://www.kudosprime.com/images/cars/gt7_car...  \n",
       "2  https://www.kudosprime.com/images/cars/gt7_car...  \n",
       "3  https://www.kudosprime.com/images/cars/gt7_car...  \n",
       "4  https://www.kudosprime.com/images/cars/gt7_car...  "
      ]
     },
     "execution_count": 33,
     "metadata": {},
     "output_type": "execute_result"
    }
   ],
   "source": [
    "df.head(5)"
   ]
  },
  {
   "cell_type": "code",
   "execution_count": 34,
   "id": "65fa992b",
   "metadata": {
    "execution": {
     "iopub.execute_input": "2023-02-14T16:50:43.154217Z",
     "iopub.status.busy": "2023-02-14T16:50:43.153029Z",
     "iopub.status.idle": "2023-02-14T16:50:43.163020Z",
     "shell.execute_reply": "2023-02-14T16:50:43.161816Z"
    },
    "papermill": {
     "duration": 0.02366,
     "end_time": "2023-02-14T16:50:43.165368",
     "exception": false,
     "start_time": "2023-02-14T16:50:43.141708",
     "status": "completed"
    },
    "tags": []
   },
   "outputs": [
    {
     "data": {
      "text/plain": [
       "Index(['model', 'category', 'pp', 'transmission', 'coll', 'price', 'hp', 'lbs',\n",
       "       'kg/kw', 'img_url'],\n",
       "      dtype='object')"
      ]
     },
     "execution_count": 34,
     "metadata": {},
     "output_type": "execute_result"
    }
   ],
   "source": [
    "df_raw.columns"
   ]
  },
  {
   "cell_type": "markdown",
   "id": "f160953e",
   "metadata": {
    "papermill": {
     "duration": 0.010062,
     "end_time": "2023-02-14T16:50:43.185871",
     "exception": false,
     "start_time": "2023-02-14T16:50:43.175809",
     "status": "completed"
    },
    "tags": []
   },
   "source": [
    "## Remove the redundant columns and clean any unwanted strings.\n",
    "   * Drop the \"coll\" column as it is redundant with the \"price\" column.\n",
    "   * Define a recursive function to clean multiple columns:\n",
    "        * The \"category\" column contains multiple values, making it difficult to use in the visualization step. To clean this column:\n",
    "            1. Create a list of data.\n",
    "            2. Pass the list of data into the function.\n",
    "            3. Automatically remove specified text from the cells.\n",
    "   * Remove word \"Midship\" from the Category -> Since Midship has the same definition as \"MR\" in Transmission.\n",
    "            \n",
    "\n",
    "> Additionally, the \"category\" column contains four main values, but one of the values, \"professionally tuned\" can be imputed. In my opinion, since the cars in this category are tuned for specific purposes, it doesn't make sense to consider them as road cars. It would be more beneficial to categorise them as racing cars instead."
   ]
  },
  {
   "cell_type": "code",
   "execution_count": 35,
   "id": "8417c88b",
   "metadata": {
    "execution": {
     "iopub.execute_input": "2023-02-14T16:50:43.208126Z",
     "iopub.status.busy": "2023-02-14T16:50:43.207329Z",
     "iopub.status.idle": "2023-02-14T16:50:43.213736Z",
     "shell.execute_reply": "2023-02-14T16:50:43.212810Z"
    },
    "papermill": {
     "duration": 0.02037,
     "end_time": "2023-02-14T16:50:43.216248",
     "exception": false,
     "start_time": "2023-02-14T16:50:43.195878",
     "status": "completed"
    },
    "tags": []
   },
   "outputs": [],
   "source": [
    "def replace_unwanted_str(dataframe, col_name):\n",
    "\n",
    "    str_list = ['^\\|', '\\|$', '\\|\\|+']\n",
    "\n",
    "    # replace unwanted characters\n",
    "    for element in str_list:\n",
    "        if element in str_list[0:2]:\n",
    "            dataframe[col_name] = dataframe[col_name].str.replace(\n",
    "                element, '', regex=True)\n",
    "        else:\n",
    "            dataframe[col_name] = dataframe[col_name].str.replace(\n",
    "                element, '|', regex=True)\n",
    "\n",
    "    return dataframe\n"
   ]
  },
  {
   "cell_type": "code",
   "execution_count": 36,
   "id": "c5567deb",
   "metadata": {
    "execution": {
     "iopub.execute_input": "2023-02-14T16:50:43.238609Z",
     "iopub.status.busy": "2023-02-14T16:50:43.238184Z",
     "iopub.status.idle": "2023-02-14T16:50:43.246311Z",
     "shell.execute_reply": "2023-02-14T16:50:43.245090Z"
    },
    "papermill": {
     "duration": 0.022336,
     "end_time": "2023-02-14T16:50:43.248639",
     "exception": false,
     "start_time": "2023-02-14T16:50:43.226303",
     "status": "completed"
    },
    "tags": []
   },
   "outputs": [],
   "source": [
    "def replace_text(dataframe, col_name, text):\n",
    "\n",
    "    if type(text) == list:\n",
    "        for element in text:\n",
    "            # remove text from columns\n",
    "            dataframe[col_name] = dataframe[col_name].str.replace(element, '')\n",
    "            replace_unwanted_str(dataframe, col_name)\n",
    "    elif type(text) == dict:\n",
    "        for key, value in text.items():\n",
    "            for element in value:\n",
    "                df[key] = df[key].str.replace(\n",
    "                    element, 'Racing Car', regex=True)\n",
    "            replace_unwanted_str(dataframe, key)\n",
    "    else:\n",
    "        dataframe[col_name] = dataframe[col_name].str.replace(text, '')\n",
    "        replace_unwanted_str(dataframe, col_name)\n",
    "\n",
    "    return dataframe\n"
   ]
  },
  {
   "cell_type": "code",
   "execution_count": 37,
   "id": "8d0ea942",
   "metadata": {},
   "outputs": [
    {
     "data": {
      "text/html": [
       "<div>\n",
       "<style scoped>\n",
       "    .dataframe tbody tr th:only-of-type {\n",
       "        vertical-align: middle;\n",
       "    }\n",
       "\n",
       "    .dataframe tbody tr th {\n",
       "        vertical-align: top;\n",
       "    }\n",
       "\n",
       "    .dataframe thead th {\n",
       "        text-align: right;\n",
       "    }\n",
       "</style>\n",
       "<table border=\"1\" class=\"dataframe\">\n",
       "  <thead>\n",
       "    <tr style=\"text-align: right;\">\n",
       "      <th></th>\n",
       "      <th>model</th>\n",
       "      <th>category</th>\n",
       "      <th>pp</th>\n",
       "      <th>transmission</th>\n",
       "      <th>coll</th>\n",
       "      <th>price</th>\n",
       "      <th>hp</th>\n",
       "      <th>lbs</th>\n",
       "      <th>kg/kw</th>\n",
       "      <th>img_url</th>\n",
       "    </tr>\n",
       "  </thead>\n",
       "  <tbody>\n",
       "    <tr>\n",
       "      <th>0</th>\n",
       "      <td>Abarth 1500 Biposto Bertone B.A.T 1 '52</td>\n",
       "      <td>Categories unknown</td>\n",
       "      <td>PP ??</td>\n",
       "      <td>FR</td>\n",
       "      <td>?? pts</td>\n",
       "      <td>?? Cr</td>\n",
       "      <td>72</td>\n",
       "      <td>1918.0</td>\n",
       "      <td>12.08 Kg/Hp</td>\n",
       "      <td>https://www.kudosprime.com//gts/images/cars/gt...</td>\n",
       "    </tr>\n",
       "    <tr>\n",
       "      <th>1</th>\n",
       "      <td>Abarth 500 '09</td>\n",
       "      <td>Road Car</td>\n",
       "      <td>PP 377</td>\n",
       "      <td>FF</td>\n",
       "      <td>29 pts</td>\n",
       "      <td>29,500 Cr</td>\n",
       "      <td>133</td>\n",
       "      <td>2282.0</td>\n",
       "      <td>7.78 Kg/Hp</td>\n",
       "      <td>https://www.kudosprime.com/images/cars/gt7_car...</td>\n",
       "    </tr>\n",
       "    <tr>\n",
       "      <th>2</th>\n",
       "      <td>Abarth 595 SS '70</td>\n",
       "      <td>Road Car</td>\n",
       "      <td>PP 184</td>\n",
       "      <td>RR</td>\n",
       "      <td>48 pts</td>\n",
       "      <td>≈48,900 Cr</td>\n",
       "      <td>30</td>\n",
       "      <td>1036.0</td>\n",
       "      <td>15.67 Kg/Hp</td>\n",
       "      <td>https://www.kudosprime.com/images/cars/gt7_car...</td>\n",
       "    </tr>\n",
       "    <tr>\n",
       "      <th>3</th>\n",
       "      <td>Alfa Romeo 155 2.5 V6 TI '93</td>\n",
       "      <td>Racing Car</td>\n",
       "      <td>PP 673</td>\n",
       "      <td>4WD</td>\n",
       "      <td>800 pts</td>\n",
       "      <td>800,000 Cr</td>\n",
       "      <td>413</td>\n",
       "      <td>2227.0</td>\n",
       "      <td>2.45 Kg/Hp</td>\n",
       "      <td>https://www.kudosprime.com/images/cars/gt7_car...</td>\n",
       "    </tr>\n",
       "    <tr>\n",
       "      <th>4</th>\n",
       "      <td>Alfa Romeo 4C '14</td>\n",
       "      <td>Midship|Road Car</td>\n",
       "      <td>PP 523</td>\n",
       "      <td>MR</td>\n",
       "      <td>89 pts</td>\n",
       "      <td>89,100 Cr</td>\n",
       "      <td>235</td>\n",
       "      <td>2094.0</td>\n",
       "      <td>4.04 Kg/Hp</td>\n",
       "      <td>https://www.kudosprime.com/images/cars/gt7_car...</td>\n",
       "    </tr>\n",
       "    <tr>\n",
       "      <th>...</th>\n",
       "      <td>...</td>\n",
       "      <td>...</td>\n",
       "      <td>...</td>\n",
       "      <td>...</td>\n",
       "      <td>...</td>\n",
       "      <td>...</td>\n",
       "      <td>...</td>\n",
       "      <td>...</td>\n",
       "      <td>...</td>\n",
       "      <td>...</td>\n",
       "    </tr>\n",
       "    <tr>\n",
       "      <th>420</th>\n",
       "      <td>Volkswagen Scirocco Gr.4</td>\n",
       "      <td>Racing Car</td>\n",
       "      <td>PP 656</td>\n",
       "      <td>FF</td>\n",
       "      <td>350 pts</td>\n",
       "      <td>350,000 Cr</td>\n",
       "      <td>358</td>\n",
       "      <td>2315.0</td>\n",
       "      <td>2.93 Kg/Hp</td>\n",
       "      <td>https://www.kudosprime.com/images/cars/gt7_car...</td>\n",
       "    </tr>\n",
       "    <tr>\n",
       "      <th>421</th>\n",
       "      <td>Volkswagen Scirocco R '10</td>\n",
       "      <td>Road Car</td>\n",
       "      <td>PP 498</td>\n",
       "      <td>FF</td>\n",
       "      <td>51 pts</td>\n",
       "      <td>51,500 Cr</td>\n",
       "      <td>252</td>\n",
       "      <td>3109.0</td>\n",
       "      <td>5.60 Kg/Hp</td>\n",
       "      <td>https://www.kudosprime.com/images/cars/gt7_car...</td>\n",
       "    </tr>\n",
       "    <tr>\n",
       "      <th>422</th>\n",
       "      <td>Volkswagen Volkswagen 1200 '66</td>\n",
       "      <td>Road Car</td>\n",
       "      <td>PP 177</td>\n",
       "      <td>RR</td>\n",
       "      <td>40 pts</td>\n",
       "      <td>≈32,700 Cr</td>\n",
       "      <td>33</td>\n",
       "      <td>1720.0</td>\n",
       "      <td>23.64 Kg/Hp</td>\n",
       "      <td>https://www.kudosprime.com/images/cars/gt7_car...</td>\n",
       "    </tr>\n",
       "    <tr>\n",
       "      <th>423</th>\n",
       "      <td>Wicked Fabrication Wicked Fabrication GT 51</td>\n",
       "      <td>Gran Turismo Award|Professionally Tuned</td>\n",
       "      <td>PP 518</td>\n",
       "      <td>FR</td>\n",
       "      <td>300 pts</td>\n",
       "      <td>300,000 Cr</td>\n",
       "      <td>372</td>\n",
       "      <td>2950.0</td>\n",
       "      <td>3.60 Kg/Hp</td>\n",
       "      <td>https://www.kudosprime.com/images/cars/gt7_car...</td>\n",
       "    </tr>\n",
       "    <tr>\n",
       "      <th>424</th>\n",
       "      <td>Zagato IsoRivolta Zagato VGT</td>\n",
       "      <td>Road Car|Vision Gran Turismo</td>\n",
       "      <td>PP 649</td>\n",
       "      <td>FR</td>\n",
       "      <td>1000 pts</td>\n",
       "      <td>1,000,000 Cr</td>\n",
       "      <td>559</td>\n",
       "      <td>2535.0</td>\n",
       "      <td>2.06 Kg/Hp</td>\n",
       "      <td>https://www.kudosprime.com/images/cars/gt7_car...</td>\n",
       "    </tr>\n",
       "  </tbody>\n",
       "</table>\n",
       "<p>425 rows × 10 columns</p>\n",
       "</div>"
      ],
      "text/plain": [
       "                                           model  \\\n",
       "0        Abarth 1500 Biposto Bertone B.A.T 1 '52   \n",
       "1                                 Abarth 500 '09   \n",
       "2                              Abarth 595 SS '70   \n",
       "3                   Alfa Romeo 155 2.5 V6 TI '93   \n",
       "4                              Alfa Romeo 4C '14   \n",
       "..                                           ...   \n",
       "420                     Volkswagen Scirocco Gr.4   \n",
       "421                    Volkswagen Scirocco R '10   \n",
       "422               Volkswagen Volkswagen 1200 '66   \n",
       "423  Wicked Fabrication Wicked Fabrication GT 51   \n",
       "424                 Zagato IsoRivolta Zagato VGT   \n",
       "\n",
       "                                    category      pp transmission      coll  \\\n",
       "0                         Categories unknown   PP ??           FR    ?? pts   \n",
       "1                                   Road Car  PP 377           FF    29 pts   \n",
       "2                                   Road Car  PP 184           RR    48 pts   \n",
       "3                                 Racing Car  PP 673          4WD   800 pts   \n",
       "4                           Midship|Road Car  PP 523           MR    89 pts   \n",
       "..                                       ...     ...          ...       ...   \n",
       "420                               Racing Car  PP 656           FF   350 pts   \n",
       "421                                 Road Car  PP 498           FF    51 pts   \n",
       "422                                 Road Car  PP 177           RR    40 pts   \n",
       "423  Gran Turismo Award|Professionally Tuned  PP 518           FR   300 pts   \n",
       "424             Road Car|Vision Gran Turismo  PP 649           FR  1000 pts   \n",
       "\n",
       "            price   hp     lbs        kg/kw  \\\n",
       "0           ?? Cr   72  1918.0  12.08 Kg/Hp   \n",
       "1       29,500 Cr  133  2282.0   7.78 Kg/Hp   \n",
       "2      ≈48,900 Cr   30  1036.0  15.67 Kg/Hp   \n",
       "3      800,000 Cr  413  2227.0   2.45 Kg/Hp   \n",
       "4       89,100 Cr  235  2094.0   4.04 Kg/Hp   \n",
       "..            ...  ...     ...          ...   \n",
       "420    350,000 Cr  358  2315.0   2.93 Kg/Hp   \n",
       "421     51,500 Cr  252  3109.0   5.60 Kg/Hp   \n",
       "422    ≈32,700 Cr   33  1720.0  23.64 Kg/Hp   \n",
       "423    300,000 Cr  372  2950.0   3.60 Kg/Hp   \n",
       "424  1,000,000 Cr  559  2535.0   2.06 Kg/Hp   \n",
       "\n",
       "                                               img_url  \n",
       "0    https://www.kudosprime.com//gts/images/cars/gt...  \n",
       "1    https://www.kudosprime.com/images/cars/gt7_car...  \n",
       "2    https://www.kudosprime.com/images/cars/gt7_car...  \n",
       "3    https://www.kudosprime.com/images/cars/gt7_car...  \n",
       "4    https://www.kudosprime.com/images/cars/gt7_car...  \n",
       "..                                                 ...  \n",
       "420  https://www.kudosprime.com/images/cars/gt7_car...  \n",
       "421  https://www.kudosprime.com/images/cars/gt7_car...  \n",
       "422  https://www.kudosprime.com/images/cars/gt7_car...  \n",
       "423  https://www.kudosprime.com/images/cars/gt7_car...  \n",
       "424  https://www.kudosprime.com/images/cars/gt7_car...  \n",
       "\n",
       "[425 rows x 10 columns]"
      ]
     },
     "execution_count": 37,
     "metadata": {},
     "output_type": "execute_result"
    }
   ],
   "source": [
    "df"
   ]
  },
  {
   "cell_type": "code",
   "execution_count": 38,
   "id": "2f37237f",
   "metadata": {
    "execution": {
     "iopub.execute_input": "2023-02-14T16:50:43.270910Z",
     "iopub.status.busy": "2023-02-14T16:50:43.270442Z",
     "iopub.status.idle": "2023-02-14T16:50:43.304892Z",
     "shell.execute_reply": "2023-02-14T16:50:43.303689Z"
    },
    "papermill": {
     "duration": 0.04879,
     "end_time": "2023-02-14T16:50:43.307653",
     "exception": false,
     "start_time": "2023-02-14T16:50:43.258863",
     "status": "completed"
    },
    "tags": []
   },
   "outputs": [],
   "source": [
    "drop_list = ['Midship', 'Hypercar', 'Kei Car', 'Pickup Truck', 'Kart']\n",
    "\n",
    "impute_car_type = {\n",
    "    'category': ['^Professionally Tuned', 'Professionally Tuned', 'Professionally Tuned$']\n",
    "}\n",
    "replace_text_input = [drop_list, impute_car_type]\n",
    "\n",
    "for input in replace_text_input:\n",
    "    replace_text(df, 'category', input)\n"
   ]
  },
  {
   "cell_type": "code",
   "execution_count": 39,
   "id": "a0cad82a",
   "metadata": {
    "execution": {
     "iopub.execute_input": "2023-02-14T16:50:43.330997Z",
     "iopub.status.busy": "2023-02-14T16:50:43.330555Z",
     "iopub.status.idle": "2023-02-14T16:50:43.341768Z",
     "shell.execute_reply": "2023-02-14T16:50:43.340749Z"
    },
    "papermill": {
     "duration": 0.025457,
     "end_time": "2023-02-14T16:50:43.344026",
     "exception": false,
     "start_time": "2023-02-14T16:50:43.318569",
     "status": "completed"
    },
    "tags": []
   },
   "outputs": [],
   "source": [
    "df = df.drop(columns=['coll'], axis=1)\n"
   ]
  },
  {
   "cell_type": "markdown",
   "id": "e5bd6915",
   "metadata": {
    "papermill": {
     "duration": 0.009711,
     "end_time": "2023-02-14T16:50:43.363897",
     "exception": false,
     "start_time": "2023-02-14T16:50:43.354186",
     "status": "completed"
    },
    "tags": []
   },
   "source": [
    "## Remove multiple values from the \"category\" column\n",
    "> Data in the \"category\" column have several values, and were treated as string -> Hence, \"Road Car|Hybrid Car\" and \"Hybrid Car|Road Car\" are different\n",
    "   ``` \n",
    "     This is a fragment of the df['category'].value_counts() outcome:\n",
    "     \n",
    "     Midship|Road Car                                        39\n",
    "     Midship|Racing Car                                      33\n",
    "     Racing Car|Vision Gran Turismo                          11\n",
    "     Midship|Racing Car|Vision Gran Turismo                   9\n",
    "     Road Car|Safety Car                                      6\n",
    "     Professionally Tuned                                     6\n"
   ]
  },
  {
   "cell_type": "markdown",
   "id": "764156f2",
   "metadata": {
    "papermill": {
     "duration": 0.009669,
     "end_time": "2023-02-14T16:50:43.383767",
     "exception": false,
     "start_time": "2023-02-14T16:50:43.374098",
     "status": "completed"
    },
    "tags": []
   },
   "source": [
    "## The author first split the data into unique values and then classified it into two groups. \n",
    "\n",
    "* The first group is the \"Main Category\" which refers to the car type, with possible values being \"Road Car,\" \"Racing Car,\" or \"Categories unknown.\" \n",
    "\n",
    "* The second group is the \"Sub Category,\" which refers to the car's features or add-ons, with possible values being all values except those already specified in the Main Category, such as \"Hybrid Car\" or \"Vision Gran Turismo.\"\n",
    "\n",
    "> The author maintained the Main Category in the \"category\" column and created a new \"sub_category\" column. If there is a sub_category value, it is stored as a list that can be iterated through. If there is no sub_category value, the cell's value is stored as NaN."
   ]
  },
  {
   "cell_type": "code",
   "execution_count": 40,
   "id": "3687824d",
   "metadata": {
    "execution": {
     "iopub.execute_input": "2023-02-14T16:50:43.406444Z",
     "iopub.status.busy": "2023-02-14T16:50:43.405335Z",
     "iopub.status.idle": "2023-02-14T16:50:43.414585Z",
     "shell.execute_reply": "2023-02-14T16:50:43.413185Z"
    },
    "papermill": {
     "duration": 0.023566,
     "end_time": "2023-02-14T16:50:43.417488",
     "exception": false,
     "start_time": "2023-02-14T16:50:43.393922",
     "status": "completed"
    },
    "tags": []
   },
   "outputs": [],
   "source": [
    "all_category = []\n",
    "for data in df['category']:\n",
    "    all_category.append(data.split('|'))\n",
    "\n",
    "category_list = ['Road Car', 'Racing Car', 'Categories unknown']\n",
    "sub_category_list = []\n",
    "\n",
    "for num, each_list in enumerate(all_category):\n",
    "    each_subcat_respectively = []\n",
    "    for element in each_list:\n",
    "        if element in category_list:\n",
    "            continue\n",
    "        else:\n",
    "            each_subcat_respectively.append(element)\n",
    "    sub_category_list.append(each_subcat_respectively)\n",
    "\n",
    "# sub_category_list\n"
   ]
  },
  {
   "cell_type": "code",
   "execution_count": 41,
   "id": "614e073f",
   "metadata": {
    "execution": {
     "iopub.execute_input": "2023-02-14T16:50:43.439788Z",
     "iopub.status.busy": "2023-02-14T16:50:43.439325Z",
     "iopub.status.idle": "2023-02-14T16:50:43.449910Z",
     "shell.execute_reply": "2023-02-14T16:50:43.448628Z"
    },
    "papermill": {
     "duration": 0.02478,
     "end_time": "2023-02-14T16:50:43.452527",
     "exception": false,
     "start_time": "2023-02-14T16:50:43.427747",
     "status": "completed"
    },
    "tags": []
   },
   "outputs": [],
   "source": [
    "df['sub_category'] = sub_category_list\n",
    "temp_list = []\n",
    "for data in df['sub_category']:\n",
    "    if len(data) == 0:\n",
    "        temp_list.append(np.nan)\n",
    "    else:\n",
    "        temp_list.append(data)\n",
    "\n",
    "df['sub_category'] = temp_list\n"
   ]
  },
  {
   "cell_type": "code",
   "execution_count": 42,
   "id": "240e72db",
   "metadata": {
    "execution": {
     "iopub.execute_input": "2023-02-14T16:50:43.474443Z",
     "iopub.status.busy": "2023-02-14T16:50:43.473993Z",
     "iopub.status.idle": "2023-02-14T16:50:43.480129Z",
     "shell.execute_reply": "2023-02-14T16:50:43.479243Z"
    },
    "papermill": {
     "duration": 0.019578,
     "end_time": "2023-02-14T16:50:43.482196",
     "exception": false,
     "start_time": "2023-02-14T16:50:43.462618",
     "status": "completed"
    },
    "tags": []
   },
   "outputs": [],
   "source": [
    "df = df.iloc[:, [0, 1, 9, 2, 3, 4, 5, 6, 7, 8]]\n",
    "# df\n"
   ]
  },
  {
   "cell_type": "code",
   "execution_count": 43,
   "id": "317b15d0",
   "metadata": {
    "execution": {
     "iopub.execute_input": "2023-02-14T16:50:43.504705Z",
     "iopub.status.busy": "2023-02-14T16:50:43.503461Z",
     "iopub.status.idle": "2023-02-14T16:50:43.537812Z",
     "shell.execute_reply": "2023-02-14T16:50:43.536444Z"
    },
    "papermill": {
     "duration": 0.048289,
     "end_time": "2023-02-14T16:50:43.540556",
     "exception": false,
     "start_time": "2023-02-14T16:50:43.492267",
     "status": "completed"
    },
    "tags": []
   },
   "outputs": [],
   "source": [
    "variable_list = ['Hybrid Car', 'Electric Car', 'Concept Car', 'Vision Gran Turismo',\n",
    "                 'GT500', 'Safety Car', 'Le Mans', 'Nurburgring 24 Hours', 'Gran Turismo Award']\n",
    "\n",
    "for element in variable_list:\n",
    "    replace_text(df, 'category', element)\n"
   ]
  },
  {
   "cell_type": "code",
   "execution_count": 44,
   "id": "6e9e1f76",
   "metadata": {
    "execution": {
     "iopub.execute_input": "2023-02-14T16:50:43.562678Z",
     "iopub.status.busy": "2023-02-14T16:50:43.561842Z",
     "iopub.status.idle": "2023-02-14T16:50:43.568388Z",
     "shell.execute_reply": "2023-02-14T16:50:43.567373Z"
    },
    "papermill": {
     "duration": 0.020346,
     "end_time": "2023-02-14T16:50:43.570987",
     "exception": false,
     "start_time": "2023-02-14T16:50:43.550641",
     "status": "completed"
    },
    "tags": []
   },
   "outputs": [],
   "source": [
    "count_category_dict = {}\n",
    "for data in df['category']:\n",
    "    if data in count_category_dict.keys():\n",
    "        count_category_dict[data] += 1\n",
    "    else:\n",
    "        count_category_dict[data] = 1\n",
    "\n",
    "Category_Dict = count_category_dict\n",
    "# Category_Dict\n"
   ]
  },
  {
   "cell_type": "code",
   "execution_count": 45,
   "id": "66923f65",
   "metadata": {
    "execution": {
     "iopub.execute_input": "2023-02-14T16:50:43.592823Z",
     "iopub.status.busy": "2023-02-14T16:50:43.592404Z",
     "iopub.status.idle": "2023-02-14T16:50:43.602658Z",
     "shell.execute_reply": "2023-02-14T16:50:43.601315Z"
    },
    "papermill": {
     "duration": 0.023854,
     "end_time": "2023-02-14T16:50:43.604983",
     "exception": false,
     "start_time": "2023-02-14T16:50:43.581129",
     "status": "completed"
    },
    "tags": []
   },
   "outputs": [],
   "source": [
    "count_subcategory_dict = {}\n",
    "for index, data in enumerate(df['sub_category']):\n",
    "    if type(df['sub_category'][index]) == float:\n",
    "        continue\n",
    "    else:\n",
    "        for element in data:\n",
    "            if element in count_subcategory_dict.keys():\n",
    "                count_subcategory_dict[element] += 1\n",
    "            else:\n",
    "                count_subcategory_dict[element] = 1\n",
    "\n",
    "Sub_Category_Dict = count_subcategory_dict\n",
    "# Sub_Category_Dict\n"
   ]
  },
  {
   "cell_type": "markdown",
   "id": "c9110ffb",
   "metadata": {
    "papermill": {
     "duration": 0.009826,
     "end_time": "2023-02-14T16:50:43.624993",
     "exception": false,
     "start_time": "2023-02-14T16:50:43.615167",
     "status": "completed"
    },
    "tags": []
   },
   "source": [
    "### After reviewing the data, I found that some of the \"image_url\" values were not functional. However, a pattern was discovered during the comparison of the working and non-working URLs, and it was found that adding 'gt7' to the URL made all of them functional. However, some of the cars do not have an \"image_url\" and have been set to 'missing.png'."
   ]
  },
  {
   "cell_type": "code",
   "execution_count": 46,
   "id": "c009361f",
   "metadata": {
    "execution": {
     "iopub.execute_input": "2023-02-14T16:50:43.647030Z",
     "iopub.status.busy": "2023-02-14T16:50:43.646313Z",
     "iopub.status.idle": "2023-02-14T16:50:43.677539Z",
     "shell.execute_reply": "2023-02-14T16:50:43.676411Z"
    },
    "papermill": {
     "duration": 0.044697,
     "end_time": "2023-02-14T16:50:43.679735",
     "exception": false,
     "start_time": "2023-02-14T16:50:43.635038",
     "status": "completed"
    },
    "tags": []
   },
   "outputs": [
    {
     "data": {
      "text/html": [
       "<div>\n",
       "<style scoped>\n",
       "    .dataframe tbody tr th:only-of-type {\n",
       "        vertical-align: middle;\n",
       "    }\n",
       "\n",
       "    .dataframe tbody tr th {\n",
       "        vertical-align: top;\n",
       "    }\n",
       "\n",
       "    .dataframe thead th {\n",
       "        text-align: right;\n",
       "    }\n",
       "</style>\n",
       "<table border=\"1\" class=\"dataframe\">\n",
       "  <thead>\n",
       "    <tr style=\"text-align: right;\">\n",
       "      <th></th>\n",
       "      <th>model</th>\n",
       "      <th>category</th>\n",
       "      <th>sub_category</th>\n",
       "      <th>pp</th>\n",
       "      <th>transmission</th>\n",
       "      <th>price</th>\n",
       "      <th>hp</th>\n",
       "      <th>lbs</th>\n",
       "      <th>kg/kw</th>\n",
       "      <th>img_url</th>\n",
       "    </tr>\n",
       "  </thead>\n",
       "  <tbody>\n",
       "    <tr>\n",
       "      <th>0</th>\n",
       "      <td>Abarth 1500 Biposto Bertone B.A.T 1 '52</td>\n",
       "      <td>Categories unknown</td>\n",
       "      <td>NaN</td>\n",
       "      <td>PP ??</td>\n",
       "      <td>FR</td>\n",
       "      <td>?? Cr</td>\n",
       "      <td>72</td>\n",
       "      <td>1918.0</td>\n",
       "      <td>12.08 Kg/Hp</td>\n",
       "      <td>https://www.kudosprime.com//gts/images/cars/gt...</td>\n",
       "    </tr>\n",
       "    <tr>\n",
       "      <th>1</th>\n",
       "      <td>Abarth 500 '09</td>\n",
       "      <td>Road Car</td>\n",
       "      <td>NaN</td>\n",
       "      <td>PP 377</td>\n",
       "      <td>FF</td>\n",
       "      <td>29,500 Cr</td>\n",
       "      <td>133</td>\n",
       "      <td>2282.0</td>\n",
       "      <td>7.78 Kg/Hp</td>\n",
       "      <td>https://www.kudosprime.com/gt7/images/cars/gt7...</td>\n",
       "    </tr>\n",
       "    <tr>\n",
       "      <th>2</th>\n",
       "      <td>Abarth 595 SS '70</td>\n",
       "      <td>Road Car</td>\n",
       "      <td>NaN</td>\n",
       "      <td>PP 184</td>\n",
       "      <td>RR</td>\n",
       "      <td>≈48,900 Cr</td>\n",
       "      <td>30</td>\n",
       "      <td>1036.0</td>\n",
       "      <td>15.67 Kg/Hp</td>\n",
       "      <td>https://www.kudosprime.com/gt7/images/cars/gt7...</td>\n",
       "    </tr>\n",
       "    <tr>\n",
       "      <th>3</th>\n",
       "      <td>Alfa Romeo 155 2.5 V6 TI '93</td>\n",
       "      <td>Racing Car</td>\n",
       "      <td>NaN</td>\n",
       "      <td>PP 673</td>\n",
       "      <td>4WD</td>\n",
       "      <td>800,000 Cr</td>\n",
       "      <td>413</td>\n",
       "      <td>2227.0</td>\n",
       "      <td>2.45 Kg/Hp</td>\n",
       "      <td>https://www.kudosprime.com/gt7/images/cars/gt7...</td>\n",
       "    </tr>\n",
       "    <tr>\n",
       "      <th>4</th>\n",
       "      <td>Alfa Romeo 4C '14</td>\n",
       "      <td>Road Car</td>\n",
       "      <td>NaN</td>\n",
       "      <td>PP 523</td>\n",
       "      <td>MR</td>\n",
       "      <td>89,100 Cr</td>\n",
       "      <td>235</td>\n",
       "      <td>2094.0</td>\n",
       "      <td>4.04 Kg/Hp</td>\n",
       "      <td>https://www.kudosprime.com/gt7/images/cars/gt7...</td>\n",
       "    </tr>\n",
       "    <tr>\n",
       "      <th>...</th>\n",
       "      <td>...</td>\n",
       "      <td>...</td>\n",
       "      <td>...</td>\n",
       "      <td>...</td>\n",
       "      <td>...</td>\n",
       "      <td>...</td>\n",
       "      <td>...</td>\n",
       "      <td>...</td>\n",
       "      <td>...</td>\n",
       "      <td>...</td>\n",
       "    </tr>\n",
       "    <tr>\n",
       "      <th>420</th>\n",
       "      <td>Volkswagen Scirocco Gr.4</td>\n",
       "      <td>Racing Car</td>\n",
       "      <td>NaN</td>\n",
       "      <td>PP 656</td>\n",
       "      <td>FF</td>\n",
       "      <td>350,000 Cr</td>\n",
       "      <td>358</td>\n",
       "      <td>2315.0</td>\n",
       "      <td>2.93 Kg/Hp</td>\n",
       "      <td>https://www.kudosprime.com/gt7/images/cars/gt7...</td>\n",
       "    </tr>\n",
       "    <tr>\n",
       "      <th>421</th>\n",
       "      <td>Volkswagen Scirocco R '10</td>\n",
       "      <td>Road Car</td>\n",
       "      <td>NaN</td>\n",
       "      <td>PP 498</td>\n",
       "      <td>FF</td>\n",
       "      <td>51,500 Cr</td>\n",
       "      <td>252</td>\n",
       "      <td>3109.0</td>\n",
       "      <td>5.60 Kg/Hp</td>\n",
       "      <td>https://www.kudosprime.com/gt7/images/cars/gt7...</td>\n",
       "    </tr>\n",
       "    <tr>\n",
       "      <th>422</th>\n",
       "      <td>Volkswagen Volkswagen 1200 '66</td>\n",
       "      <td>Road Car</td>\n",
       "      <td>NaN</td>\n",
       "      <td>PP 177</td>\n",
       "      <td>RR</td>\n",
       "      <td>≈32,700 Cr</td>\n",
       "      <td>33</td>\n",
       "      <td>1720.0</td>\n",
       "      <td>23.64 Kg/Hp</td>\n",
       "      <td>https://www.kudosprime.com/gt7/images/cars/gt7...</td>\n",
       "    </tr>\n",
       "    <tr>\n",
       "      <th>423</th>\n",
       "      <td>Wicked Fabrication Wicked Fabrication GT 51</td>\n",
       "      <td>Racing Car</td>\n",
       "      <td>[Gran Turismo Award]</td>\n",
       "      <td>PP 518</td>\n",
       "      <td>FR</td>\n",
       "      <td>300,000 Cr</td>\n",
       "      <td>372</td>\n",
       "      <td>2950.0</td>\n",
       "      <td>3.60 Kg/Hp</td>\n",
       "      <td>https://www.kudosprime.com/gt7/images/cars/gt7...</td>\n",
       "    </tr>\n",
       "    <tr>\n",
       "      <th>424</th>\n",
       "      <td>Zagato IsoRivolta Zagato VGT</td>\n",
       "      <td>Road Car</td>\n",
       "      <td>[Vision Gran Turismo]</td>\n",
       "      <td>PP 649</td>\n",
       "      <td>FR</td>\n",
       "      <td>1,000,000 Cr</td>\n",
       "      <td>559</td>\n",
       "      <td>2535.0</td>\n",
       "      <td>2.06 Kg/Hp</td>\n",
       "      <td>https://www.kudosprime.com/gt7/images/cars/gt7...</td>\n",
       "    </tr>\n",
       "  </tbody>\n",
       "</table>\n",
       "<p>425 rows × 10 columns</p>\n",
       "</div>"
      ],
      "text/plain": [
       "                                           model            category  \\\n",
       "0        Abarth 1500 Biposto Bertone B.A.T 1 '52  Categories unknown   \n",
       "1                                 Abarth 500 '09            Road Car   \n",
       "2                              Abarth 595 SS '70            Road Car   \n",
       "3                   Alfa Romeo 155 2.5 V6 TI '93          Racing Car   \n",
       "4                              Alfa Romeo 4C '14            Road Car   \n",
       "..                                           ...                 ...   \n",
       "420                     Volkswagen Scirocco Gr.4          Racing Car   \n",
       "421                    Volkswagen Scirocco R '10            Road Car   \n",
       "422               Volkswagen Volkswagen 1200 '66            Road Car   \n",
       "423  Wicked Fabrication Wicked Fabrication GT 51          Racing Car   \n",
       "424                 Zagato IsoRivolta Zagato VGT            Road Car   \n",
       "\n",
       "              sub_category      pp transmission         price   hp     lbs  \\\n",
       "0                      NaN   PP ??           FR         ?? Cr   72  1918.0   \n",
       "1                      NaN  PP 377           FF     29,500 Cr  133  2282.0   \n",
       "2                      NaN  PP 184           RR    ≈48,900 Cr   30  1036.0   \n",
       "3                      NaN  PP 673          4WD    800,000 Cr  413  2227.0   \n",
       "4                      NaN  PP 523           MR     89,100 Cr  235  2094.0   \n",
       "..                     ...     ...          ...           ...  ...     ...   \n",
       "420                    NaN  PP 656           FF    350,000 Cr  358  2315.0   \n",
       "421                    NaN  PP 498           FF     51,500 Cr  252  3109.0   \n",
       "422                    NaN  PP 177           RR    ≈32,700 Cr   33  1720.0   \n",
       "423   [Gran Turismo Award]  PP 518           FR    300,000 Cr  372  2950.0   \n",
       "424  [Vision Gran Turismo]  PP 649           FR  1,000,000 Cr  559  2535.0   \n",
       "\n",
       "           kg/kw                                            img_url  \n",
       "0    12.08 Kg/Hp  https://www.kudosprime.com//gts/images/cars/gt...  \n",
       "1     7.78 Kg/Hp  https://www.kudosprime.com/gt7/images/cars/gt7...  \n",
       "2    15.67 Kg/Hp  https://www.kudosprime.com/gt7/images/cars/gt7...  \n",
       "3     2.45 Kg/Hp  https://www.kudosprime.com/gt7/images/cars/gt7...  \n",
       "4     4.04 Kg/Hp  https://www.kudosprime.com/gt7/images/cars/gt7...  \n",
       "..           ...                                                ...  \n",
       "420   2.93 Kg/Hp  https://www.kudosprime.com/gt7/images/cars/gt7...  \n",
       "421   5.60 Kg/Hp  https://www.kudosprime.com/gt7/images/cars/gt7...  \n",
       "422  23.64 Kg/Hp  https://www.kudosprime.com/gt7/images/cars/gt7...  \n",
       "423   3.60 Kg/Hp  https://www.kudosprime.com/gt7/images/cars/gt7...  \n",
       "424   2.06 Kg/Hp  https://www.kudosprime.com/gt7/images/cars/gt7...  \n",
       "\n",
       "[425 rows x 10 columns]"
      ]
     },
     "execution_count": 46,
     "metadata": {},
     "output_type": "execute_result"
    }
   ],
   "source": [
    "def fix_incomplete_url(dataframe):\n",
    "    new_url = []\n",
    "    for url in dataframe['img_url']:\n",
    "        if '//gt' in url or 'missing' in url:\n",
    "            new_url.append(url)\n",
    "        else:\n",
    "            split_list = url.split('/')\n",
    "            split_list.insert(split_list.index('images'), 'gt7')\n",
    "            fixed_url = '/'.join(split_list)\n",
    "            new_url.append(fixed_url)\n",
    "\n",
    "    dataframe['img_url'] = new_url\n",
    "    return dataframe\n",
    "\n",
    "\n",
    "fix_incomplete_url(df)\n"
   ]
  },
  {
   "cell_type": "markdown",
   "id": "a4eeb00d",
   "metadata": {
    "papermill": {
     "duration": 0.01026,
     "end_time": "2023-02-14T16:50:43.701239",
     "exception": false,
     "start_time": "2023-02-14T16:50:43.690979",
     "status": "completed"
    },
    "tags": []
   },
   "source": [
    "## Checking all images for functionality, but some cars have missing picture links which are not working."
   ]
  },
  {
   "cell_type": "code",
   "execution_count": 47,
   "id": "dbb55ad4",
   "metadata": {
    "execution": {
     "iopub.execute_input": "2023-02-14T16:50:43.724352Z",
     "iopub.status.busy": "2023-02-14T16:50:43.723683Z",
     "iopub.status.idle": "2023-02-14T16:52:46.778289Z",
     "shell.execute_reply": "2023-02-14T16:52:46.776825Z"
    },
    "papermill": {
     "duration": 123.08009,
     "end_time": "2023-02-14T16:52:46.791806",
     "exception": false,
     "start_time": "2023-02-14T16:50:43.711716",
     "status": "completed"
    },
    "tags": []
   },
   "outputs": [
    {
     "name": "stdout",
     "output_type": "stream",
     "text": [
      "Error opening image at index : 8 | Car name : Alfa Romeo 8C 2900B Touring Berlinetta '38 | Unfuctional Link : https://www.kudosprime.com/images/cars/missing.png\n",
      "Error opening image at index : 36 | Car name : Aston Martin DB5 '64 | Unfuctional Link : https://www.kudosprime.com/images/cars/missing.png\n",
      "Error opening image at index : 63 | Car name : BMW M3 '89 | Unfuctional Link : https://www.kudosprime.com/images/cars/missing.png\n",
      "Error opening image at index : 120 | Car name : Ferrari 308 GTB '75 | Unfuctional Link : https://www.kudosprime.com/images/cars/missing.png\n",
      "Error opening image at index : 208 | Car name : Jeep Willys MB '45 | Unfuctional Link : https://www.kudosprime.com/images/cars/missing.png\n",
      "Error opening image at index : 260 | Car name : Mercedes-Benz 300 SL (W194) Coupé '52 | Unfuctional Link : https://www.kudosprime.com/images/cars/missing.png\n",
      "Error opening image at index : 262 | Car name : Mercedes-Benz S Barker Tourer '29 | Unfuctional Link : https://www.kudosprime.com/images/cars/missing.png\n",
      "Error opening image at index : 282 | Car name : Nissan Fairlady Z 432 '69 | Unfuctional Link : https://www.kudosprime.com/images/cars/missing.png\n",
      "There are 8 pictures that cannot be displayed !\n"
     ]
    }
   ],
   "source": [
    "import requests\n",
    "from PIL import Image\n",
    "from io import BytesIO\n",
    "\n",
    "count = 0\n",
    "col_name = 'img_url'\n",
    "\n",
    "for index, row in df[[col_name]].iterrows():\n",
    "    try:\n",
    "        response = requests.get(row[col_name])\n",
    "        img = Image.open(BytesIO(response.content))\n",
    "    except IOError:\n",
    "        count += 1\n",
    "        print(f\"Error opening image at index : {index} | Car name : {df['model'][index]} | Unfuctional Link : {row[col_name]}\")\n",
    "\n",
    "print(f\"There are {count} pictures that cannot be displayed !\")\n"
   ]
  },
  {
   "cell_type": "markdown",
   "id": "4f13f72c",
   "metadata": {
    "papermill": {
     "duration": 0.010906,
     "end_time": "2023-02-14T16:52:46.814855",
     "exception": false,
     "start_time": "2023-02-14T16:52:46.803949",
     "status": "completed"
    },
    "tags": []
   },
   "source": [
    "### In several columns, such as \"category\", \"pp\", \"price\", \"hp\", and \"kg/kw\", there are strings that cause pandas to recognize them as objects. However, these columns contain numerical values that are necessary for calculations and visualisations. By this reason, the specified columns were cleaned of any specific strings using the ```.str.replace``` method. After removing the strings, the columns were converted into numerical values using the ```pd.to_numeric```."
   ]
  },
  {
   "cell_type": "code",
   "execution_count": 48,
   "id": "c9d79e55",
   "metadata": {
    "execution": {
     "iopub.execute_input": "2023-02-14T16:52:46.839021Z",
     "iopub.status.busy": "2023-02-14T16:52:46.838596Z",
     "iopub.status.idle": "2023-02-14T16:52:46.843735Z",
     "shell.execute_reply": "2023-02-14T16:52:46.842741Z"
    },
    "papermill": {
     "duration": 0.020031,
     "end_time": "2023-02-14T16:52:46.846053",
     "exception": false,
     "start_time": "2023-02-14T16:52:46.826022",
     "status": "completed"
    },
    "tags": []
   },
   "outputs": [],
   "source": [
    "replace_dict = {\n",
    "    'pp': ['PP '],\n",
    "    'price': ['Cr|≈|,'],\n",
    "    'hp': [','],\n",
    "    'kg/kw': ['Kg/Hp'],\n",
    "    'transmission': ['??']\n",
    "}\n"
   ]
  },
  {
   "cell_type": "code",
   "execution_count": 49,
   "id": "49ce93b2",
   "metadata": {
    "execution": {
     "iopub.execute_input": "2023-02-14T16:52:46.870480Z",
     "iopub.status.busy": "2023-02-14T16:52:46.870090Z",
     "iopub.status.idle": "2023-02-14T16:52:46.917453Z",
     "shell.execute_reply": "2023-02-14T16:52:46.916185Z"
    },
    "papermill": {
     "duration": 0.062818,
     "end_time": "2023-02-14T16:52:46.920025",
     "exception": false,
     "start_time": "2023-02-14T16:52:46.857207",
     "status": "completed"
    },
    "tags": []
   },
   "outputs": [],
   "source": [
    "def convert_obj_to_string(dataframe, replace_dict):\n",
    "    for key, value in replace_dict.items():\n",
    "        if key in ['pp', 'hp', 'kg/kw']:\n",
    "            df[key] = df[key].str.replace(value[0], \"\").apply(\n",
    "                pd.to_numeric, errors='coerce')\n",
    "        elif key == 'price':\n",
    "            df[key] = df[key].str.replace(value[0], \"\", regex=True).apply(\n",
    "                pd.to_numeric, errors='coerce')\n",
    "        elif key == 'category':\n",
    "            for element in value:\n",
    "                df[key] = df[key].str.replace(\n",
    "                    element, 'Racing Car', regex=True)\n",
    "                replace_unwanted_str(dataframe, key)\n",
    "        elif key == 'transmission':\n",
    "            df[key] = df[key].str.replace(\n",
    "                value[0], 'Not Specified', regex=False)\n",
    "        else:\n",
    "            print(\"The function isn't allowed to convert or replace string unintentionally, please create an argument that match your requested.\")\n",
    "\n",
    "\n",
    "convert_obj_to_string(df, replace_dict)\n"
   ]
  },
  {
   "cell_type": "code",
   "execution_count": 50,
   "id": "3c4f081a",
   "metadata": {
    "execution": {
     "iopub.execute_input": "2023-02-14T16:52:46.944741Z",
     "iopub.status.busy": "2023-02-14T16:52:46.943725Z",
     "iopub.status.idle": "2023-02-14T16:52:46.951442Z",
     "shell.execute_reply": "2023-02-14T16:52:46.950182Z"
    },
    "papermill": {
     "duration": 0.02266,
     "end_time": "2023-02-14T16:52:46.953822",
     "exception": false,
     "start_time": "2023-02-14T16:52:46.931162",
     "status": "completed"
    },
    "tags": []
   },
   "outputs": [],
   "source": [
    "df = df.rename(columns={\n",
    "    'model': 'Model',\n",
    "    'category': 'Category',\n",
    "    'sub_category': 'Sub_Category',\n",
    "    'pp': 'Performance Point (PP)',\n",
    "    'transmission': 'Transmission',\n",
    "    'price': 'Price (Cr.)',\n",
    "    'hp': 'Horse Power (HP)',\n",
    "    'lbs': 'Weight (lbs)',\n",
    "    'kg/kw': 'Power-to-weight ratio (kg/kw)'\n",
    "})\n"
   ]
  },
  {
   "cell_type": "markdown",
   "id": "c996526f",
   "metadata": {
    "papermill": {
     "duration": 0.011364,
     "end_time": "2023-02-14T16:52:46.976720",
     "exception": false,
     "start_time": "2023-02-14T16:52:46.965356",
     "status": "completed"
    },
    "tags": []
   },
   "source": [
    "---\n"
   ]
  },
  {
   "cell_type": "markdown",
   "id": "f30fda6a",
   "metadata": {
    "papermill": {
     "duration": 0.010819,
     "end_time": "2023-02-14T16:52:46.998713",
     "exception": false,
     "start_time": "2023-02-14T16:52:46.987894",
     "status": "completed"
    },
    "tags": []
   },
   "source": [
    "### I retrieved the data from the \"GitHub : [pcgeek86/Car Manufacturers.json](https://gist.github.com/pcgeek86/78f4cad29dd16961ceeeee654127a0db) repository. It contains a list of car manufacturers and can be used to distinguish between different models of cars by creating a new column named \"manufacturer\". By adding this column, it will be more beneficial for creating interactive charts and visualizations, as it provides more precise and accurate information about the car.\n",
    "\n",
    "### However, during the processes, there are some problems occured. When comparing the text in the manufacturer list and the car model. Some string are match inaccurately and given the wrong result. After investigated the data, I found that only the AMG series, and 4 cars that have a wrong result. Hence, I write if-else argument to correct these values manually."
   ]
  },
  {
   "cell_type": "code",
   "execution_count": 51,
   "id": "b958cce7",
   "metadata": {
    "execution": {
     "iopub.execute_input": "2023-02-14T16:52:47.022627Z",
     "iopub.status.busy": "2023-02-14T16:52:47.022181Z",
     "iopub.status.idle": "2023-02-14T16:52:47.564649Z",
     "shell.execute_reply": "2023-02-14T16:52:47.563454Z"
    },
    "papermill": {
     "duration": 0.557814,
     "end_time": "2023-02-14T16:52:47.567490",
     "exception": false,
     "start_time": "2023-02-14T16:52:47.009676",
     "status": "completed"
    },
    "tags": []
   },
   "outputs": [],
   "source": [
    "url = 'https://github.com/sc-matthew/EDA_Gran-Turismo/raw/main/car_manufacturer.csv'\n",
    "\n",
    "car_list = pd.read_csv(url, header=None, names=['Manufacturer'])\n",
    "# car_list\n"
   ]
  },
  {
   "cell_type": "code",
   "execution_count": 52,
   "id": "cee0e1c0",
   "metadata": {
    "execution": {
     "iopub.execute_input": "2023-02-14T16:52:47.592212Z",
     "iopub.status.busy": "2023-02-14T16:52:47.591682Z",
     "iopub.status.idle": "2023-02-14T16:52:47.597222Z",
     "shell.execute_reply": "2023-02-14T16:52:47.595749Z"
    },
    "papermill": {
     "duration": 0.020749,
     "end_time": "2023-02-14T16:52:47.599418",
     "exception": false,
     "start_time": "2023-02-14T16:52:47.578669",
     "status": "completed"
    },
    "tags": []
   },
   "outputs": [],
   "source": [
    "manual_edit_exception = {\n",
    "    \"Autobianchi A112 Abarth '85\": 'Other Manufacturers',\n",
    "    \"McLaren McLaren F1 GTR - BMW '95\": 'McLaren',\n",
    "    \"Mercedes-Benz SLR McLaren 2009\": 'Mercedes-Benz',\n",
    "    \"MINI MINI Clubman VGT\": 'Mini'\n",
    "}\n"
   ]
  },
  {
   "cell_type": "code",
   "execution_count": 53,
   "id": "c09a2f66",
   "metadata": {
    "execution": {
     "iopub.execute_input": "2023-02-14T16:52:47.623820Z",
     "iopub.status.busy": "2023-02-14T16:52:47.623430Z",
     "iopub.status.idle": "2023-02-14T16:52:47.727726Z",
     "shell.execute_reply": "2023-02-14T16:52:47.726431Z"
    },
    "papermill": {
     "duration": 0.119841,
     "end_time": "2023-02-14T16:52:47.730434",
     "exception": false,
     "start_time": "2023-02-14T16:52:47.610593",
     "status": "completed"
    },
    "tags": []
   },
   "outputs": [],
   "source": [
    "manufacturer_list = []\n",
    "\n",
    "for index, row in df[['Model']].iterrows():\n",
    "    manufacturer = \"Other Manufacturers\"\n",
    "\n",
    "    if row['Model'] in manual_edit_exception:\n",
    "        manufacturer = manual_edit_exception[row['Model']]\n",
    "\n",
    "    elif row['Model'][0:3] == 'AMG':\n",
    "        manufacturer = 'Mercedes-Benz'\n",
    "\n",
    "    else:\n",
    "        for brand in car_list['Manufacturer']:\n",
    "            if brand in row['Model']:\n",
    "                manufacturer = brand\n",
    "                break\n",
    "\n",
    "    manufacturer_list.append(manufacturer)\n",
    "\n",
    "df.insert(loc=0, column='Manufacturer', value=manufacturer_list)\n"
   ]
  },
  {
   "cell_type": "code",
   "execution_count": 54,
   "id": "99902255",
   "metadata": {
    "execution": {
     "iopub.execute_input": "2023-02-14T16:52:47.754696Z",
     "iopub.status.busy": "2023-02-14T16:52:47.754306Z",
     "iopub.status.idle": "2023-02-14T16:52:47.774572Z",
     "shell.execute_reply": "2023-02-14T16:52:47.773351Z"
    },
    "papermill": {
     "duration": 0.03571,
     "end_time": "2023-02-14T16:52:47.777491",
     "exception": false,
     "start_time": "2023-02-14T16:52:47.741781",
     "status": "completed"
    },
    "tags": []
   },
   "outputs": [
    {
     "name": "stdout",
     "output_type": "stream",
     "text": [
      "<class 'pandas.core.frame.DataFrame'>\n",
      "RangeIndex: 425 entries, 0 to 424\n",
      "Data columns (total 11 columns):\n",
      " #   Column                         Non-Null Count  Dtype  \n",
      "---  ------                         --------------  -----  \n",
      " 0   Manufacturer                   425 non-null    object \n",
      " 1   Model                          425 non-null    object \n",
      " 2   Category                       425 non-null    object \n",
      " 3   Sub_Category                   93 non-null     object \n",
      " 4   Performance Point (PP)         373 non-null    float64\n",
      " 5   Transmission                   425 non-null    object \n",
      " 6   Price (Cr.)                    358 non-null    float64\n",
      " 7   Horse Power (HP)               410 non-null    float64\n",
      " 8   Weight (lbs)                   409 non-null    float64\n",
      " 9   Power-to-weight ratio (kg/kw)  409 non-null    float64\n",
      " 10  img_url                        425 non-null    object \n",
      "dtypes: float64(5), object(6)\n",
      "memory usage: 36.6+ KB\n"
     ]
    }
   ],
   "source": [
    "df.info()\n"
   ]
  },
  {
   "cell_type": "markdown",
   "id": "6237419d",
   "metadata": {
    "papermill": {
     "duration": 0.010845,
     "end_time": "2023-02-14T16:52:47.799482",
     "exception": false,
     "start_time": "2023-02-14T16:52:47.788637",
     "status": "completed"
    },
    "tags": []
   },
   "source": [
    "### However, all the data is in the correct format already as we desired. But, there is still the problem with the outlier data, which can influence our result in the big picture. After investigation, I found that there are three car models which are influential point and decided to remove of the DataFrame which are:\n",
    "   * McLaren McLaren F1 '94\n",
    "   * Porsche 917K '70\n",
    "   * Dodge SRT Tomahawk X VGT\n",
    "\n",
    "    "
   ]
  },
  {
   "cell_type": "code",
   "execution_count": 55,
   "id": "e5d0220b",
   "metadata": {
    "execution": {
     "iopub.execute_input": "2023-02-14T16:52:47.823560Z",
     "iopub.status.busy": "2023-02-14T16:52:47.823185Z",
     "iopub.status.idle": "2023-02-14T16:52:47.831291Z",
     "shell.execute_reply": "2023-02-14T16:52:47.829865Z"
    },
    "papermill": {
     "duration": 0.023019,
     "end_time": "2023-02-14T16:52:47.833673",
     "exception": false,
     "start_time": "2023-02-14T16:52:47.810654",
     "status": "completed"
    },
    "tags": []
   },
   "outputs": [],
   "source": [
    "df = df[(df['Model'] != \"McLaren McLaren F1 '94\") & (df['Model'] !=\n",
    "                                                     \"Porsche 917K '70\") & (df['Model'] != \"Dodge SRT Tomahawk X VGT\")]\n"
   ]
  },
  {
   "cell_type": "markdown",
   "id": "5909fbc8",
   "metadata": {
    "papermill": {
     "duration": 0.010954,
     "end_time": "2023-02-14T16:52:47.856235",
     "exception": false,
     "start_time": "2023-02-14T16:52:47.845281",
     "status": "completed"
    },
    "tags": []
   },
   "source": [
    "---\n",
    "# Part II: Visualisations"
   ]
  },
  {
   "cell_type": "markdown",
   "id": "8677451e",
   "metadata": {
    "papermill": {
     "duration": 0.011115,
     "end_time": "2023-02-14T16:52:47.878548",
     "exception": false,
     "start_time": "2023-02-14T16:52:47.867433",
     "status": "completed"
    },
    "tags": []
   },
   "source": [
    "## Explanation of Technical Terms:\n",
    ">To ensure the audience's understanding, author will explain technical terms to make sure we are all the same page.\n",
    "   \n",
    "   ### Dimension : Sub-Category\n",
    "   > * Car Types\n",
    "       • Midship : A midship car is a vehicle that has its engine located in the middle and also known as mid-engine cars.\n",
    "       • Concept Car : A concept car is a prototype or mock-up of an automobile design, which is not realistic at that moment.\n",
    "       • Vision Gran Turismo & Grand Turismo Award : A series of virtual concept cars created specifically for the \"Gran Turismo\" video game franchise.\n",
    "       • Safety Car : In motorsport, a safety car is an automobile which limits the speed of competing cars or motorcycles on a racetrack in the case of a caution period.\n",
    "       • GT500 : the top class of Super GT, the top-level sports car racing series in Japan.\n",
    "   > * Car Races\n",
    "       • Le Mans : It is an endurance-focused sports car race held annually near the town of Le Mans, France.\n",
    "       • Nürburgring 24 Hours : It is a 24-hour annual touring car and GT endurance racing event that takes place in Germany.\n",
    "       \n",
    "   ### Dimension : Transmission (Source: GTPlanet webboard by [JockeP22 in respond #4](https://www.gtplanet.net/forum/threads/ff-fr-mr.327739/))\n",
    "   > * Normally, Transmission have 2 digits, \"AB\" and having the same meaning regardless the the category of the car (Racing, Road, Unknown).\n",
    "       • On the first digit \"A\" -> Indicates where a car's engine is located\n",
    "       • On the second digit \"B\" -> Indicates where engine powers going to (Front, Rear Wheels)\n",
    "           • FF (Front Engine/Front-Wheel Drive): Both steering and transmission of engine power are done entirely through the front wheels.\n",
    "           • FR (Front Engine/Rear-Wheel Drive): Steering is done through the front wheels, while engine power is transmitted through the rear wheels.\n",
    "           • MR (Mid-Engine/Rear-Wheel Drive: The engine is located in the middle of the car's body, making this type of drivetrain excellent for cornering. It is relatively well-suited to high-powered engines, and is often used in racing cars.\n",
    "           • RR (Rear Engine/Rear-Wheel Drive): With this type of drivetrain, the engine is placed even farther back than the rear wheels which power the car. \n",
    "           • 4WD (Four-Wheel Drive): The engine's power is transmitted through all four wheels. The amount of stress placed on each tire is reduced, meaning that this type of drivetrain is well-suited to high-powered engines."
   ]
  },
  {
   "cell_type": "code",
   "execution_count": 56,
   "id": "1c7bd990",
   "metadata": {
    "execution": {
     "iopub.execute_input": "2023-02-14T16:52:47.903189Z",
     "iopub.status.busy": "2023-02-14T16:52:47.902414Z",
     "iopub.status.idle": "2023-02-14T16:52:48.226043Z",
     "shell.execute_reply": "2023-02-14T16:52:48.224734Z"
    },
    "papermill": {
     "duration": 0.33977,
     "end_time": "2023-02-14T16:52:48.229453",
     "exception": false,
     "start_time": "2023-02-14T16:52:47.889683",
     "status": "completed"
    },
    "tags": []
   },
   "outputs": [
    {
     "data": {
      "application/vnd.jupyter.widget-view+json": {
       "model_id": "7f97e91a3a9643068d224f76bc0e68d7",
       "version_major": 2,
       "version_minor": 0
      },
      "text/plain": [
       "interactive(children=(Dropdown(description='Dimension', index=1, options=('Category', 'Sub-Category', 'Transmi…"
      ]
     },
     "metadata": {},
     "output_type": "display_data"
    }
   ],
   "source": [
    "type_list = [\"Category\", \"Sub-Category\", \"Transmission\"]\n",
    "df_countplot = df[(df['Category'] != 'Categories unknown') &\n",
    "                  (df['Transmission'] != 'Not Specified')]\n",
    "\n",
    "@interact(Dimension=type_list)\n",
    "def display_item(Dimension = 'Sub-Category'):\n",
    "    plt.figure(figsize=(12, 8))\n",
    "    if Dimension in [\"Category\", \"Sub-Category\"]:\n",
    "        if Dimension == \"Category\":\n",
    "            data = Category_Dict\n",
    "            plt.title(\"Count of Car Types by Category\", fontsize=16)\n",
    "        else:\n",
    "            data = Sub_Category_Dict\n",
    "            plt.title(\"Count of Car Types by Sub-Category\", fontsize=16)\n",
    "\n",
    "        df = pd.DataFrame.from_dict(data, orient='index', columns=['Count'])\n",
    "        df = df.sort_values(by='Count', ascending=False)\n",
    "        color = ['tab:red' if i < 3 else 'tab:grey' for i in range(len(df))]\n",
    "        sns.barplot(x=df['Count'], y=df.index, orient=\"h\", palette=color)\n",
    "        plt.show()\n",
    "    else:\n",
    "        sns.countplot(x='Category', data=df_countplot,\n",
    "                      order=df_countplot['Category'].unique(), hue='Transmission')\n",
    "        plt.title(\"Count of Transmission by Category\", fontsize=16)\n",
    "        plt.xlabel(\"Category\", fontsize=16)\n",
    "        plt.show()\n"
   ]
  },
  {
   "cell_type": "markdown",
   "id": "c8b89681",
   "metadata": {
    "papermill": {
     "duration": 0.010785,
     "end_time": "2023-02-14T16:52:48.253840",
     "exception": false,
     "start_time": "2023-02-14T16:52:48.243055",
     "status": "completed"
    },
    "tags": []
   },
   "source": [
    "### Correlation : It is a value that indicates the relationship of the variable 2, where the correlation coefficient is between -1.0 to +1.0. If it is found that the r value is close to -1.0, it means that the two variables are related in the opposite direction. On the contrary, if the r value approaches +1.0, it means that both variables are related in the same direction. But if the two variables have a correlation coefficient equal to 0, then the two variables are not related."
   ]
  },
  {
   "cell_type": "code",
   "execution_count": 57,
   "id": "fd608095",
   "metadata": {
    "execution": {
     "iopub.execute_input": "2023-02-14T16:52:48.278672Z",
     "iopub.status.busy": "2023-02-14T16:52:48.278129Z",
     "iopub.status.idle": "2023-02-14T16:52:48.679895Z",
     "shell.execute_reply": "2023-02-14T16:52:48.679138Z"
    },
    "papermill": {
     "duration": 0.416961,
     "end_time": "2023-02-14T16:52:48.682111",
     "exception": false,
     "start_time": "2023-02-14T16:52:48.265150",
     "status": "completed"
    },
    "tags": []
   },
   "outputs": [
    {
     "data": {
      "image/png": "[encoded data removed]",
      "text/plain": [
       "<Figure size 1500x1200 with 2 Axes>"
      ]
     },
     "metadata": {},
     "output_type": "display_data"
    }
   ],
   "source": [
    "corr_df = df[df.columns[df.columns.isin(\n",
    "    ['Performance Point (PP)', 'Price (Cr.)', 'Horse Power (HP)', 'Weight (lbs)', 'Power-to-weight ratio (kg/kw)'])]]\n",
    "corr_df.columns = ['Performance Point', 'Price',\n",
    "                   'Horse Power', 'Weight', 'Power-to-weight ratio']\n",
    "\n",
    "sb_corr = corr_df.corr()\n",
    "plt.figure(figsize=(15, 12))\n",
    "sns.heatmap(sb_corr, cmap='Greens', annot=True, annot_kws={\"size\": 24})\n",
    "\n",
    "plt.xticks(rotation=45)\n",
    "plt.yticks(rotation=0)\n",
    "plt.show()\n"
   ]
  },
  {
   "cell_type": "code",
   "execution_count": 58,
   "id": "4d95f916",
   "metadata": {
    "execution": {
     "iopub.execute_input": "2023-02-14T16:52:48.709224Z",
     "iopub.status.busy": "2023-02-14T16:52:48.708148Z",
     "iopub.status.idle": "2023-02-14T16:52:50.176427Z",
     "shell.execute_reply": "2023-02-14T16:52:50.173097Z"
    },
    "papermill": {
     "duration": 1.48477,
     "end_time": "2023-02-14T16:52:50.179563",
     "exception": false,
     "start_time": "2023-02-14T16:52:48.694793",
     "status": "completed"
    },
    "tags": []
   },
   "outputs": [
    {
     "data": {
      "application/vnd.jupyter.widget-view+json": {
       "model_id": "3374b4258e8d4d4995ede0118d489011",
       "version_major": 2,
       "version_minor": 0
      },
      "text/plain": [
       "interactive(children=(Dropdown(description='x_axis', options=('Performance Point (PP)', 'Price (Cr.)', 'Horse …"
      ]
     },
     "metadata": {},
     "output_type": "display_data"
    },
    {
     "data": {
      "application/vnd.plotly.v1+json": {
       "config": {
        "plotlyServerURL": "https://plot.ly"
       },
       "data": [
        {
         "hovertemplate": "Performance Point (PP)=%{x}<br>Horse Power (HP)=%{y}<br>Model=%{text}<extra></extra>",
         "legendgroup": "",
         "marker": {
          "color": "red",
          "size": 10,
          "symbol": "circle"
         },
         "mode": "markers",
         "name": "",
         "orientation": "v",
         "showlegend": false,
         "text": [
          "Abarth 1500 Biposto Bertone B.A.T 1 '52",
          "Abarth 500 '09",
          "Abarth 595 SS '70",
          "Alfa Romeo 155 2.5 V6 TI '93",
          "Alfa Romeo 4C '14",
          "Alfa Romeo 4C Gr.3",
          "Alfa Romeo 4C Gr.3 Road Car",
          "Alfa Romeo 4C Gr.4",
          "Alfa Romeo 8C 2900B Touring Berlinetta '38",
          "Alfa Romeo 8C Competizione '08",
          "Alfa Romeo GIULIA TZ2 carrozzata da ZAGATO '65",
          "Alfa Romeo MiTo '09",
          "Alpine A110 '17",
          "Alpine A110 '72",
          "Alpine A220 Race Car '68",
          "Alpine Alpine VGT",
          "Alpine Alpine VGT '17",
          "Alpine Alpine VGT Race",
          "AMG 300 SEL 6.8 AMG '71",
          "AMG A 45 AMG '13",
          "AMG CLK-LM '98",
          "AMG Mercedes-AMG C 63 S '15",
          "AMG Mercedes-AMG GT Black Series '20",
          "AMG Mercedes-AMG GT R '17",
          "AMG Mercedes-AMG GT S '15",
          "AMG Mercedes-AMG GT Safety Car",
          "AMG Mercedes-AMG GT3 '16",
          "AMG Mercedes-Benz AMG VGT",
          "AMG Mercedes-Benz AMG VGT Racing Series",
          "AMG SLS AMG '10",
          "AMG SLS AMG GR.4",
          "AMG SLS AMG GT3 '11",
          "Amuse Amuse NISMO 380RS Super Leggera",
          "Amuse S2000 GT1 Turbo",
          "Aston Martin DB11 '16",
          "Aston Martin DB3S '53",
          "Aston Martin DB5 '64",
          "Aston Martin DBR9 GT1 '10",
          "Aston Martin DP-100 VGT",
          "Aston Martin One-77 '11",
          "Aston Martin V12 Vantage GT3 '12",
          "Aston Martin V8 Vantage GR.4",
          "Aston Martin V8 Vantage S '15",
          "Aston Martin Vulcan '16",
          "Audi Audi e-tron VGT",
          "Audi Audi VGT",
          "Audi R18 '16",
          "Audi R18 TDI '11",
          "Audi R8 4.2 '07",
          "Audi R8 LMS '15",
          "Audi R8 LMS Evo '19",
          "Audi Sport Quattro S1 Pikes Peak '87",
          "Audi TT Coupé 3.2 quattro '03",
          "Audi TT CUP '16",
          "Audi TTS Coupé '14",
          "Autobianchi A112 Abarth '85",
          "BAC Mono '16",
          "BMW 3.0 CSL '71",
          "BMW 3.0 CSL '73",
          "BMW BMW VGT",
          "BMW i3 2015",
          "BMW M3 '03",
          "BMW M3 '07",
          "BMW M3 '89",
          "BMW M3 GT '11",
          "BMW M3 Sport Evolution '89",
          "BMW M4 '14",
          "BMW M4 GR.4",
          "BMW M4 Safety Car",
          "BMW M6 GT3 Endurance Model '16",
          "BMW M6 GT3 Sprint Model '16",
          "BMW McLaren F1 GTR Race Car '97",
          "BMW Z4 GT3 '11",
          "BMW Z8 '01",
          "Bugatti Bugatti VGT",
          "Bugatti Bugatti VGT (GR.1)",
          "Bugatti Veyron 16.4 '13",
          "Bugatti Veyron Gr.4",
          "Chaparral 2J '70",
          "Chaparral Chevrolet Chaparral 2X VGT",
          "Chevrolet Camaro SS '16",
          "Chevrolet Camaro Z28 '69",
          "Chevrolet Camaro ZL1 1LE Package '18",
          "Chevrolet Corvette (C2) '63",
          "Chevrolet Corvette C7 '14",
          "Chevrolet Corvette C7 Gr.3",
          "Chevrolet Corvette C7 Gr.3 Road Car",
          "Chevrolet Corvette C7 Gr.4",
          "Chevrolet Corvette C7 ZR1 '19",
          "Chevrolet Corvette Convertible (C3) '69",
          "Chevrolet Corvette Stingray (C3) '69",
          "Chevrolet Corvette Stingray Racer Concept '59",
          "Chevrolet Corvette ZR-1 (C4) '89",
          "Chevrolet Corvette ZR1 (C6) '09",
          "Chris Holstrom Concepts CHC 1967 Chevy Nova",
          "Citroen GT BY Citroën GR.4",
          "Citroen GT by Citroën Race Car (Gr.3)",
          "Citroen GT by Citroën Road Car",
          "Daihatsu Copen '02",
          "Daihatsu COPEN RJ VGT",
          "De Tomaso Mangusta '69",
          "De Tomaso Pantera '71",
          "DMC DeLorean S2 '04",
          "Dodge Challenger R/T '70",
          "Dodge Charger SRT Hellcat '15",
          "Dodge Charger SRT Hellcat Safety Car",
          "Dodge SRT Tomahawk GTS-R VGT",
          "Dodge SRT Tomahawk S VGT",
          "Dodge SRT Tomahawk VGT (Gr.1)",
          "Dodge Super Bee '70",
          "Dodge Viper Gr.4",
          "Dodge Viper GTS '02",
          "Dodge Viper GTS '13",
          "Dodge Viper SRT GT3-R '15",
          "Dodge Viper SRT10 Coupe '06",
          "DS Automobiles DS3 Racing '11",
          "Eckert's Rod & Customs Mach Forty",
          "Ferrari 250 GT Berlinetta passo corto '61",
          "Ferrari 250 GTO '62",
          "Ferrari 308 GTB '75",
          "Ferrari 330 P4 '67",
          "Ferrari 365 GTB4 '71",
          "Ferrari 458 Italia '09",
          "Ferrari 458 Italia Gr.4",
          "Ferrari 458 Italia GT3 '13",
          "Ferrari 500 Mondial Pinin Farina '54",
          "Ferrari 512 BB '76",
          "Ferrari Dino 246 GT '71",
          "Ferrari Enzo Ferrari '02",
          "Ferrari F12berlinetta '12",
          "Ferrari F40 '92",
          "Ferrari F430 '06",
          "Ferrari F50 '95",
          "Ferrari F8 Tributo '19",
          "Ferrari FXX K' '14",
          "Ferrari GTO '84",
          "Ferrari LaFerrari '13",
          "Ferrari Testarossa '91",
          "Fiat 500 1.2 8V Lounge SS '08",
          "Fiat 500 F '68",
          "Ford F-150 SVT Raptor '11",
          "Ford Focus Gr.B Rally Car",
          "Ford Focus RS '18",
          "Ford Focus ST '15",
          "Ford Ford GT '06",
          "Ford Ford GT '17",
          "Ford GT LM Race Car Spec II",
          "Ford GT LM Spec II Test Car",
          "Ford GT40 GT Race Car '18",
          "Ford GT40 Mark I '66",
          "Ford Mark IV Race Car '67",
          "Ford Mustang Boss 429 '69",
          "Ford Mustang Gr.3",
          "Ford Mustang Gr.3 Road Car",
          "Ford Mustang Gr.4",
          "Ford Mustang Gr.B Rally Car",
          "Ford Mustang GT '15",
          "Ford Mustang Mach 1 '71",
          "Ford Shelby GT350R '16",
          "Genesis G70 3.3T AWD P.Package '22",
          "Genesis G70 GR4",
          "Genesis Genesis X GR3",
          "Gran Turismo F1500T-A",
          "Gran Turismo Racing Kart 125 Shifter",
          "Gran Turismo Red Bull X2014 Junior",
          "Gran Turismo Red Bull X2014 Standard",
          "Gran Turismo Red Bull X2019 Competition",
          "Greddy Greddy Fugu Z",
          "Honda 2&4 powered by RC213V",
          "Honda Beat '91",
          "Honda Civic Type R (EK) '97",
          "Honda Civic Type R (EK) '98",
          "Honda Civic Type R (EK) Touring Car",
          "Honda Civic Type R (FK2) '15",
          "Honda Civic Type R Limited Edition (FK8) '20",
          "Honda Fit Hybrid '14",
          "Honda Honda Sports VGT",
          "Honda Integra Type R (DC2) '95",
          "Honda Integra Type R (DC2) '98",
          "Honda NSX '17",
          "Honda NSX CONCEPT-GT '16",
          "Honda NSX Gr.3",
          "Honda NSX Gr.4",
          "Honda NSX Gr.B Rally Car",
          "Honda NSX GT500 '08",
          "Honda NSX Type R '02",
          "Honda NSX Type R '92",
          "Honda S2000 '99",
          "Honda S660 '15",
          "Honda S800 '66",
          "Hyundai Genesis Coupe 3.8 '13",
          "Hyundai Genesis Gr.3",
          "Hyundai Genesis Gr.4",
          "Hyundai Genesis GR.B Rally Car",
          "Hyundai HYUNDAI N 2025 VGT",
          "Hyundai HYUNDAI N 2025 VGT (Gr.1)",
          "Infiniti INFINITI CONCEPT VGT",
          "Jaguar D-Type '54",
          "Jaguar E-Type Coupé '61",
          "Jaguar F-Type Gr.3",
          "Jaguar F-Type Gr.4",
          "Jaguar F-Type R '14",
          "Jaguar Jaguar VFT SV",
          "Jaguar Jaguar VGT Coupé",
          "Jaguar Jaguar VGT Roadster",
          "Jaguar XJ13 '66",
          "Jaguar XJR-9 '88",
          "Jeep Willys MB '45",
          "KTM X-BOW R '12",
          "Lamborghini Aventador LP 700-4 '11",
          "Lamborghini Aventador LP 750-4 SV '15",
          "Lamborghini Countach 25th Anniversary '88",
          "Lamborghini Countach LP400 '74",
          "Lamborghini Diablo GT '00",
          "Lamborghini Huracán Gr.4",
          "Lamborghini Huracán GT3 '15",
          "Lamborghini Huracán LP 610-4 '15",
          "Lamborghini Lambo V12 VGT",
          "Lamborghini Miura P400 Bertone Prototype '67",
          "Lamborghini Murciélago LP 640 '09",
          "Lamborghini Veneno '14",
          "Lancia Delta HF Integrale Evoluzione '91",
          "Lancia Stratos '73",
          "Lexus LC500 '17",
          "Lexus LF-LC GT VGT",
          "Lexus R CF Gr.4",
          "Lexus RC F '14",
          "Lexus RC F GT3 '17",
          "Lexus RC F GT3 prototype '16",
          "Lexus RC F GT500 '16",
          "Lexus SC430 GT500 '08",
          "Maserati GranTurismo S '08",
          "Mazda 787B '91",
          "Mazda Atenza Gr.3",
          "Mazda Atenza Gr.3 Road Car",
          "Mazda Atenza Gr.4",
          "Mazda Atenza Sedan XD L Package '15",
          "Mazda Demio XD Touring '15",
          "Mazda Eunos Roadster (NA) '89",
          "Mazda LM55 VGT",
          "Mazda LM55 VGT (Gr.1)",
          "Mazda Roadster S (ND) '15",
          "Mazda Roadster Touring Car",
          "Mazda RX-7 GT-X (FC) '90",
          "Mazda RX-7 Spirit R Type A (FD) '02",
          "Mazda RX-8 Spirit R '12",
          "Mazda RX-Vision '15",
          "Mazda RX-VISION GT3 CONCEPT",
          "Mazda RX-VISION GT3 CONCEPT Stealth Model",
          "Mazda RX500 '70",
          "McLaren 650S '14",
          "McLaren 650S Gr.4",
          "McLaren 650S GT3 '15",
          "McLaren McLaren F1 GTR - BMW '95",
          "McLaren McLaren P1 GTR '16",
          "McLaren McLaren VGT",
          "McLaren McLaren VGT (Gr.1)",
          "McLaren MP4-12C '10",
          "Mercedes-Benz 300 SL (W194) Coupé '52",
          "Mercedes-Benz 300 SL Coupé '54",
          "Mercedes-Benz S Barker Tourer '29",
          "Mercedes-Benz Sauber Mercedes C9 '89",
          "Mercedes-Benz SLR McLaren 2009",
          "MINI MINI Clubman VGT",
          "MINI Mini Cooper S '05",
          "MINI Mini-Cooper 'S' '65",
          "Mitsubishi Concept XR-PHEV EVOLUTION VGT",
          "Mitsubishi GTO Twin Turbo '91",
          "Mitsubishi Lancer Evolution Final '15",
          "Mitsubishi Lancer Evolution Final Gr.3",
          "Mitsubishi Lancer Evolution Final Gr.4",
          "Mitsubishi Lancer Evolution Final Gr.B Rally Car",
          "Mitsubishi Lancer Evolution Final Gr.B Road Car",
          "Mitsubishi Lancer Evolution IV GSR '96",
          "Mitsubishi Lancer Evolution V GSR '98",
          "Mitsubishi Lancer Evolution VI GSR T.M. SCP '99",
          "Nissan 180SX Type X '96",
          "Nissan Fairlady 240ZG (HS30) '71",
          "Nissan Fairlady Z (Z34) '08",
          "Nissan Fairlady Z 300ZX TT 2seater '89",
          "Nissan Fairlady Z 432 '69",
          "Nissan Fairlady Z Version S (Z33) '07",
          "Nissan GT-R '17",
          "Nissan GT-R GR.4",
          "Nissan GT-R Gr.B Rally Car",
          "Nissan GT-R GT500 '08",
          "Nissan GT-R LM NISMO '15",
          "Nissan GT-R NISMO '17",
          "Nissan GT-R NISMO GT3 '13",
          "Nissan GT-R NISMO GT500 '16",
          "Nissan GT-R Safety Car",
          "Nissan GT-T GT500 '99",
          "Nissan NISSAN CONCEPT 2020 VGT",
          "Nissan R32 GT-R V-spec II '94",
          "Nissan R33 GT-R V-spec '97",
          "Nissan R34 GT-R V-spec II Nür '02",
          "Nissan R92CP '92",
          "Nissan Sileighty '98",
          "Nissan Silvia K's Dia Selection (S13) '90",
          "Nissan Silvia Q's (S13) '88",
          "Nissan SILVIA spec-R Aero (S15) '02",
          "Nissan Silvia spec-R Aero (S15) Touring Car",
          "Nissan Skyline Hard Top 2000GT-R (KPGC10) '70",
          "Nissan Z Performance '23",
          "Pagani Huayra '13",
          "Pagani Zonda R '09",
          "Peugeot 205 Turbo 16 Evolution 2 '86",
          "Peugeot 208 GTI by Peugeot Sport '14",
          "Peugeot 908 HDi FAP '10",
          "Peugeot L500R HYbrid VGT 2017",
          "Peugeot L750R HYbrid VGT 2017",
          "Peugeot PEUGEOT VGT",
          "Peugeot PEUGEOT VGT Gr.3",
          "Peugeot RCZ Gr.3",
          "Peugeot RCZ Gr.3 Road Car",
          "Peugeot RCZ Gr.4",
          "Peugeot RCZ Gr.B Rally Car",
          "Peugeot RCZ GT Line '15",
          "Plymouth Superbird '70",
          "Plymouth XNR Ghia Roadster '60",
          "Pontiac Firebird Trans Am '78",
          "Porsche 356 A/1500 GS Carrera '56",
          "Porsche 356 A/1500 GS GT Carrera Speedster '56",
          "Porsche 911 Carrera RS (964) '92",
          "Porsche 911 Carrera RS (993) '95",
          "Porsche 911 Carrera RS CS (993) '95",
          "Porsche 911 GT1 Strassenversion '97",
          "Porsche 911 GT3 (996) '01",
          "Porsche 911 GT3 (997) '09",
          "Porsche 911 GT3 RS (991) '16",
          "Porsche 911 RSR (991) '17",
          "Porsche 911 Turbo (930) '81",
          "Porsche 917K LIVING LEGEND",
          "Porsche 919 Hybrid '16",
          "Porsche 962 C '88",
          "Porsche Carrera GT '04",
          "Porsche Cayman GT4 Clubsport '16",
          "Porsche Porsche VGT",
          "Porsche Spyder type 550/1500RS '55",
          "Porsche TAYCAN TURBO S 2019",
          "Radical SR3 SL '13",
          "RE Amemiya FD3S RX-7",
          "Renault Clio R.S. 220 Trophy '15",
          "Renault Clio R.S. 220 Trophy '16",
          "Renault Clio V6 24V '00",
          "Renault Mégane Gr.4",
          "Renault Mégane R.S. Trophy '11",
          "Renault Mégane RS Trophy Safety Car",
          "Renault Mégane Trophy '11",
          "Renault R.S.01 '16",
          "Renault R.S.01 GT3 '16",
          "Renault R5 Turbo '80",
          "Renault R8 GORDINI '66",
          "RUF CTR3 '07",
          "Shelby Cobra 427 '66",
          "Shelby Cobra Daytona Coupe '64",
          "Shelby G.T.350 '65",
          "Subaru BRZ Drift Car '17",
          "Subaru BRZ S '15",
          "Subaru BRZ STI Sport '18",
          "Subaru Impreza 22B-STi '98",
          "Subaru Impreza Coupe WRX Type R STi Ver.VI '99",
          "Subaru VIZIV GT VGT",
          "Subaru WRX Gr.3",
          "Subaru WRX Gr.4",
          "Subaru WRX Gr.B Rally Car",
          "Subaru WRX Gr.B Road Car",
          "Subaru WRX STI Isle of Man '16",
          "Subaru WRX STI Type S '14",
          "Super Formula SF19 Super Formula / Honda '19",
          "Super Formula SF19 Super Formula / Toyota '19",
          "Suzuki Swift Sport '07",
          "Suzuki Swift Sport '17",
          "Suzuki Swift Sport Gr.4",
          "Tesla Model S Signature Performance '12",
          "Toyota 2000GT '67",
          "Toyota 86 Gr.4",
          "Toyota 86 Gr.B Rally Car",
          "Toyota 86 GRMN '16",
          "Toyota 86 GT '15",
          "Toyota 86 GT\"Limited\" '16",
          "Toyota Aqua S '11",
          "Toyota Celica GT-Four (ST205) '94",
          "Toyota Corolla Levin 1600GT APEX (AE86) '83",
          "Toyota Crown Athlete G '13",
          "Toyota Crown Athlete G Safety Car",
          "Toyota FT-1",
          "Toyota FT-1 VGT",
          "Toyota FT-1 VGT (Gr.3)",
          "Toyota GR Supra Race Car '19",
          "Toyota GR Supra Racing Concept '18",
          "Toyota GR Supra RZ '19",
          "Toyota GR Supra RZ '20",
          "Toyota GR Yaris RZ \"High performance\" '20",
          "Toyota GR86 '21",
          "Toyota MR2 GT-S '97",
          "Toyota Prius G '09",
          "Toyota S-FR '15",
          "Toyota S-FR Racing Concept '16",
          "Toyota Sports 800 '65",
          "Toyota Sprinter Trueno 1600GT APEX (AE86) '83",
          "Toyota Sprinter Trueno 1600GT APEX (S.Shigeno Version)",
          "Toyota Supra 3.0GT Turbo A '88",
          "Toyota Supra GT500 '97",
          "Toyota Supra RZ '97",
          "Toyota TS030 Hybrid '12",
          "Toyota TS050 - Hybrid '16",
          "Toyota Tundra TRD Pro '19",
          "TVR Tuscan Speed 6 '00",
          "Volkswagen Beetle Gr.3",
          "Volkswagen Golf I GTI '83",
          "Volkswagen Golf VII GTI '14",
          "Volkswagen GTI Roadster VGT",
          "Volkswagen GTI Supersport VGT",
          "Volkswagen GTI VGT (Gr.3)",
          "Volkswagen Polo GTI '14",
          "Volkswagen Sambabus Typ 2 '62",
          "Volkswagen Scirocco Gr.4",
          "Volkswagen Scirocco R '10",
          "Volkswagen Volkswagen 1200 '66",
          "Wicked Fabrication Wicked Fabrication GT 51",
          "Zagato IsoRivolta Zagato VGT"
         ],
         "type": "scatter",
         "x": [
          null,
          377,
          184,
          673,
          523,
          724,
          556,
          627,
          null,
          555,
          null,
          396,
          522,
          405,
          null,
          656,
          906,
          744,
          null,
          518,
          null,
          571,
          663,
          595,
          577,
          586,
          740,
          644,
          737,
          587,
          646,
          735,
          552,
          662,
          578,
          null,
          null,
          751,
          718,
          626,
          742,
          644,
          552,
          756,
          848,
          927,
          924,
          898,
          558,
          754,
          752,
          null,
          462,
          638,
          513,
          299,
          641,
          399,
          416,
          723,
          386,
          522,
          533,
          null,
          725,
          455,
          562,
          627,
          563,
          732,
          732,
          null,
          723,
          535,
          906,
          940,
          664,
          640,
          874,
          1032,
          553,
          433,
          621,
          482,
          571,
          728,
          570,
          649,
          641,
          443,
          null,
          null,
          502,
          603,
          608,
          653,
          762,
          589,
          279,
          484,
          476,
          462,
          434,
          463,
          591,
          592,
          1140,
          916,
          946,
          429,
          649,
          554,
          592,
          756,
          571,
          438,
          626,
          null,
          null,
          null,
          null,
          null,
          609,
          639,
          747,
          463,
          514,
          436,
          655,
          634,
          603,
          591,
          609,
          687,
          812,
          null,
          738,
          null,
          267,
          86,
          417,
          651,
          514,
          491,
          597,
          621,
          752,
          760,
          734,
          549,
          708,
          486,
          726,
          559,
          639,
          651,
          536,
          428,
          574,
          502,
          653,
          724,
          909,
          587,
          699,
          1066,
          958,
          542,
          555,
          310,
          413,
          414,
          519,
          505,
          517,
          328,
          658,
          431,
          435,
          577,
          855,
          729,
          647,
          656,
          804,
          526,
          522,
          475,
          331,
          272,
          503,
          730,
          633,
          648,
          1000,
          929,
          643,
          null,
          430,
          727,
          642,
          566,
          1035,
          750,
          748,
          704,
          null,
          197,
          600,
          628,
          665,
          521,
          null,
          589,
          664,
          754,
          624,
          820,
          null,
          608,
          692,
          395,
          434,
          544,
          851,
          640,
          543,
          721,
          721,
          852,
          803,
          539,
          null,
          727,
          559,
          618,
          360,
          310,
          368,
          970,
          926,
          403,
          515,
          437,
          516,
          487,
          626,
          740,
          740,
          null,
          629,
          638,
          728,
          null,
          797,
          989,
          935,
          620,
          null,
          null,
          null,
          878,
          595,
          660,
          419,
          251,
          699,
          451,
          503,
          731,
          628,
          628,
          556,
          462,
          475,
          499,
          442,
          null,
          511,
          468,
          null,
          518,
          587,
          638,
          652,
          804,
          904,
          619,
          725,
          853,
          596,
          null,
          683,
          502,
          501,
          518,
          null,
          null,
          402,
          365,
          485,
          642,
          null,
          536,
          675,
          781,
          null,
          432,
          926,
          656,
          949,
          806,
          714,
          726,
          544,
          632,
          646,
          408,
          null,
          424,
          397,
          351,
          null,
          512,
          530,
          528,
          635,
          551,
          579,
          633,
          726,
          494,
          818,
          936,
          null,
          621,
          649,
          809,
          null,
          601,
          521,
          554,
          448,
          446,
          null,
          648,
          482,
          483,
          664,
          748,
          739,
          392,
          null,
          661,
          null,
          null,
          449,
          604,
          428,
          451,
          null,
          457,
          697,
          726,
          631,
          645,
          544,
          679,
          495,
          976,
          976,
          386,
          410,
          664,
          519,
          null,
          639,
          663,
          463,
          428,
          431,
          349,
          450,
          360,
          484,
          493,
          581,
          775,
          723,
          640,
          726,
          535,
          545,
          497,
          482,
          null,
          369,
          399,
          543,
          null,
          null,
          null,
          466,
          729,
          500,
          917,
          927,
          400,
          null,
          742,
          347,
          442,
          721,
          724,
          713,
          422,
          119,
          656,
          498,
          177,
          518,
          649
         ],
         "xaxis": "x",
         "y": [
          72,
          133,
          30,
          413,
          235,
          528,
          443,
          295,
          null,
          442,
          164,
          152,
          248,
          138,
          null,
          443,
          594,
          443,
          422,
          355,
          599,
          503,
          719,
          576,
          502,
          502,
          614,
          576,
          590,
          570,
          419,
          614,
          380,
          616,
          599,
          225,
          null,
          599,
          799,
          748,
          591,
          399,
          429,
          820,
          803,
          735,
          506,
          532,
          414,
          585,
          576,
          589,
          239,
          335,
          305,
          71,
          304,
          177,
          205,
          541,
          166,
          339,
          415,
          null,
          500,
          235,
          425,
          394,
          425,
          584,
          584,
          585,
          522,
          395,
          1626,
          641,
          986,
          433,
          679,
          81,
          453,
          289,
          649,
          359,
          453,
          571,
          493,
          414,
          754,
          303,
          350,
          305,
          375,
          639,
          732,
          394,
          599,
          500,
          62,
          146,
          300,
          330,
          197,
          425,
          707,
          707,
          1449,
          1006,
          693,
          328,
          428,
          448,
          640,
          678,
          508,
          203,
          787,
          267,
          287,
          null,
          435,
          336,
          563,
          374,
          542,
          168,
          359,
          194,
          658,
          730,
          471,
          495,
          511,
          710,
          1034,
          382,
          949,
          null,
          65,
          17,
          411,
          538,
          350,
          250,
          550,
          646,
          606,
          590,
          527,
          354,
          503,
          734,
          568,
          502,
          395,
          549,
          434,
          302,
          525,
          366,
          414,
          547,
          986,
          49,
          246,
          798,
          804,
          294,
          211,
          64,
          176,
          181,
          247,
          305,
          315,
          138,
          403,
          197,
          194,
          570,
          603,
          568,
          394,
          557,
          518,
          290,
          288,
          242,
          63,
          68,
          343,
          575,
          384,
          499,
          870,
          640,
          535,
          250,
          264,
          552,
          399,
          542,
          1876,
          1004,
          1004,
          510,
          749,
          60,
          298,
          690,
          739,
          443,
          374,
          570,
          404,
          576,
          601,
          774,
          349,
          631,
          739,
          212,
          185,
          469,
          612,
          419,
          469,
          535,
          527,
          614,
          516,
          439,
          690,
          567,
          483,
          393,
          172,
          103,
          119,
          null,
          641,
          128,
          205,
          203,
          292,
          230,
          517,
          562,
          562,
          248,
          641,
          399,
          542,
          600,
          986,
          1134,
          936,
          600,
          null,
          212,
          null,
          710,
          616,
          388,
          167,
          65,
          502,
          289,
          309,
          610,
          389,
          521,
          473,
          273,
          306,
          311,
          206,
          148,
          331,
          276,
          null,
          310,
          564,
          428,
          542,
          527,
          604,
          591,
          591,
          612,
          564,
          null,
          null,
          306,
          324,
          336,
          939,
          202,
          174,
          132,
          246,
          355,
          158,
          399,
          730,
          737,
          450,
          204,
          700,
          268,
          693,
          873,
          542,
          520,
          468,
          345,
          516,
          152,
          425,
          250,
          219,
          97,
          108,
          251,
          295,
          295,
          533,
          354,
          428,
          491,
          509,
          295,
          976,
          499,
          611,
          603,
          379,
          1098,
          null,
          751,
          239,
          366,
          216,
          216,
          230,
          350,
          261,
          261,
          359,
          542,
          534,
          159,
          102,
          690,
          485,
          385,
          304,
          1037,
          197,
          203,
          290,
          275,
          630,
          591,
          377,
          521,
          473,
          578,
          302,
          639,
          639,
          123,
          137,
          345,
          410,
          154,
          358,
          516,
          214,
          197,
          203,
          120,
          250,
          126,
          309,
          309,
          null,
          null,
          544,
          394,
          591,
          335,
          382,
          268,
          231,
          244,
          120,
          133,
          349,
          43,
          127,
          201,
          266,
          492,
          330,
          529,
          493,
          379,
          360,
          591,
          109,
          216,
          551,
          551,
          551,
          189,
          34,
          358,
          252,
          33,
          372,
          559
         ],
         "yaxis": "y"
        }
       ],
       "layout": {
        "hoverlabel": {
         "bgcolor": "white",
         "font": {
          "family": "Rockwell",
          "size": 14
         }
        },
        "hovermode": "closest",
        "legend": {
         "tracegroupgap": 0
        },
        "margin": {
         "t": 60
        },
        "template": {
         "data": {
          "bar": [
           {
            "error_x": {
             "color": "#2a3f5f"
            },
            "error_y": {
             "color": "#2a3f5f"
            },
            "marker": {
             "line": {
              "color": "#E5ECF6",
              "width": 0.5
             },
             "pattern": {
              "fillmode": "overlay",
              "size": 10,
              "solidity": 0.2
             }
            },
            "type": "bar"
           }
          ],
          "barpolar": [
           {
            "marker": {
             "line": {
              "color": "#E5ECF6",
              "width": 0.5
             },
             "pattern": {
              "fillmode": "overlay",
              "size": 10,
              "solidity": 0.2
             }
            },
            "type": "barpolar"
           }
          ],
          "carpet": [
           {
            "aaxis": {
             "endlinecolor": "#2a3f5f",
             "gridcolor": "white",
             "linecolor": "white",
             "minorgridcolor": "white",
             "startlinecolor": "#2a3f5f"
            },
            "baxis": {
             "endlinecolor": "#2a3f5f",
             "gridcolor": "white",
             "linecolor": "white",
             "minorgridcolor": "white",
             "startlinecolor": "#2a3f5f"
            },
            "type": "carpet"
           }
          ],
          "choropleth": [
           {
            "colorbar": {
             "outlinewidth": 0,
             "ticks": ""
            },
            "type": "choropleth"
           }
          ],
          "contour": [
           {
            "colorbar": {
             "outlinewidth": 0,
             "ticks": ""
            },
            "colorscale": [
             [
              0,
              "#0d0887"
             ],
             [
              0.1111111111111111,
              "#46039f"
             ],
             [
              0.2222222222222222,
              "#7201a8"
             ],
             [
              0.3333333333333333,
              "#9c179e"
             ],
             [
              0.4444444444444444,
              "#bd3786"
             ],
             [
              0.5555555555555556,
              "#d8576b"
             ],
             [
              0.6666666666666666,
              "#ed7953"
             ],
             [
              0.7777777777777778,
              "#fb9f3a"
             ],
             [
              0.8888888888888888,
              "#fdca26"
             ],
             [
              1,
              "#f0f921"
             ]
            ],
            "type": "contour"
           }
          ],
          "contourcarpet": [
           {
            "colorbar": {
             "outlinewidth": 0,
             "ticks": ""
            },
            "type": "contourcarpet"
           }
          ],
          "heatmap": [
           {
            "colorbar": {
             "outlinewidth": 0,
             "ticks": ""
            },
            "colorscale": [
             [
              0,
              "#0d0887"
             ],
             [
              0.1111111111111111,
              "#46039f"
             ],
             [
              0.2222222222222222,
              "#7201a8"
             ],
             [
              0.3333333333333333,
              "#9c179e"
             ],
             [
              0.4444444444444444,
              "#bd3786"
             ],
             [
              0.5555555555555556,
              "#d8576b"
             ],
             [
              0.6666666666666666,
              "#ed7953"
             ],
             [
              0.7777777777777778,
              "#fb9f3a"
             ],
             [
              0.8888888888888888,
              "#fdca26"
             ],
             [
              1,
              "#f0f921"
             ]
            ],
            "type": "heatmap"
           }
          ],
          "heatmapgl": [
           {
            "colorbar": {
             "outlinewidth": 0,
             "ticks": ""
            },
            "colorscale": [
             [
              0,
              "#0d0887"
             ],
             [
              0.1111111111111111,
              "#46039f"
             ],
             [
              0.2222222222222222,
              "#7201a8"
             ],
             [
              0.3333333333333333,
              "#9c179e"
             ],
             [
              0.4444444444444444,
              "#bd3786"
             ],
             [
              0.5555555555555556,
              "#d8576b"
             ],
             [
              0.6666666666666666,
              "#ed7953"
             ],
             [
              0.7777777777777778,
              "#fb9f3a"
             ],
             [
              0.8888888888888888,
              "#fdca26"
             ],
             [
              1,
              "#f0f921"
             ]
            ],
            "type": "heatmapgl"
           }
          ],
          "histogram": [
           {
            "marker": {
             "pattern": {
              "fillmode": "overlay",
              "size": 10,
              "solidity": 0.2
             }
            },
            "type": "histogram"
           }
          ],
          "histogram2d": [
           {
            "colorbar": {
             "outlinewidth": 0,
             "ticks": ""
            },
            "colorscale": [
             [
              0,
              "#0d0887"
             ],
             [
              0.1111111111111111,
              "#46039f"
             ],
             [
              0.2222222222222222,
              "#7201a8"
             ],
             [
              0.3333333333333333,
              "#9c179e"
             ],
             [
              0.4444444444444444,
              "#bd3786"
             ],
             [
              0.5555555555555556,
              "#d8576b"
             ],
             [
              0.6666666666666666,
              "#ed7953"
             ],
             [
              0.7777777777777778,
              "#fb9f3a"
             ],
             [
              0.8888888888888888,
              "#fdca26"
             ],
             [
              1,
              "#f0f921"
             ]
            ],
            "type": "histogram2d"
           }
          ],
          "histogram2dcontour": [
           {
            "colorbar": {
             "outlinewidth": 0,
             "ticks": ""
            },
            "colorscale": [
             [
              0,
              "#0d0887"
             ],
             [
              0.1111111111111111,
              "#46039f"
             ],
             [
              0.2222222222222222,
              "#7201a8"
             ],
             [
              0.3333333333333333,
              "#9c179e"
             ],
             [
              0.4444444444444444,
              "#bd3786"
             ],
             [
              0.5555555555555556,
              "#d8576b"
             ],
             [
              0.6666666666666666,
              "#ed7953"
             ],
             [
              0.7777777777777778,
              "#fb9f3a"
             ],
             [
              0.8888888888888888,
              "#fdca26"
             ],
             [
              1,
              "#f0f921"
             ]
            ],
            "type": "histogram2dcontour"
           }
          ],
          "mesh3d": [
           {
            "colorbar": {
             "outlinewidth": 0,
             "ticks": ""
            },
            "type": "mesh3d"
           }
          ],
          "parcoords": [
           {
            "line": {
             "colorbar": {
              "outlinewidth": 0,
              "ticks": ""
             }
            },
            "type": "parcoords"
           }
          ],
          "pie": [
           {
            "automargin": true,
            "type": "pie"
           }
          ],
          "scatter": [
           {
            "fillpattern": {
             "fillmode": "overlay",
             "size": 10,
             "solidity": 0.2
            },
            "type": "scatter"
           }
          ],
          "scatter3d": [
           {
            "line": {
             "colorbar": {
              "outlinewidth": 0,
              "ticks": ""
             }
            },
            "marker": {
             "colorbar": {
              "outlinewidth": 0,
              "ticks": ""
             }
            },
            "type": "scatter3d"
           }
          ],
          "scattercarpet": [
           {
            "marker": {
             "colorbar": {
              "outlinewidth": 0,
              "ticks": ""
             }
            },
            "type": "scattercarpet"
           }
          ],
          "scattergeo": [
           {
            "marker": {
             "colorbar": {
              "outlinewidth": 0,
              "ticks": ""
             }
            },
            "type": "scattergeo"
           }
          ],
          "scattergl": [
           {
            "marker": {
             "colorbar": {
              "outlinewidth": 0,
              "ticks": ""
             }
            },
            "type": "scattergl"
           }
          ],
          "scattermapbox": [
           {
            "marker": {
             "colorbar": {
              "outlinewidth": 0,
              "ticks": ""
             }
            },
            "type": "scattermapbox"
           }
          ],
          "scatterpolar": [
           {
            "marker": {
             "colorbar": {
              "outlinewidth": 0,
              "ticks": ""
             }
            },
            "type": "scatterpolar"
           }
          ],
          "scatterpolargl": [
           {
            "marker": {
             "colorbar": {
              "outlinewidth": 0,
              "ticks": ""
             }
            },
            "type": "scatterpolargl"
           }
          ],
          "scatterternary": [
           {
            "marker": {
             "colorbar": {
              "outlinewidth": 0,
              "ticks": ""
             }
            },
            "type": "scatterternary"
           }
          ],
          "surface": [
           {
            "colorbar": {
             "outlinewidth": 0,
             "ticks": ""
            },
            "colorscale": [
             [
              0,
              "#0d0887"
             ],
             [
              0.1111111111111111,
              "#46039f"
             ],
             [
              0.2222222222222222,
              "#7201a8"
             ],
             [
              0.3333333333333333,
              "#9c179e"
             ],
             [
              0.4444444444444444,
              "#bd3786"
             ],
             [
              0.5555555555555556,
              "#d8576b"
             ],
             [
              0.6666666666666666,
              "#ed7953"
             ],
             [
              0.7777777777777778,
              "#fb9f3a"
             ],
             [
              0.8888888888888888,
              "#fdca26"
             ],
             [
              1,
              "#f0f921"
             ]
            ],
            "type": "surface"
           }
          ],
          "table": [
           {
            "cells": {
             "fill": {
              "color": "#EBF0F8"
             },
             "line": {
              "color": "white"
             }
            },
            "header": {
             "fill": {
              "color": "#C8D4E3"
             },
             "line": {
              "color": "white"
             }
            },
            "type": "table"
           }
          ]
         },
         "layout": {
          "annotationdefaults": {
           "arrowcolor": "#2a3f5f",
           "arrowhead": 0,
           "arrowwidth": 1
          },
          "autotypenumbers": "strict",
          "coloraxis": {
           "colorbar": {
            "outlinewidth": 0,
            "ticks": ""
           }
          },
          "colorscale": {
           "diverging": [
            [
             0,
             "#8e0152"
            ],
            [
             0.1,
             "#c51b7d"
            ],
            [
             0.2,
             "#de77ae"
            ],
            [
             0.3,
             "#f1b6da"
            ],
            [
             0.4,
             "#fde0ef"
            ],
            [
             0.5,
             "#f7f7f7"
            ],
            [
             0.6,
             "#e6f5d0"
            ],
            [
             0.7,
             "#b8e186"
            ],
            [
             0.8,
             "#7fbc41"
            ],
            [
             0.9,
             "#4d9221"
            ],
            [
             1,
             "#276419"
            ]
           ],
           "sequential": [
            [
             0,
             "#0d0887"
            ],
            [
             0.1111111111111111,
             "#46039f"
            ],
            [
             0.2222222222222222,
             "#7201a8"
            ],
            [
             0.3333333333333333,
             "#9c179e"
            ],
            [
             0.4444444444444444,
             "#bd3786"
            ],
            [
             0.5555555555555556,
             "#d8576b"
            ],
            [
             0.6666666666666666,
             "#ed7953"
            ],
            [
             0.7777777777777778,
             "#fb9f3a"
            ],
            [
             0.8888888888888888,
             "#fdca26"
            ],
            [
             1,
             "#f0f921"
            ]
           ],
           "sequentialminus": [
            [
             0,
             "#0d0887"
            ],
            [
             0.1111111111111111,
             "#46039f"
            ],
            [
             0.2222222222222222,
             "#7201a8"
            ],
            [
             0.3333333333333333,
             "#9c179e"
            ],
            [
             0.4444444444444444,
             "#bd3786"
            ],
            [
             0.5555555555555556,
             "#d8576b"
            ],
            [
             0.6666666666666666,
             "#ed7953"
            ],
            [
             0.7777777777777778,
             "#fb9f3a"
            ],
            [
             0.8888888888888888,
             "#fdca26"
            ],
            [
             1,
             "#f0f921"
            ]
           ]
          },
          "colorway": [
           "#636efa",
           "#EF553B",
           "#00cc96",
           "#ab63fa",
           "#FFA15A",
           "#19d3f3",
           "#FF6692",
           "#B6E880",
           "#FF97FF",
           "#FECB52"
          ],
          "font": {
           "color": "#2a3f5f"
          },
          "geo": {
           "bgcolor": "white",
           "lakecolor": "white",
           "landcolor": "#E5ECF6",
           "showlakes": true,
           "showland": true,
           "subunitcolor": "white"
          },
          "hoverlabel": {
           "align": "left"
          },
          "hovermode": "closest",
          "mapbox": {
           "style": "light"
          },
          "paper_bgcolor": "white",
          "plot_bgcolor": "#E5ECF6",
          "polar": {
           "angularaxis": {
            "gridcolor": "white",
            "linecolor": "white",
            "ticks": ""
           },
           "bgcolor": "#E5ECF6",
           "radialaxis": {
            "gridcolor": "white",
            "linecolor": "white",
            "ticks": ""
           }
          },
          "scene": {
           "xaxis": {
            "backgroundcolor": "#E5ECF6",
            "gridcolor": "white",
            "gridwidth": 2,
            "linecolor": "white",
            "showbackground": true,
            "ticks": "",
            "zerolinecolor": "white"
           },
           "yaxis": {
            "backgroundcolor": "#E5ECF6",
            "gridcolor": "white",
            "gridwidth": 2,
            "linecolor": "white",
            "showbackground": true,
            "ticks": "",
            "zerolinecolor": "white"
           },
           "zaxis": {
            "backgroundcolor": "#E5ECF6",
            "gridcolor": "white",
            "gridwidth": 2,
            "linecolor": "white",
            "showbackground": true,
            "ticks": "",
            "zerolinecolor": "white"
           }
          },
          "shapedefaults": {
           "line": {
            "color": "#2a3f5f"
           }
          },
          "ternary": {
           "aaxis": {
            "gridcolor": "white",
            "linecolor": "white",
            "ticks": ""
           },
           "baxis": {
            "gridcolor": "white",
            "linecolor": "white",
            "ticks": ""
           },
           "bgcolor": "#E5ECF6",
           "caxis": {
            "gridcolor": "white",
            "linecolor": "white",
            "ticks": ""
           }
          },
          "title": {
           "x": 0.05
          },
          "xaxis": {
           "automargin": true,
           "gridcolor": "white",
           "linecolor": "white",
           "ticks": "",
           "title": {
            "standoff": 15
           },
           "zerolinecolor": "white",
           "zerolinewidth": 2
          },
          "yaxis": {
           "automargin": true,
           "gridcolor": "white",
           "linecolor": "white",
           "ticks": "",
           "title": {
            "standoff": 15
           },
           "zerolinecolor": "white",
           "zerolinewidth": 2
          }
         }
        },
        "title": {
         "font": {
          "size": 24
         },
         "text": "The scatterplot between Performance Point (PP) and Horse Power (HP)",
         "x": 0.5,
         "xanchor": "center"
        },
        "xaxis": {
         "anchor": "y",
         "domain": [
          0,
          1
         ],
         "title": {
          "text": "Performance Point (PP)"
         }
        },
        "yaxis": {
         "anchor": "x",
         "domain": [
          0,
          1
         ],
         "title": {
          "text": "Horse Power (HP)"
         }
        }
       }
      }
     },
     "metadata": {},
     "output_type": "display_data"
    },
    {
     "name": "stdout",
     "output_type": "stream",
     "text": [
      "\n"
     ]
    }
   ],
   "source": [
    "columns = df[df.columns[df.columns.isin(\n",
    "    ['Performance Point (PP)', 'Price (Cr.)', 'Horse Power (HP)', 'Weight (lbs)', 'Power-to-weight ratio (kg/kw)'])]]\n",
    "\n",
    "\n",
    "def interactive_scatter_plot(x_axis='Performance Point (PP)', y_axis='Horse Power (HP)'):\n",
    "    fig = px.scatter(df, x=x_axis, y=y_axis, text='Model')\n",
    "    fig.update_traces(mode='markers', marker=dict(size=10, color=\"red\"))\n",
    "    fig.update_layout(hovermode='closest', hoverlabel=dict(\n",
    "        bgcolor=\"white\", font_size=14, font_family=\"Rockwell\"))\n",
    "\n",
    "    fig.update_layout(title={\n",
    "        'text': f\"The scatterplot between {x_axis} and {y_axis}\",\n",
    "        'font': {'size': 24},\n",
    "        'x': 0.5,\n",
    "        'xanchor': 'center'\n",
    "    })\n",
    "\n",
    "    ipd.clear_output(wait=True)\n",
    "    fig.show()\n",
    "\n",
    "\n",
    "interact(interactive_scatter_plot, x_axis=columns, y_axis=columns)\n",
    "print('')\n"
   ]
  },
  {
   "cell_type": "code",
   "execution_count": 59,
   "id": "30a094b8",
   "metadata": {
    "execution": {
     "iopub.execute_input": "2023-02-14T16:52:50.210598Z",
     "iopub.status.busy": "2023-02-14T16:52:50.210048Z",
     "iopub.status.idle": "2023-02-14T16:52:50.298080Z",
     "shell.execute_reply": "2023-02-14T16:52:50.296914Z"
    },
    "papermill": {
     "duration": 0.105531,
     "end_time": "2023-02-14T16:52:50.301255",
     "exception": false,
     "start_time": "2023-02-14T16:52:50.195724",
     "status": "completed"
    },
    "tags": []
   },
   "outputs": [
    {
     "data": {
      "application/vnd.jupyter.widget-view+json": {
       "model_id": "4b848a411b64426e803889642917a2b0",
       "version_major": 2,
       "version_minor": 0
      },
      "text/plain": [
       "interactive(children=(Dropdown(description='Brand', index=27, options=('Abarth', 'Alfa Romeo', 'Other Manufact…"
      ]
     },
     "metadata": {},
     "output_type": "display_data"
    }
   ],
   "source": [
    "sort_method_list = [\"Ascending\", \"Descending\"]\n",
    "\n",
    "@interact(\n",
    "    Brand=df[\"Manufacturer\"].unique(),\n",
    "    Sort_by=df.columns[1:9],\n",
    "    Sort_method=sort_method_list,\n",
    "    Model_Search=\".\",\n",
    ")\n",
    "def table_filter_brand(Brand = 'McLaren', Sort_by = 'Horse Power (HP)', Sort_method = 'Descending', Model_Search = '.'):\n",
    "    df_filtered = df[\n",
    "        (df[\"Manufacturer\"] == Brand)\n",
    "        & (df[\"Model\"].str.contains(Model_Search, regex=True, case=False))\n",
    "    ].drop(df.iloc[:, 9:], axis=1)\n",
    "\n",
    "    df_filtered = df_filtered[~(pd.isna(df_filtered[\"Price (Cr.)\"]) | pd.isna(df_filtered[\"Performance Point (PP)\"]))]\n",
    "    \n",
    "    if Sort_method == \"Ascending\":\n",
    "        df_filtered.sort_values(by=Sort_by, ascending=True, inplace=True)\n",
    "    else:\n",
    "        df_filtered.sort_values(by=Sort_by, ascending=False, inplace=True)\n",
    "\n",
    "    return df_filtered\n"
   ]
  },
  {
   "cell_type": "code",
   "execution_count": 60,
   "id": "722f11df",
   "metadata": {
    "execution": {
     "iopub.execute_input": "2023-02-14T16:52:50.330093Z",
     "iopub.status.busy": "2023-02-14T16:52:50.329654Z",
     "iopub.status.idle": "2023-02-14T16:52:50.865095Z",
     "shell.execute_reply": "2023-02-14T16:52:50.863854Z"
    },
    "papermill": {
     "duration": 0.560056,
     "end_time": "2023-02-14T16:52:50.875060",
     "exception": false,
     "start_time": "2023-02-14T16:52:50.315004",
     "status": "completed"
    },
    "tags": []
   },
   "outputs": [
    {
     "data": {
      "application/vnd.jupyter.widget-view+json": {
       "model_id": "f746da578bc14d69bd76abfbc24f6cc0",
       "version_major": 2,
       "version_minor": 0
      },
      "text/plain": [
       "interactive(children=(Dropdown(description='Model', index=255, options=(\"Abarth 1500 Biposto Bertone B.A.T 1 '…"
      ]
     },
     "metadata": {},
     "output_type": "display_data"
    }
   ],
   "source": [
    "# Function to display the details and image for a given item\n",
    "@interact(Model=df['Model'].unique())\n",
    "def display_item(Model='McLaren McLaren VGT'):\n",
    "    print('\\n This is the details of your selected car 🚗 \\n')\n",
    "    details = df.loc[df['Model'] == Model].drop(df.iloc[:, 9:], axis=1)\n",
    "    display(details)\n",
    "    print('\\n')\n",
    "\n",
    "    image_url = df.loc[df['Model'] == Model]['img_url'].values[0]\n",
    "    try:\n",
    "        response = requests.get(image_url)\n",
    "        img = Image.open(BytesIO(response.content))\n",
    "        plt.figure(figsize=(10, 10))\n",
    "        plt.imshow(img)\n",
    "        plt.axis('off')\n",
    "        plt.show()\n",
    "    except:\n",
    "        if 'missing.png' in image_url:\n",
    "            print('\\n The picture of this selected car is missing.')\n",
    "        else:\n",
    "            print(\n",
    "                f\" There is a problem when opening the picture. \\n This is the URL Link of the picture : {df.loc[df['Model'] == Model]['img_url'].values[0]}\")\n"
   ]
  },
  {
   "cell_type": "markdown",
   "id": "01142908",
   "metadata": {
    "papermill": {
     "duration": 0.012744,
     "end_time": "2023-02-14T16:52:50.901470",
     "exception": false,
     "start_time": "2023-02-14T16:52:50.888726",
     "status": "completed"
    },
    "tags": []
   },
   "source": [
    "---\n",
    "# Part III : Summary\n",
    "\n",
    "### The author of this project aims to analyze and determine the best car to use in the popular racing simulation video game, Gran Turismo 7. The data will be presented in a comprehensive by using visualisation to help the audience understand the information. \n",
    "\n",
    "To determine the best car, several key factors will be considered, including performance points, horse power, weight, and power-to-weight ratio. \n",
    "\n",
    "* Performance Point : The more, the better\n",
    "* Horse Power : The more, the better\n",
    "* Weight : The less, the better\n",
    "* Power-to-weight Ratio : The less, the better\n",
    "\n",
    "### The author utilize seaborn correlation graphs to show the relationship between these factors, and the scatterplot will provide additional information on specific cars. Most importantly, you can hover over the scatterplot to see the details of the car which represented by each spot. The author also have a brand filter graph, allowing the audience to view the cars based on their preferred brand. Lastly, the audience are able to select a specific car from a drop-down list, viewing its details and the picture of the car.\n",
    "\n",
    "### In conclusion, selecting the best car for the game requires considering multiple factors. I hope that data and visualization can help and provide you valuable insights to aid in the decision."
   ]
  }
 ],
 "metadata": {
  "kernelspec": {
   "display_name": "Python 3",
   "language": "python",
   "name": "python3"
  },
  "language_info": {
   "codemirror_mode": {
    "name": "ipython",
    "version": 3
   },
   "file_extension": ".py",
   "mimetype": "text/x-python",
   "name": "python",
   "nbconvert_exporter": "python",
   "pygments_lexer": "ipython3",
   "version": "3.9.16"
  },
  "papermill": {
   "default_parameters": {},
   "duration": 141.439991,
   "end_time": "2023-02-14T16:52:51.842171",
   "environment_variables": {},
   "exception": null,
   "input_path": "__notebook__.ipynb",
   "output_path": "__notebook__.ipynb",
   "parameters": {},
   "start_time": "2023-02-14T16:50:30.402180",
   "version": "2.3.4"
  },
  "widgets": {
   "application/vnd.jupyter.widget-state+json": {
    "state": {
     "01f750fd037c4ff399d8f7de50108be1": {
      "model_module": "@jupyter-widgets/base",
      "model_module_version": "1.2.0",
      "model_name": "LayoutModel",
      "state": {
       "_model_module": "@jupyter-widgets/base",
       "_model_module_version": "1.2.0",
       "_model_name": "LayoutModel",
       "_view_count": null,
       "_view_module": "@jupyter-widgets/base",
       "_view_module_version": "1.2.0",
       "_view_name": "LayoutView",
       "align_content": null,
       "align_items": null,
       "align_self": null,
       "border": null,
       "bottom": null,
       "display": null,
       "flex": null,
       "flex_flow": null,
       "grid_area": null,
       "grid_auto_columns": null,
       "grid_auto_flow": null,
       "grid_auto_rows": null,
       "grid_column": null,
       "grid_gap": null,
       "grid_row": null,
       "grid_template_areas": null,
       "grid_template_columns": null,
       "grid_template_rows": null,
       "height": null,
       "justify_content": null,
       "justify_items": null,
       "left": null,
       "margin": null,
       "max_height": null,
       "max_width": null,
       "min_height": null,
       "min_width": null,
       "object_fit": null,
       "object_position": null,
       "order": null,
       "overflow": null,
       "overflow_x": null,
       "overflow_y": null,
       "padding": null,
       "right": null,
       "top": null,
       "visibility": null,
       "width": null
      }
     },
     "059fe2f303b346f3b67fb571c8b9a4f5": {
      "model_module": "@jupyter-widgets/base",
      "model_module_version": "1.2.0",
      "model_name": "LayoutModel",
      "state": {
       "_model_module": "@jupyter-widgets/base",
       "_model_module_version": "1.2.0",
       "_model_name": "LayoutModel",
       "_view_count": null,
       "_view_module": "@jupyter-widgets/base",
       "_view_module_version": "1.2.0",
       "_view_name": "LayoutView",
       "align_content": null,
       "align_items": null,
       "align_self": null,
       "border": null,
       "bottom": null,
       "display": null,
       "flex": null,
       "flex_flow": null,
       "grid_area": null,
       "grid_auto_columns": null,
       "grid_auto_flow": null,
       "grid_auto_rows": null,
       "grid_column": null,
       "grid_gap": null,
       "grid_row": null,
       "grid_template_areas": null,
       "grid_template_columns": null,
       "grid_template_rows": null,
       "height": null,
       "justify_content": null,
       "justify_items": null,
       "left": null,
       "margin": null,
       "max_height": null,
       "max_width": null,
       "min_height": null,
       "min_width": null,
       "object_fit": null,
       "object_position": null,
       "order": null,
       "overflow": null,
       "overflow_x": null,
       "overflow_y": null,
       "padding": null,
       "right": null,
       "top": null,
       "visibility": null,
       "width": null
      }
     },
     "0da23e0b0df44a7a915f1b0cff789a29": {
      "model_module": "@jupyter-widgets/controls",
      "model_module_version": "1.5.0",
      "model_name": "DropdownModel",
      "state": {
       "_dom_classes": [],
       "_model_module": "@jupyter-widgets/controls",
       "_model_module_version": "1.5.0",
       "_model_name": "DropdownModel",
       "_options_labels": [
        "Abarth 1500 Biposto Bertone B.A.T 1 '52",
        "Abarth 500 '09",
        "Abarth 595 SS '70",
        "Alfa Romeo 155 2.5 V6 TI '93",
        "Alfa Romeo 4C '14",
        "Alfa Romeo 4C Gr.3",
        "Alfa Romeo 4C Gr.3 Road Car",
        "Alfa Romeo 4C Gr.4",
        "Alfa Romeo 8C 2900B Touring Berlinetta '38",
        "Alfa Romeo 8C Competizione '08",
        "Alfa Romeo GIULIA TZ2 carrozzata da ZAGATO '65",
        "Alfa Romeo MiTo '09",
        "Alpine A110 '17",
        "Alpine A110 '72",
        "Alpine A220 Race Car '68",
        "Alpine Alpine VGT",
        "Alpine Alpine VGT '17",
        "Alpine Alpine VGT Race",
        "AMG 300 SEL 6.8 AMG '71",
        "AMG A 45 AMG '13",
        "AMG CLK-LM '98",
        "AMG Mercedes-AMG C 63 S '15",
        "AMG Mercedes-AMG GT Black Series '20",
        "AMG Mercedes-AMG GT R '17",
        "AMG Mercedes-AMG GT S '15",
        "AMG Mercedes-AMG GT Safety Car",
        "AMG Mercedes-AMG GT3 '16",
        "AMG Mercedes-Benz AMG VGT",
        "AMG Mercedes-Benz AMG VGT Racing Series",
        "AMG SLS AMG '10",
        "AMG SLS AMG GR.4",
        "AMG SLS AMG GT3 '11",
        "Amuse Amuse NISMO 380RS Super Leggera",
        "Amuse S2000 GT1 Turbo",
        "Aston Martin DB11 '16",
        "Aston Martin DB3S '53",
        "Aston Martin DB5 '64",
        "Aston Martin DBR9 GT1 '10",
        "Aston Martin DP-100 VGT",
        "Aston Martin One-77 '11",
        "Aston Martin V12 Vantage GT3 '12",
        "Aston Martin V8 Vantage GR.4",
        "Aston Martin V8 Vantage S '15",
        "Aston Martin Vulcan '16",
        "Audi Audi e-tron VGT",
        "Audi Audi VGT",
        "Audi R18 '16",
        "Audi R18 TDI '11",
        "Audi R8 4.2 '07",
        "Audi R8 LMS '15",
        "Audi R8 LMS Evo '19",
        "Audi Sport Quattro S1 Pikes Peak '87",
        "Audi TT Coupé 3.2 quattro '03",
        "Audi TT CUP '16",
        "Audi TTS Coupé '14",
        "Autobianchi A112 Abarth '85",
        "BAC Mono '16",
        "BMW 3.0 CSL '71",
        "BMW 3.0 CSL '73",
        "BMW BMW VGT",
        "BMW i3 2015",
        "BMW M3 '03",
        "BMW M3 '07",
        "BMW M3 '89",
        "BMW M3 GT '11",
        "BMW M3 Sport Evolution '89",
        "BMW M4 '14",
        "BMW M4 GR.4",
        "BMW M4 Safety Car",
        "BMW M6 GT3 Endurance Model '16",
        "BMW M6 GT3 Sprint Model '16",
        "BMW McLaren F1 GTR Race Car '97",
        "BMW Z4 GT3 '11",
        "BMW Z8 '01",
        "Bugatti Bugatti VGT",
        "Bugatti Bugatti VGT (GR.1)",
        "Bugatti Veyron 16.4 '13",
        "Bugatti Veyron Gr.4",
        "Chaparral 2J '70",
        "Chaparral Chevrolet Chaparral 2X VGT",
        "Chevrolet Camaro SS '16",
        "Chevrolet Camaro Z28 '69",
        "Chevrolet Camaro ZL1 1LE Package '18",
        "Chevrolet Corvette (C2) '63",
        "Chevrolet Corvette C7 '14",
        "Chevrolet Corvette C7 Gr.3",
        "Chevrolet Corvette C7 Gr.3 Road Car",
        "Chevrolet Corvette C7 Gr.4",
        "Chevrolet Corvette C7 ZR1 '19",
        "Chevrolet Corvette Convertible (C3) '69",
        "Chevrolet Corvette Stingray (C3) '69",
        "Chevrolet Corvette Stingray Racer Concept '59",
        "Chevrolet Corvette ZR-1 (C4) '89",
        "Chevrolet Corvette ZR1 (C6) '09",
        "Chris Holstrom Concepts CHC 1967 Chevy Nova",
        "Citroen GT BY Citroën GR.4",
        "Citroen GT by Citroën Race Car (Gr.3)",
        "Citroen GT by Citroën Road Car",
        "Daihatsu Copen '02",
        "Daihatsu COPEN RJ VGT",
        "De Tomaso Mangusta '69",
        "De Tomaso Pantera '71",
        "DMC DeLorean S2 '04",
        "Dodge Challenger R/T '70",
        "Dodge Charger SRT Hellcat '15",
        "Dodge Charger SRT Hellcat Safety Car",
        "Dodge SRT Tomahawk GTS-R VGT",
        "Dodge SRT Tomahawk S VGT",
        "Dodge SRT Tomahawk VGT (Gr.1)",
        "Dodge Super Bee '70",
        "Dodge Viper Gr.4",
        "Dodge Viper GTS '02",
        "Dodge Viper GTS '13",
        "Dodge Viper SRT GT3-R '15",
        "Dodge Viper SRT10 Coupe '06",
        "DS Automobiles DS3 Racing '11",
        "Eckert's Rod & Customs Mach Forty",
        "Ferrari 250 GT Berlinetta passo corto '61",
        "Ferrari 250 GTO '62",
        "Ferrari 308 GTB '75",
        "Ferrari 330 P4 '67",
        "Ferrari 365 GTB4 '71",
        "Ferrari 458 Italia '09",
        "Ferrari 458 Italia Gr.4",
        "Ferrari 458 Italia GT3 '13",
        "Ferrari 500 Mondial Pinin Farina '54",
        "Ferrari 512 BB '76",
        "Ferrari Dino 246 GT '71",
        "Ferrari Enzo Ferrari '02",
        "Ferrari F12berlinetta '12",
        "Ferrari F40 '92",
        "Ferrari F430 '06",
        "Ferrari F50 '95",
        "Ferrari F8 Tributo '19",
        "Ferrari FXX K' '14",
        "Ferrari GTO '84",
        "Ferrari LaFerrari '13",
        "Ferrari Testarossa '91",
        "Fiat 500 1.2 8V Lounge SS '08",
        "Fiat 500 F '68",
        "Ford F-150 SVT Raptor '11",
        "Ford Focus Gr.B Rally Car",
        "Ford Focus RS '18",
        "Ford Focus ST '15",
        "Ford Ford GT '06",
        "Ford Ford GT '17",
        "Ford GT LM Race Car Spec II",
        "Ford GT LM Spec II Test Car",
        "Ford GT40 GT Race Car '18",
        "Ford GT40 Mark I '66",
        "Ford Mark IV Race Car '67",
        "Ford Mustang Boss 429 '69",
        "Ford Mustang Gr.3",
        "Ford Mustang Gr.3 Road Car",
        "Ford Mustang Gr.4",
        "Ford Mustang Gr.B Rally Car",
        "Ford Mustang GT '15",
        "Ford Mustang Mach 1 '71",
        "Ford Shelby GT350R '16",
        "Genesis G70 3.3T AWD P.Package '22",
        "Genesis G70 GR4",
        "Genesis Genesis X GR3",
        "Gran Turismo F1500T-A",
        "Gran Turismo Racing Kart 125 Shifter",
        "Gran Turismo Red Bull X2014 Junior",
        "Gran Turismo Red Bull X2014 Standard",
        "Gran Turismo Red Bull X2019 Competition",
        "Greddy Greddy Fugu Z",
        "Honda 2&4 powered by RC213V",
        "Honda Beat '91",
        "Honda Civic Type R (EK) '97",
        "Honda Civic Type R (EK) '98",
        "Honda Civic Type R (EK) Touring Car",
        "Honda Civic Type R (FK2) '15",
        "Honda Civic Type R Limited Edition (FK8) '20",
        "Honda Fit Hybrid '14",
        "Honda Honda Sports VGT",
        "Honda Integra Type R (DC2) '95",
        "Honda Integra Type R (DC2) '98",
        "Honda NSX '17",
        "Honda NSX CONCEPT-GT '16",
        "Honda NSX Gr.3",
        "Honda NSX Gr.4",
        "Honda NSX Gr.B Rally Car",
        "Honda NSX GT500 '08",
        "Honda NSX Type R '02",
        "Honda NSX Type R '92",
        "Honda S2000 '99",
        "Honda S660 '15",
        "Honda S800 '66",
        "Hyundai Genesis Coupe 3.8 '13",
        "Hyundai Genesis Gr.3",
        "Hyundai Genesis Gr.4",
        "Hyundai Genesis GR.B Rally Car",
        "Hyundai HYUNDAI N 2025 VGT",
        "Hyundai HYUNDAI N 2025 VGT (Gr.1)",
        "Infiniti INFINITI CONCEPT VGT",
        "Jaguar D-Type '54",
        "Jaguar E-Type Coupé '61",
        "Jaguar F-Type Gr.3",
        "Jaguar F-Type Gr.4",
        "Jaguar F-Type R '14",
        "Jaguar Jaguar VFT SV",
        "Jaguar Jaguar VGT Coupé",
        "Jaguar Jaguar VGT Roadster",
        "Jaguar XJ13 '66",
        "Jaguar XJR-9 '88",
        "Jeep Willys MB '45",
        "KTM X-BOW R '12",
        "Lamborghini Aventador LP 700-4 '11",
        "Lamborghini Aventador LP 750-4 SV '15",
        "Lamborghini Countach 25th Anniversary '88",
        "Lamborghini Countach LP400 '74",
        "Lamborghini Diablo GT '00",
        "Lamborghini Huracán Gr.4",
        "Lamborghini Huracán GT3 '15",
        "Lamborghini Huracán LP 610-4 '15",
        "Lamborghini Lambo V12 VGT",
        "Lamborghini Miura P400 Bertone Prototype '67",
        "Lamborghini Murciélago LP 640 '09",
        "Lamborghini Veneno '14",
        "Lancia Delta HF Integrale Evoluzione '91",
        "Lancia Stratos '73",
        "Lexus LC500 '17",
        "Lexus LF-LC GT VGT",
        "Lexus R CF Gr.4",
        "Lexus RC F '14",
        "Lexus RC F GT3 '17",
        "Lexus RC F GT3 prototype '16",
        "Lexus RC F GT500 '16",
        "Lexus SC430 GT500 '08",
        "Maserati GranTurismo S '08",
        "Mazda 787B '91",
        "Mazda Atenza Gr.3",
        "Mazda Atenza Gr.3 Road Car",
        "Mazda Atenza Gr.4",
        "Mazda Atenza Sedan XD L Package '15",
        "Mazda Demio XD Touring '15",
        "Mazda Eunos Roadster (NA) '89",
        "Mazda LM55 VGT",
        "Mazda LM55 VGT (Gr.1)",
        "Mazda Roadster S (ND) '15",
        "Mazda Roadster Touring Car",
        "Mazda RX-7 GT-X (FC) '90",
        "Mazda RX-7 Spirit R Type A (FD) '02",
        "Mazda RX-8 Spirit R '12",
        "Mazda RX-Vision '15",
        "Mazda RX-VISION GT3 CONCEPT",
        "Mazda RX-VISION GT3 CONCEPT Stealth Model",
        "Mazda RX500 '70",
        "McLaren 650S '14",
        "McLaren 650S Gr.4",
        "McLaren 650S GT3 '15",
        "McLaren McLaren F1 GTR - BMW '95",
        "McLaren McLaren P1 GTR '16",
        "McLaren McLaren VGT",
        "McLaren McLaren VGT (Gr.1)",
        "McLaren MP4-12C '10",
        "Mercedes-Benz 300 SL (W194) Coupé '52",
        "Mercedes-Benz 300 SL Coupé '54",
        "Mercedes-Benz S Barker Tourer '29",
        "Mercedes-Benz Sauber Mercedes C9 '89",
        "Mercedes-Benz SLR McLaren 2009",
        "MINI MINI Clubman VGT",
        "MINI Mini Cooper S '05",
        "MINI Mini-Cooper 'S' '65",
        "Mitsubishi Concept XR-PHEV EVOLUTION VGT",
        "Mitsubishi GTO Twin Turbo '91",
        "Mitsubishi Lancer Evolution Final '15",
        "Mitsubishi Lancer Evolution Final Gr.3",
        "Mitsubishi Lancer Evolution Final Gr.4",
        "Mitsubishi Lancer Evolution Final Gr.B Rally Car",
        "Mitsubishi Lancer Evolution Final Gr.B Road Car",
        "Mitsubishi Lancer Evolution IV GSR '96",
        "Mitsubishi Lancer Evolution V GSR '98",
        "Mitsubishi Lancer Evolution VI GSR T.M. SCP '99",
        "Nissan 180SX Type X '96",
        "Nissan Fairlady 240ZG (HS30) '71",
        "Nissan Fairlady Z (Z34) '08",
        "Nissan Fairlady Z 300ZX TT 2seater '89",
        "Nissan Fairlady Z 432 '69",
        "Nissan Fairlady Z Version S (Z33) '07",
        "Nissan GT-R '17",
        "Nissan GT-R GR.4",
        "Nissan GT-R Gr.B Rally Car",
        "Nissan GT-R GT500 '08",
        "Nissan GT-R LM NISMO '15",
        "Nissan GT-R NISMO '17",
        "Nissan GT-R NISMO GT3 '13",
        "Nissan GT-R NISMO GT500 '16",
        "Nissan GT-R Safety Car",
        "Nissan GT-T GT500 '99",
        "Nissan NISSAN CONCEPT 2020 VGT",
        "Nissan R32 GT-R V-spec II '94",
        "Nissan R33 GT-R V-spec '97",
        "Nissan R34 GT-R V-spec II Nür '02",
        "Nissan R92CP '92",
        "Nissan Sileighty '98",
        "Nissan Silvia K's Dia Selection (S13) '90",
        "Nissan Silvia Q's (S13) '88",
        "Nissan SILVIA spec-R Aero (S15) '02",
        "Nissan Silvia spec-R Aero (S15) Touring Car",
        "Nissan Skyline Hard Top 2000GT-R (KPGC10) '70",
        "Nissan Z Performance '23",
        "Pagani Huayra '13",
        "Pagani Zonda R '09",
        "Peugeot 205 Turbo 16 Evolution 2 '86",
        "Peugeot 208 GTI by Peugeot Sport '14",
        "Peugeot 908 HDi FAP '10",
        "Peugeot L500R HYbrid VGT 2017",
        "Peugeot L750R HYbrid VGT 2017",
        "Peugeot PEUGEOT VGT",
        "Peugeot PEUGEOT VGT Gr.3",
        "Peugeot RCZ Gr.3",
        "Peugeot RCZ Gr.3 Road Car",
        "Peugeot RCZ Gr.4",
        "Peugeot RCZ Gr.B Rally Car",
        "Peugeot RCZ GT Line '15",
        "Plymouth Superbird '70",
        "Plymouth XNR Ghia Roadster '60",
        "Pontiac Firebird Trans Am '78",
        "Porsche 356 A/1500 GS Carrera '56",
        "Porsche 356 A/1500 GS GT Carrera Speedster '56",
        "Porsche 911 Carrera RS (964) '92",
        "Porsche 911 Carrera RS (993) '95",
        "Porsche 911 Carrera RS CS (993) '95",
        "Porsche 911 GT1 Strassenversion '97",
        "Porsche 911 GT3 (996) '01",
        "Porsche 911 GT3 (997) '09",
        "Porsche 911 GT3 RS (991) '16",
        "Porsche 911 RSR (991) '17",
        "Porsche 911 Turbo (930) '81",
        "Porsche 917K LIVING LEGEND",
        "Porsche 919 Hybrid '16",
        "Porsche 962 C '88",
        "Porsche Carrera GT '04",
        "Porsche Cayman GT4 Clubsport '16",
        "Porsche Porsche VGT",
        "Porsche Spyder type 550/1500RS '55",
        "Porsche TAYCAN TURBO S 2019",
        "Radical SR3 SL '13",
        "RE Amemiya FD3S RX-7",
        "Renault Clio R.S. 220 Trophy '15",
        "Renault Clio R.S. 220 Trophy '16",
        "Renault Clio V6 24V '00",
        "Renault Mégane Gr.4",
        "Renault Mégane R.S. Trophy '11",
        "Renault Mégane RS Trophy Safety Car",
        "Renault Mégane Trophy '11",
        "Renault R.S.01 '16",
        "Renault R.S.01 GT3 '16",
        "Renault R5 Turbo '80",
        "Renault R8 GORDINI '66",
        "RUF CTR3 '07",
        "Shelby Cobra 427 '66",
        "Shelby Cobra Daytona Coupe '64",
        "Shelby G.T.350 '65",
        "Subaru BRZ Drift Car '17",
        "Subaru BRZ S '15",
        "Subaru BRZ STI Sport '18",
        "Subaru Impreza 22B-STi '98",
        "Subaru Impreza Coupe WRX Type R STi Ver.VI '99",
        "Subaru VIZIV GT VGT",
        "Subaru WRX Gr.3",
        "Subaru WRX Gr.4",
        "Subaru WRX Gr.B Rally Car",
        "Subaru WRX Gr.B Road Car",
        "Subaru WRX STI Isle of Man '16",
        "Subaru WRX STI Type S '14",
        "Super Formula SF19 Super Formula / Honda '19",
        "Super Formula SF19 Super Formula / Toyota '19",
        "Suzuki Swift Sport '07",
        "Suzuki Swift Sport '17",
        "Suzuki Swift Sport Gr.4",
        "Tesla Model S Signature Performance '12",
        "Toyota 2000GT '67",
        "Toyota 86 Gr.4",
        "Toyota 86 Gr.B Rally Car",
        "Toyota 86 GRMN '16",
        "Toyota 86 GT '15",
        "Toyota 86 GT\"Limited\" '16",
        "Toyota Aqua S '11",
        "Toyota Celica GT-Four (ST205) '94",
        "Toyota Corolla Levin 1600GT APEX (AE86) '83",
        "Toyota Crown Athlete G '13",
        "Toyota Crown Athlete G Safety Car",
        "Toyota FT-1",
        "Toyota FT-1 VGT",
        "Toyota FT-1 VGT (Gr.3)",
        "Toyota GR Supra Race Car '19",
        "Toyota GR Supra Racing Concept '18",
        "Toyota GR Supra RZ '19",
        "Toyota GR Supra RZ '20",
        "Toyota GR Yaris RZ \"High performance\" '20",
        "Toyota GR86 '21",
        "Toyota MR2 GT-S '97",
        "Toyota Prius G '09",
        "Toyota S-FR '15",
        "Toyota S-FR Racing Concept '16",
        "Toyota Sports 800 '65",
        "Toyota Sprinter Trueno 1600GT APEX (AE86) '83",
        "Toyota Sprinter Trueno 1600GT APEX (S.Shigeno Version)",
        "Toyota Supra 3.0GT Turbo A '88",
        "Toyota Supra GT500 '97",
        "Toyota Supra RZ '97",
        "Toyota TS030 Hybrid '12",
        "Toyota TS050 - Hybrid '16",
        "Toyota Tundra TRD Pro '19",
        "TVR Tuscan Speed 6 '00",
        "Volkswagen Beetle Gr.3",
        "Volkswagen Golf I GTI '83",
        "Volkswagen Golf VII GTI '14",
        "Volkswagen GTI Roadster VGT",
        "Volkswagen GTI Supersport VGT",
        "Volkswagen GTI VGT (Gr.3)",
        "Volkswagen Polo GTI '14",
        "Volkswagen Sambabus Typ 2 '62",
        "Volkswagen Scirocco Gr.4",
        "Volkswagen Scirocco R '10",
        "Volkswagen Volkswagen 1200 '66",
        "Wicked Fabrication Wicked Fabrication GT 51",
        "Zagato IsoRivolta Zagato VGT"
       ],
       "_view_count": null,
       "_view_module": "@jupyter-widgets/controls",
       "_view_module_version": "1.5.0",
       "_view_name": "DropdownView",
       "description": "Model",
       "description_tooltip": null,
       "disabled": false,
       "index": 255,
       "layout": "IPY_MODEL_e363b8c42b9340a98c71d39c4d8b6889",
       "style": "IPY_MODEL_5e6cebc896ea432fb64d6f10b56614c6"
      }
     },
     "100a26896a11454ab55d42b5f197281d": {
      "model_module": "@jupyter-widgets/controls",
      "model_module_version": "1.5.0",
      "model_name": "VBoxModel",
      "state": {
       "_dom_classes": [
        "widget-interact"
       ],
       "_model_module": "@jupyter-widgets/controls",
       "_model_module_version": "1.5.0",
       "_model_name": "VBoxModel",
       "_view_count": null,
       "_view_module": "@jupyter-widgets/controls",
       "_view_module_version": "1.5.0",
       "_view_name": "VBoxView",
       "box_style": "",
       "children": [
        "IPY_MODEL_2a601cf384f847758ae15fe2316cf0f0",
        "IPY_MODEL_a81a34ef1b41494d960b244524b84a2f",
        "IPY_MODEL_6e4cab73a67c4f98b9d48898993d6ec2"
       ],
       "layout": "IPY_MODEL_4dadc5a356d642a0b72de74b9b52d4a4"
      }
     },
     "222fe484907646c89c6602b9d4c00a07": {
      "model_module": "@jupyter-widgets/base",
      "model_module_version": "1.2.0",
      "model_name": "LayoutModel",
      "state": {
       "_model_module": "@jupyter-widgets/base",
       "_model_module_version": "1.2.0",
       "_model_name": "LayoutModel",
       "_view_count": null,
       "_view_module": "@jupyter-widgets/base",
       "_view_module_version": "1.2.0",
       "_view_name": "LayoutView",
       "align_content": null,
       "align_items": null,
       "align_self": null,
       "border": null,
       "bottom": null,
       "display": null,
       "flex": null,
       "flex_flow": null,
       "grid_area": null,
       "grid_auto_columns": null,
       "grid_auto_flow": null,
       "grid_auto_rows": null,
       "grid_column": null,
       "grid_gap": null,
       "grid_row": null,
       "grid_template_areas": null,
       "grid_template_columns": null,
       "grid_template_rows": null,
       "height": null,
       "justify_content": null,
       "justify_items": null,
       "left": null,
       "margin": null,
       "max_height": null,
       "max_width": null,
       "min_height": null,
       "min_width": null,
       "object_fit": null,
       "object_position": null,
       "order": null,
       "overflow": null,
       "overflow_x": null,
       "overflow_y": null,
       "padding": null,
       "right": null,
       "top": null,
       "visibility": null,
       "width": null
      }
     },
     "2a601cf384f847758ae15fe2316cf0f0": {
      "model_module": "@jupyter-widgets/controls",
      "model_module_version": "1.5.0",
      "model_name": "DropdownModel",
      "state": {
       "_dom_classes": [],
       "_model_module": "@jupyter-widgets/controls",
       "_model_module_version": "1.5.0",
       "_model_name": "DropdownModel",
       "_options_labels": [
        "Performance Point (PP)",
        "Price (Cr.)",
        "Horse Power (HP)",
        "Weight (lbs)",
        "Power-to-weight ratio (kg/kw)"
       ],
       "_view_count": null,
       "_view_module": "@jupyter-widgets/controls",
       "_view_module_version": "1.5.0",
       "_view_name": "DropdownView",
       "description": "x_axis",
       "description_tooltip": null,
       "disabled": false,
       "index": 0,
       "layout": "IPY_MODEL_01f750fd037c4ff399d8f7de50108be1",
       "style": "IPY_MODEL_337a502abbd84ccaadcd70dff004fe5a"
      }
     },
     "337a502abbd84ccaadcd70dff004fe5a": {
      "model_module": "@jupyter-widgets/controls",
      "model_module_version": "1.5.0",
      "model_name": "DescriptionStyleModel",
      "state": {
       "_model_module": "@jupyter-widgets/controls",
       "_model_module_version": "1.5.0",
       "_model_name": "DescriptionStyleModel",
       "_view_count": null,
       "_view_module": "@jupyter-widgets/base",
       "_view_module_version": "1.2.0",
       "_view_name": "StyleView",
       "description_width": ""
      }
     },
     "33a19de9c92440ffb5581536dbdd738b": {
      "model_module": "@jupyter-widgets/base",
      "model_module_version": "1.2.0",
      "model_name": "LayoutModel",
      "state": {
       "_model_module": "@jupyter-widgets/base",
       "_model_module_version": "1.2.0",
       "_model_name": "LayoutModel",
       "_view_count": null,
       "_view_module": "@jupyter-widgets/base",
       "_view_module_version": "1.2.0",
       "_view_name": "LayoutView",
       "align_content": null,
       "align_items": null,
       "align_self": null,
       "border": null,
       "bottom": null,
       "display": null,
       "flex": null,
       "flex_flow": null,
       "grid_area": null,
       "grid_auto_columns": null,
       "grid_auto_flow": null,
       "grid_auto_rows": null,
       "grid_column": null,
       "grid_gap": null,
       "grid_row": null,
       "grid_template_areas": null,
       "grid_template_columns": null,
       "grid_template_rows": null,
       "height": null,
       "justify_content": null,
       "justify_items": null,
       "left": null,
       "margin": null,
       "max_height": null,
       "max_width": null,
       "min_height": null,
       "min_width": null,
       "object_fit": null,
       "object_position": null,
       "order": null,
       "overflow": null,
       "overflow_x": null,
       "overflow_y": null,
       "padding": null,
       "right": null,
       "top": null,
       "visibility": null,
       "width": null
      }
     },
     "352dba1514c941d1b509ca1a6dbb305d": {
      "model_module": "@jupyter-widgets/output",
      "model_module_version": "1.0.0",
      "model_name": "OutputModel",
      "state": {
       "_dom_classes": [],
       "_model_module": "@jupyter-widgets/output",
       "_model_module_version": "1.0.0",
       "_model_name": "OutputModel",
       "_view_count": null,
       "_view_module": "@jupyter-widgets/output",
       "_view_module_version": "1.0.0",
       "_view_name": "OutputView",
       "layout": "IPY_MODEL_222fe484907646c89c6602b9d4c00a07",
       "msg_id": "",
       "outputs": [
        {
         "data": {
          "image/png": "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\n",
          "text/plain": "<Figure size 864x576 with 1 Axes>"
         },
         "metadata": {
          "needs_background": "light"
         },
         "output_type": "display_data"
        }
       ]
      }
     },
     "3f91df7893c34e23abc578cf24c3278e": {
      "model_module": "@jupyter-widgets/base",
      "model_module_version": "1.2.0",
      "model_name": "LayoutModel",
      "state": {
       "_model_module": "@jupyter-widgets/base",
       "_model_module_version": "1.2.0",
       "_model_name": "LayoutModel",
       "_view_count": null,
       "_view_module": "@jupyter-widgets/base",
       "_view_module_version": "1.2.0",
       "_view_name": "LayoutView",
       "align_content": null,
       "align_items": null,
       "align_self": null,
       "border": null,
       "bottom": null,
       "display": null,
       "flex": null,
       "flex_flow": null,
       "grid_area": null,
       "grid_auto_columns": null,
       "grid_auto_flow": null,
       "grid_auto_rows": null,
       "grid_column": null,
       "grid_gap": null,
       "grid_row": null,
       "grid_template_areas": null,
       "grid_template_columns": null,
       "grid_template_rows": null,
       "height": null,
       "justify_content": null,
       "justify_items": null,
       "left": null,
       "margin": null,
       "max_height": null,
       "max_width": null,
       "min_height": null,
       "min_width": null,
       "object_fit": null,
       "object_position": null,
       "order": null,
       "overflow": null,
       "overflow_x": null,
       "overflow_y": null,
       "padding": null,
       "right": null,
       "top": null,
       "visibility": null,
       "width": null
      }
     },
     "4dadc5a356d642a0b72de74b9b52d4a4": {
      "model_module": "@jupyter-widgets/base",
      "model_module_version": "1.2.0",
      "model_name": "LayoutModel",
      "state": {
       "_model_module": "@jupyter-widgets/base",
       "_model_module_version": "1.2.0",
       "_model_name": "LayoutModel",
       "_view_count": null,
       "_view_module": "@jupyter-widgets/base",
       "_view_module_version": "1.2.0",
       "_view_name": "LayoutView",
       "align_content": null,
       "align_items": null,
       "align_self": null,
       "border": null,
       "bottom": null,
       "display": null,
       "flex": null,
       "flex_flow": null,
       "grid_area": null,
       "grid_auto_columns": null,
       "grid_auto_flow": null,
       "grid_auto_rows": null,
       "grid_column": null,
       "grid_gap": null,
       "grid_row": null,
       "grid_template_areas": null,
       "grid_template_columns": null,
       "grid_template_rows": null,
       "height": null,
       "justify_content": null,
       "justify_items": null,
       "left": null,
       "margin": null,
       "max_height": null,
       "max_width": null,
       "min_height": null,
       "min_width": null,
       "object_fit": null,
       "object_position": null,
       "order": null,
       "overflow": null,
       "overflow_x": null,
       "overflow_y": null,
       "padding": null,
       "right": null,
       "top": null,
       "visibility": null,
       "width": null
      }
     },
     "58df3f796b0f4c0f8d5a04ac52662467": {
      "model_module": "@jupyter-widgets/base",
      "model_module_version": "1.2.0",
      "model_name": "LayoutModel",
      "state": {
       "_model_module": "@jupyter-widgets/base",
       "_model_module_version": "1.2.0",
       "_model_name": "LayoutModel",
       "_view_count": null,
       "_view_module": "@jupyter-widgets/base",
       "_view_module_version": "1.2.0",
       "_view_name": "LayoutView",
       "align_content": null,
       "align_items": null,
       "align_self": null,
       "border": null,
       "bottom": null,
       "display": null,
       "flex": null,
       "flex_flow": null,
       "grid_area": null,
       "grid_auto_columns": null,
       "grid_auto_flow": null,
       "grid_auto_rows": null,
       "grid_column": null,
       "grid_gap": null,
       "grid_row": null,
       "grid_template_areas": null,
       "grid_template_columns": null,
       "grid_template_rows": null,
       "height": null,
       "justify_content": null,
       "justify_items": null,
       "left": null,
       "margin": null,
       "max_height": null,
       "max_width": null,
       "min_height": null,
       "min_width": null,
       "object_fit": null,
       "object_position": null,
       "order": null,
       "overflow": null,
       "overflow_x": null,
       "overflow_y": null,
       "padding": null,
       "right": null,
       "top": null,
       "visibility": null,
       "width": null
      }
     },
     "5bd682a9fbf640d7bce0fa9c63f66f99": {
      "model_module": "@jupyter-widgets/controls",
      "model_module_version": "1.5.0",
      "model_name": "VBoxModel",
      "state": {
       "_dom_classes": [
        "widget-interact"
       ],
       "_model_module": "@jupyter-widgets/controls",
       "_model_module_version": "1.5.0",
       "_model_name": "VBoxModel",
       "_view_count": null,
       "_view_module": "@jupyter-widgets/controls",
       "_view_module_version": "1.5.0",
       "_view_name": "VBoxView",
       "box_style": "",
       "children": [
        "IPY_MODEL_d24df685d20947b58684f1f90ca2c3dc",
        "IPY_MODEL_352dba1514c941d1b509ca1a6dbb305d"
       ],
       "layout": "IPY_MODEL_059fe2f303b346f3b67fb571c8b9a4f5"
      }
     },
     "5e6cebc896ea432fb64d6f10b56614c6": {
      "model_module": "@jupyter-widgets/controls",
      "model_module_version": "1.5.0",
      "model_name": "DescriptionStyleModel",
      "state": {
       "_model_module": "@jupyter-widgets/controls",
       "_model_module_version": "1.5.0",
       "_model_name": "DescriptionStyleModel",
       "_view_count": null,
       "_view_module": "@jupyter-widgets/base",
       "_view_module_version": "1.2.0",
       "_view_name": "StyleView",
       "description_width": ""
      }
     },
     "6e4cab73a67c4f98b9d48898993d6ec2": {
      "model_module": "@jupyter-widgets/output",
      "model_module_version": "1.0.0",
      "model_name": "OutputModel",
      "state": {
       "_dom_classes": [],
       "_model_module": "@jupyter-widgets/output",
       "_model_module_version": "1.0.0",
       "_model_name": "OutputModel",
       "_view_count": null,
       "_view_module": "@jupyter-widgets/output",
       "_view_module_version": "1.0.0",
       "_view_name": "OutputView",
       "layout": "IPY_MODEL_b8de6d515f9948e0b0bdff38e9bcd29f",
       "msg_id": "",
       "outputs": [
        {
         "data": {
          "text/html": "        <script type=\"text/javascript\">\n        window.PlotlyConfig = {MathJaxConfig: 'local'};\n        if (window.MathJax && window.MathJax.Hub && window.MathJax.Hub.Config) {window.MathJax.Hub.Config({SVG: {font: \"STIX-Web\"}});}\n        if (typeof require !== 'undefined') {\n        require.undef(\"plotly\");\n        requirejs.config({\n            paths: {\n                'plotly': ['https://cdn.plot.ly/plotly-2.18.0.min']\n            }\n        });\n        require(['plotly'], function(Plotly) {\n            window._Plotly = Plotly;\n        });\n        }\n        </script>\n        "
         },
         "metadata": {},
         "output_type": "display_data"
        },
        {
         "data": {
          "text/html": "<div>                            <div id=\"d519314f-7f8b-4da9-9eea-e681a1ef76d7\" class=\"plotly-graph-div\" style=\"height:525px; width:100%;\"></div>            <script type=\"text/javascript\">                require([\"plotly\"], function(Plotly) {                    window.PLOTLYENV=window.PLOTLYENV || {};                                    if (document.getElementById(\"d519314f-7f8b-4da9-9eea-e681a1ef76d7\")) {                    Plotly.newPlot(                        \"d519314f-7f8b-4da9-9eea-e681a1ef76d7\",                        [{\"hovertemplate\":\"Performance Point (PP)=%{x}<br>Horse Power (HP)=%{y}<br>Model=%{text}<extra></extra>\",\"legendgroup\":\"\",\"marker\":{\"color\":\"red\",\"symbol\":\"circle\",\"size\":10},\"mode\":\"markers\",\"name\":\"\",\"orientation\":\"v\",\"showlegend\":false,\"text\":[\"Abarth 1500 Biposto Bertone B.A.T 1 '52\",\"Abarth 500 '09\",\"Abarth 595 SS '70\",\"Alfa Romeo 155 2.5 V6 TI '93\",\"Alfa Romeo 4C '14\",\"Alfa Romeo 4C Gr.3\",\"Alfa Romeo 4C Gr.3 Road Car\",\"Alfa Romeo 4C Gr.4\",\"Alfa Romeo 8C 2900B Touring Berlinetta '38\",\"Alfa Romeo 8C Competizione '08\",\"Alfa Romeo GIULIA TZ2 carrozzata da ZAGATO '65\",\"Alfa Romeo MiTo '09\",\"Alpine A110 '17\",\"Alpine A110 '72\",\"Alpine A220 Race Car '68\",\"Alpine Alpine VGT\",\"Alpine Alpine VGT '17\",\"Alpine Alpine VGT Race\",\"AMG 300 SEL 6.8 AMG '71\",\"AMG A 45 AMG '13\",\"AMG CLK-LM '98\",\"AMG Mercedes-AMG C 63 S '15\",\"AMG Mercedes-AMG GT Black Series '20\",\"AMG Mercedes-AMG GT R '17\",\"AMG Mercedes-AMG GT S '15\",\"AMG Mercedes-AMG GT Safety Car\",\"AMG Mercedes-AMG GT3 '16\",\"AMG Mercedes-Benz AMG VGT\",\"AMG Mercedes-Benz AMG VGT Racing Series\",\"AMG SLS AMG '10\",\"AMG SLS AMG GR.4\",\"AMG SLS AMG GT3 '11\",\"Amuse Amuse NISMO 380RS Super Leggera\",\"Amuse S2000 GT1 Turbo\",\"Aston Martin DB11 '16\",\"Aston Martin DB3S '53\",\"Aston Martin DB5 '64\",\"Aston Martin DBR9 GT1 '10\",\"Aston Martin DP-100 VGT\",\"Aston Martin One-77 '11\",\"Aston Martin V12 Vantage GT3 '12\",\"Aston Martin V8 Vantage GR.4\",\"Aston Martin V8 Vantage S '15\",\"Aston Martin Vulcan '16\",\"Audi Audi e-tron VGT\",\"Audi Audi VGT\",\"Audi R18 '16\",\"Audi R18 TDI '11\",\"Audi R8 4.2 '07\",\"Audi R8 LMS '15\",\"Audi R8 LMS Evo '19\",\"Audi Sport Quattro S1 Pikes Peak '87\",\"Audi TT Coupé 3.2 quattro '03\",\"Audi TT CUP '16\",\"Audi TTS Coupé '14\",\"Autobianchi A112 Abarth '85\",\"BAC Mono '16\",\"BMW 3.0 CSL '71\",\"BMW 3.0 CSL '73\",\"BMW BMW VGT\",\"BMW i3 2015\",\"BMW M3 '03\",\"BMW M3 '07\",\"BMW M3 '89\",\"BMW M3 GT '11\",\"BMW M3 Sport Evolution '89\",\"BMW M4 '14\",\"BMW M4 GR.4\",\"BMW M4 Safety Car\",\"BMW M6 GT3 Endurance Model '16\",\"BMW M6 GT3 Sprint Model '16\",\"BMW McLaren F1 GTR Race Car '97\",\"BMW Z4 GT3 '11\",\"BMW Z8 '01\",\"Bugatti Bugatti VGT\",\"Bugatti Bugatti VGT (GR.1)\",\"Bugatti Veyron 16.4 '13\",\"Bugatti Veyron Gr.4\",\"Chaparral 2J '70\",\"Chaparral Chevrolet Chaparral 2X VGT\",\"Chevrolet Camaro SS '16\",\"Chevrolet Camaro Z28 '69\",\"Chevrolet Camaro ZL1 1LE Package '18\",\"Chevrolet Corvette (C2) '63\",\"Chevrolet Corvette C7 '14\",\"Chevrolet Corvette C7 Gr.3\",\"Chevrolet Corvette C7 Gr.3 Road Car\",\"Chevrolet Corvette C7 Gr.4\",\"Chevrolet Corvette C7 ZR1 '19\",\"Chevrolet Corvette Convertible (C3) '69\",\"Chevrolet Corvette Stingray (C3) '69\",\"Chevrolet Corvette Stingray Racer Concept '59\",\"Chevrolet Corvette ZR-1 (C4) '89\",\"Chevrolet Corvette ZR1 (C6) '09\",\"Chris Holstrom Concepts CHC 1967 Chevy Nova\",\"Citroen GT BY Citroën GR.4\",\"Citroen GT by Citroën Race Car (Gr.3)\",\"Citroen GT by Citroën Road Car\",\"Daihatsu Copen '02\",\"Daihatsu COPEN RJ VGT\",\"De Tomaso Mangusta '69\",\"De Tomaso Pantera '71\",\"DMC DeLorean S2 '04\",\"Dodge Challenger R/T '70\",\"Dodge Charger SRT Hellcat '15\",\"Dodge Charger SRT Hellcat Safety Car\",\"Dodge SRT Tomahawk GTS-R VGT\",\"Dodge SRT Tomahawk S VGT\",\"Dodge SRT Tomahawk VGT (Gr.1)\",\"Dodge Super Bee '70\",\"Dodge Viper Gr.4\",\"Dodge Viper GTS '02\",\"Dodge Viper GTS '13\",\"Dodge Viper SRT GT3-R '15\",\"Dodge Viper SRT10 Coupe '06\",\"DS Automobiles DS3 Racing '11\",\"Eckert's Rod & Customs Mach Forty\",\"Ferrari 250 GT Berlinetta passo corto '61\",\"Ferrari 250 GTO '62\",\"Ferrari 308 GTB '75\",\"Ferrari 330 P4 '67\",\"Ferrari 365 GTB4 '71\",\"Ferrari 458 Italia '09\",\"Ferrari 458 Italia Gr.4\",\"Ferrari 458 Italia GT3 '13\",\"Ferrari 500 Mondial Pinin Farina '54\",\"Ferrari 512 BB '76\",\"Ferrari Dino 246 GT '71\",\"Ferrari Enzo Ferrari '02\",\"Ferrari F12berlinetta '12\",\"Ferrari F40 '92\",\"Ferrari F430 '06\",\"Ferrari F50 '95\",\"Ferrari F8 Tributo '19\",\"Ferrari FXX K' '14\",\"Ferrari GTO '84\",\"Ferrari LaFerrari '13\",\"Ferrari Testarossa '91\",\"Fiat 500 1.2 8V Lounge SS '08\",\"Fiat 500 F '68\",\"Ford F-150 SVT Raptor '11\",\"Ford Focus Gr.B Rally Car\",\"Ford Focus RS '18\",\"Ford Focus ST '15\",\"Ford Ford GT '06\",\"Ford Ford GT '17\",\"Ford GT LM Race Car Spec II\",\"Ford GT LM Spec II Test Car\",\"Ford GT40 GT Race Car '18\",\"Ford GT40 Mark I '66\",\"Ford Mark IV Race Car '67\",\"Ford Mustang Boss 429 '69\",\"Ford Mustang Gr.3\",\"Ford Mustang Gr.3 Road Car\",\"Ford Mustang Gr.4\",\"Ford Mustang Gr.B Rally Car\",\"Ford Mustang GT '15\",\"Ford Mustang Mach 1 '71\",\"Ford Shelby GT350R '16\",\"Genesis G70 3.3T AWD P.Package '22\",\"Genesis G70 GR4\",\"Genesis Genesis X GR3\",\"Gran Turismo F1500T-A\",\"Gran Turismo Racing Kart 125 Shifter\",\"Gran Turismo Red Bull X2014 Junior\",\"Gran Turismo Red Bull X2014 Standard\",\"Gran Turismo Red Bull X2019 Competition\",\"Greddy Greddy Fugu Z\",\"Honda 2&4 powered by RC213V\",\"Honda Beat '91\",\"Honda Civic Type R (EK) '97\",\"Honda Civic Type R (EK) '98\",\"Honda Civic Type R (EK) Touring Car\",\"Honda Civic Type R (FK2) '15\",\"Honda Civic Type R Limited Edition (FK8) '20\",\"Honda Fit Hybrid '14\",\"Honda Honda Sports VGT\",\"Honda Integra Type R (DC2) '95\",\"Honda Integra Type R (DC2) '98\",\"Honda NSX '17\",\"Honda NSX CONCEPT-GT '16\",\"Honda NSX Gr.3\",\"Honda NSX Gr.4\",\"Honda NSX Gr.B Rally Car\",\"Honda NSX GT500 '08\",\"Honda NSX Type R '02\",\"Honda NSX Type R '92\",\"Honda S2000 '99\",\"Honda S660 '15\",\"Honda S800 '66\",\"Hyundai Genesis Coupe 3.8 '13\",\"Hyundai Genesis Gr.3\",\"Hyundai Genesis Gr.4\",\"Hyundai Genesis GR.B Rally Car\",\"Hyundai HYUNDAI N 2025 VGT\",\"Hyundai HYUNDAI N 2025 VGT (Gr.1)\",\"Infiniti INFINITI CONCEPT VGT\",\"Jaguar D-Type '54\",\"Jaguar E-Type Coupé '61\",\"Jaguar F-Type Gr.3\",\"Jaguar F-Type Gr.4\",\"Jaguar F-Type R '14\",\"Jaguar Jaguar VFT SV\",\"Jaguar Jaguar VGT Coupé\",\"Jaguar Jaguar VGT Roadster\",\"Jaguar XJ13 '66\",\"Jaguar XJR-9 '88\",\"Jeep Willys MB '45\",\"KTM X-BOW R '12\",\"Lamborghini Aventador LP 700-4 '11\",\"Lamborghini Aventador LP 750-4 SV '15\",\"Lamborghini Countach 25th Anniversary '88\",\"Lamborghini Countach LP400 '74\",\"Lamborghini Diablo GT '00\",\"Lamborghini Huracán Gr.4\",\"Lamborghini Huracán GT3 '15\",\"Lamborghini Huracán LP 610-4 '15\",\"Lamborghini Lambo V12 VGT\",\"Lamborghini Miura P400 Bertone Prototype '67\",\"Lamborghini Murciélago LP 640 '09\",\"Lamborghini Veneno '14\",\"Lancia Delta HF Integrale Evoluzione '91\",\"Lancia Stratos '73\",\"Lexus LC500 '17\",\"Lexus LF-LC GT VGT\",\"Lexus R CF Gr.4\",\"Lexus RC F '14\",\"Lexus RC F GT3 '17\",\"Lexus RC F GT3 prototype '16\",\"Lexus RC F GT500 '16\",\"Lexus SC430 GT500 '08\",\"Maserati GranTurismo S '08\",\"Mazda 787B '91\",\"Mazda Atenza Gr.3\",\"Mazda Atenza Gr.3 Road Car\",\"Mazda Atenza Gr.4\",\"Mazda Atenza Sedan XD L Package '15\",\"Mazda Demio XD Touring '15\",\"Mazda Eunos Roadster (NA) '89\",\"Mazda LM55 VGT\",\"Mazda LM55 VGT (Gr.1)\",\"Mazda Roadster S (ND) '15\",\"Mazda Roadster Touring Car\",\"Mazda RX-7 GT-X (FC) '90\",\"Mazda RX-7 Spirit R Type A (FD) '02\",\"Mazda RX-8 Spirit R '12\",\"Mazda RX-Vision '15\",\"Mazda RX-VISION GT3 CONCEPT\",\"Mazda RX-VISION GT3 CONCEPT Stealth Model\",\"Mazda RX500 '70\",\"McLaren 650S '14\",\"McLaren 650S Gr.4\",\"McLaren 650S GT3 '15\",\"McLaren McLaren F1 GTR - BMW '95\",\"McLaren McLaren P1 GTR '16\",\"McLaren McLaren VGT\",\"McLaren McLaren VGT (Gr.1)\",\"McLaren MP4-12C '10\",\"Mercedes-Benz 300 SL (W194) Coupé '52\",\"Mercedes-Benz 300 SL Coupé '54\",\"Mercedes-Benz S Barker Tourer '29\",\"Mercedes-Benz Sauber Mercedes C9 '89\",\"Mercedes-Benz SLR McLaren 2009\",\"MINI MINI Clubman VGT\",\"MINI Mini Cooper S '05\",\"MINI Mini-Cooper 'S' '65\",\"Mitsubishi Concept XR-PHEV EVOLUTION VGT\",\"Mitsubishi GTO Twin Turbo '91\",\"Mitsubishi Lancer Evolution Final '15\",\"Mitsubishi Lancer Evolution Final Gr.3\",\"Mitsubishi Lancer Evolution Final Gr.4\",\"Mitsubishi Lancer Evolution Final Gr.B Rally Car\",\"Mitsubishi Lancer Evolution Final Gr.B Road Car\",\"Mitsubishi Lancer Evolution IV GSR '96\",\"Mitsubishi Lancer Evolution V GSR '98\",\"Mitsubishi Lancer Evolution VI GSR T.M. SCP '99\",\"Nissan 180SX Type X '96\",\"Nissan Fairlady 240ZG (HS30) '71\",\"Nissan Fairlady Z (Z34) '08\",\"Nissan Fairlady Z 300ZX TT 2seater '89\",\"Nissan Fairlady Z 432 '69\",\"Nissan Fairlady Z Version S (Z33) '07\",\"Nissan GT-R '17\",\"Nissan GT-R GR.4\",\"Nissan GT-R Gr.B Rally Car\",\"Nissan GT-R GT500 '08\",\"Nissan GT-R LM NISMO '15\",\"Nissan GT-R NISMO '17\",\"Nissan GT-R NISMO GT3 '13\",\"Nissan GT-R NISMO GT500 '16\",\"Nissan GT-R Safety Car\",\"Nissan GT-T GT500 '99\",\"Nissan NISSAN CONCEPT 2020 VGT\",\"Nissan R32 GT-R V-spec II '94\",\"Nissan R33 GT-R V-spec '97\",\"Nissan R34 GT-R V-spec II Nür '02\",\"Nissan R92CP '92\",\"Nissan Sileighty '98\",\"Nissan Silvia K's Dia Selection (S13) '90\",\"Nissan Silvia Q's (S13) '88\",\"Nissan SILVIA spec-R Aero (S15) '02\",\"Nissan Silvia spec-R Aero (S15) Touring Car\",\"Nissan Skyline Hard Top 2000GT-R (KPGC10) '70\",\"Nissan Z Performance '23\",\"Pagani Huayra '13\",\"Pagani Zonda R '09\",\"Peugeot 205 Turbo 16 Evolution 2 '86\",\"Peugeot 208 GTI by Peugeot Sport '14\",\"Peugeot 908 HDi FAP '10\",\"Peugeot L500R HYbrid VGT 2017\",\"Peugeot L750R HYbrid VGT 2017\",\"Peugeot PEUGEOT VGT\",\"Peugeot PEUGEOT VGT Gr.3\",\"Peugeot RCZ Gr.3\",\"Peugeot RCZ Gr.3 Road Car\",\"Peugeot RCZ Gr.4\",\"Peugeot RCZ Gr.B Rally Car\",\"Peugeot RCZ GT Line '15\",\"Plymouth Superbird '70\",\"Plymouth XNR Ghia Roadster '60\",\"Pontiac Firebird Trans Am '78\",\"Porsche 356 A/1500 GS Carrera '56\",\"Porsche 356 A/1500 GS GT Carrera Speedster '56\",\"Porsche 911 Carrera RS (964) '92\",\"Porsche 911 Carrera RS (993) '95\",\"Porsche 911 Carrera RS CS (993) '95\",\"Porsche 911 GT1 Strassenversion '97\",\"Porsche 911 GT3 (996) '01\",\"Porsche 911 GT3 (997) '09\",\"Porsche 911 GT3 RS (991) '16\",\"Porsche 911 RSR (991) '17\",\"Porsche 911 Turbo (930) '81\",\"Porsche 917K LIVING LEGEND\",\"Porsche 919 Hybrid '16\",\"Porsche 962 C '88\",\"Porsche Carrera GT '04\",\"Porsche Cayman GT4 Clubsport '16\",\"Porsche Porsche VGT\",\"Porsche Spyder type 550/1500RS '55\",\"Porsche TAYCAN TURBO S 2019\",\"Radical SR3 SL '13\",\"RE Amemiya FD3S RX-7\",\"Renault Clio R.S. 220 Trophy '15\",\"Renault Clio R.S. 220 Trophy '16\",\"Renault Clio V6 24V '00\",\"Renault Mégane Gr.4\",\"Renault Mégane R.S. Trophy '11\",\"Renault Mégane RS Trophy Safety Car\",\"Renault Mégane Trophy '11\",\"Renault R.S.01 '16\",\"Renault R.S.01 GT3 '16\",\"Renault R5 Turbo '80\",\"Renault R8 GORDINI '66\",\"RUF CTR3 '07\",\"Shelby Cobra 427 '66\",\"Shelby Cobra Daytona Coupe '64\",\"Shelby G.T.350 '65\",\"Subaru BRZ Drift Car '17\",\"Subaru BRZ S '15\",\"Subaru BRZ STI Sport '18\",\"Subaru Impreza 22B-STi '98\",\"Subaru Impreza Coupe WRX Type R STi Ver.VI '99\",\"Subaru VIZIV GT VGT\",\"Subaru WRX Gr.3\",\"Subaru WRX Gr.4\",\"Subaru WRX Gr.B Rally Car\",\"Subaru WRX Gr.B Road Car\",\"Subaru WRX STI Isle of Man '16\",\"Subaru WRX STI Type S '14\",\"Super Formula SF19 Super Formula / Honda '19\",\"Super Formula SF19 Super Formula / Toyota '19\",\"Suzuki Swift Sport '07\",\"Suzuki Swift Sport '17\",\"Suzuki Swift Sport Gr.4\",\"Tesla Model S Signature Performance '12\",\"Toyota 2000GT '67\",\"Toyota 86 Gr.4\",\"Toyota 86 Gr.B Rally Car\",\"Toyota 86 GRMN '16\",\"Toyota 86 GT '15\",\"Toyota 86 GT\\\"Limited\\\" '16\",\"Toyota Aqua S '11\",\"Toyota Celica GT-Four (ST205) '94\",\"Toyota Corolla Levin 1600GT APEX (AE86) '83\",\"Toyota Crown Athlete G '13\",\"Toyota Crown Athlete G Safety Car\",\"Toyota FT-1\",\"Toyota FT-1 VGT\",\"Toyota FT-1 VGT (Gr.3)\",\"Toyota GR Supra Race Car '19\",\"Toyota GR Supra Racing Concept '18\",\"Toyota GR Supra RZ '19\",\"Toyota GR Supra RZ '20\",\"Toyota GR Yaris RZ \\\"High performance\\\" '20\",\"Toyota GR86 '21\",\"Toyota MR2 GT-S '97\",\"Toyota Prius G '09\",\"Toyota S-FR '15\",\"Toyota S-FR Racing Concept '16\",\"Toyota Sports 800 '65\",\"Toyota Sprinter Trueno 1600GT APEX (AE86) '83\",\"Toyota Sprinter Trueno 1600GT APEX (S.Shigeno Version)\",\"Toyota Supra 3.0GT Turbo A '88\",\"Toyota Supra GT500 '97\",\"Toyota Supra RZ '97\",\"Toyota TS030 Hybrid '12\",\"Toyota TS050 - Hybrid '16\",\"Toyota Tundra TRD Pro '19\",\"TVR Tuscan Speed 6 '00\",\"Volkswagen Beetle Gr.3\",\"Volkswagen Golf I GTI '83\",\"Volkswagen Golf VII GTI '14\",\"Volkswagen GTI Roadster VGT\",\"Volkswagen GTI Supersport VGT\",\"Volkswagen GTI VGT (Gr.3)\",\"Volkswagen Polo GTI '14\",\"Volkswagen Sambabus Typ 2 '62\",\"Volkswagen Scirocco Gr.4\",\"Volkswagen Scirocco R '10\",\"Volkswagen Volkswagen 1200 '66\",\"Wicked Fabrication Wicked Fabrication GT 51\",\"Zagato IsoRivolta Zagato VGT\"],\"x\":[null,377.0,184.0,673.0,523.0,724.0,556.0,627.0,null,555.0,null,396.0,522.0,405.0,null,656.0,906.0,744.0,null,518.0,null,571.0,663.0,595.0,577.0,586.0,740.0,644.0,737.0,587.0,646.0,735.0,552.0,662.0,578.0,null,null,751.0,718.0,626.0,742.0,644.0,552.0,756.0,848.0,927.0,924.0,898.0,558.0,754.0,752.0,null,462.0,638.0,513.0,299.0,641.0,399.0,416.0,723.0,386.0,522.0,533.0,null,725.0,455.0,562.0,627.0,563.0,732.0,732.0,null,723.0,535.0,906.0,940.0,664.0,640.0,874.0,1032.0,553.0,433.0,621.0,482.0,571.0,728.0,570.0,649.0,641.0,443.0,null,null,502.0,603.0,608.0,653.0,762.0,589.0,279.0,484.0,476.0,462.0,434.0,463.0,591.0,592.0,1140.0,916.0,946.0,429.0,649.0,554.0,592.0,756.0,571.0,438.0,626.0,null,null,null,null,null,609.0,639.0,747.0,463.0,514.0,436.0,655.0,634.0,603.0,591.0,609.0,687.0,812.0,null,738.0,null,267.0,86.0,417.0,651.0,514.0,491.0,597.0,621.0,752.0,760.0,734.0,549.0,708.0,486.0,726.0,559.0,639.0,651.0,536.0,428.0,574.0,502.0,653.0,724.0,909.0,587.0,699.0,1066.0,958.0,542.0,555.0,310.0,413.0,414.0,519.0,505.0,517.0,328.0,658.0,431.0,435.0,577.0,855.0,729.0,647.0,656.0,804.0,526.0,522.0,475.0,331.0,272.0,503.0,730.0,633.0,648.0,1000.0,929.0,643.0,null,430.0,727.0,642.0,566.0,1035.0,750.0,748.0,704.0,null,197.0,600.0,628.0,665.0,521.0,null,589.0,664.0,754.0,624.0,820.0,null,608.0,692.0,395.0,434.0,544.0,851.0,640.0,543.0,721.0,721.0,852.0,803.0,539.0,null,727.0,559.0,618.0,360.0,310.0,368.0,970.0,926.0,403.0,515.0,437.0,516.0,487.0,626.0,740.0,740.0,null,629.0,638.0,728.0,null,797.0,989.0,935.0,620.0,null,null,null,878.0,595.0,660.0,419.0,251.0,699.0,451.0,503.0,731.0,628.0,628.0,556.0,462.0,475.0,499.0,442.0,null,511.0,468.0,null,518.0,587.0,638.0,652.0,804.0,904.0,619.0,725.0,853.0,596.0,null,683.0,502.0,501.0,518.0,null,null,402.0,365.0,485.0,642.0,null,536.0,675.0,781.0,null,432.0,926.0,656.0,949.0,806.0,714.0,726.0,544.0,632.0,646.0,408.0,null,424.0,397.0,351.0,null,512.0,530.0,528.0,635.0,551.0,579.0,633.0,726.0,494.0,818.0,936.0,null,621.0,649.0,809.0,null,601.0,521.0,554.0,448.0,446.0,null,648.0,482.0,483.0,664.0,748.0,739.0,392.0,null,661.0,null,null,449.0,604.0,428.0,451.0,null,457.0,697.0,726.0,631.0,645.0,544.0,679.0,495.0,976.0,976.0,386.0,410.0,664.0,519.0,null,639.0,663.0,463.0,428.0,431.0,349.0,450.0,360.0,484.0,493.0,581.0,775.0,723.0,640.0,726.0,535.0,545.0,497.0,482.0,null,369.0,399.0,543.0,null,null,null,466.0,729.0,500.0,917.0,927.0,400.0,null,742.0,347.0,442.0,721.0,724.0,713.0,422.0,119.0,656.0,498.0,177.0,518.0,649.0],\"xaxis\":\"x\",\"y\":[72.0,133.0,30.0,413.0,235.0,528.0,443.0,295.0,null,442.0,164.0,152.0,248.0,138.0,null,443.0,594.0,443.0,422.0,355.0,599.0,503.0,719.0,576.0,502.0,502.0,614.0,576.0,590.0,570.0,419.0,614.0,380.0,616.0,599.0,225.0,null,599.0,799.0,748.0,591.0,399.0,429.0,820.0,803.0,735.0,506.0,532.0,414.0,585.0,576.0,589.0,239.0,335.0,305.0,71.0,304.0,177.0,205.0,541.0,166.0,339.0,415.0,null,500.0,235.0,425.0,394.0,425.0,584.0,584.0,585.0,522.0,395.0,1626.0,641.0,986.0,433.0,679.0,81.0,453.0,289.0,649.0,359.0,453.0,571.0,493.0,414.0,754.0,303.0,350.0,305.0,375.0,639.0,732.0,394.0,599.0,500.0,62.0,146.0,300.0,330.0,197.0,425.0,707.0,707.0,1449.0,1006.0,693.0,328.0,428.0,448.0,640.0,678.0,508.0,203.0,787.0,267.0,287.0,null,435.0,336.0,563.0,374.0,542.0,168.0,359.0,194.0,658.0,730.0,471.0,495.0,511.0,710.0,1034.0,382.0,949.0,null,65.0,17.0,411.0,538.0,350.0,250.0,550.0,646.0,606.0,590.0,527.0,354.0,503.0,734.0,568.0,502.0,395.0,549.0,434.0,302.0,525.0,366.0,414.0,547.0,986.0,49.0,246.0,798.0,804.0,294.0,211.0,64.0,176.0,181.0,247.0,305.0,315.0,138.0,403.0,197.0,194.0,570.0,603.0,568.0,394.0,557.0,518.0,290.0,288.0,242.0,63.0,68.0,343.0,575.0,384.0,499.0,870.0,640.0,535.0,250.0,264.0,552.0,399.0,542.0,1876.0,1004.0,1004.0,510.0,749.0,60.0,298.0,690.0,739.0,443.0,374.0,570.0,404.0,576.0,601.0,774.0,349.0,631.0,739.0,212.0,185.0,469.0,612.0,419.0,469.0,535.0,527.0,614.0,516.0,439.0,690.0,567.0,483.0,393.0,172.0,103.0,119.0,null,641.0,128.0,205.0,203.0,292.0,230.0,517.0,562.0,562.0,248.0,641.0,399.0,542.0,600.0,986.0,1134.0,936.0,600.0,null,212.0,null,710.0,616.0,388.0,167.0,65.0,502.0,289.0,309.0,610.0,389.0,521.0,473.0,273.0,306.0,311.0,206.0,148.0,331.0,276.0,null,310.0,564.0,428.0,542.0,527.0,604.0,591.0,591.0,612.0,564.0,null,null,306.0,324.0,336.0,939.0,202.0,174.0,132.0,246.0,355.0,158.0,399.0,730.0,737.0,450.0,204.0,700.0,268.0,693.0,873.0,542.0,520.0,468.0,345.0,516.0,152.0,425.0,250.0,219.0,97.0,108.0,251.0,295.0,295.0,533.0,354.0,428.0,491.0,509.0,295.0,976.0,499.0,611.0,603.0,379.0,1098.0,null,751.0,239.0,366.0,216.0,216.0,230.0,350.0,261.0,261.0,359.0,542.0,534.0,159.0,102.0,690.0,485.0,385.0,304.0,1037.0,197.0,203.0,290.0,275.0,630.0,591.0,377.0,521.0,473.0,578.0,302.0,639.0,639.0,123.0,137.0,345.0,410.0,154.0,358.0,516.0,214.0,197.0,203.0,120.0,250.0,126.0,309.0,309.0,null,null,544.0,394.0,591.0,335.0,382.0,268.0,231.0,244.0,120.0,133.0,349.0,43.0,127.0,201.0,266.0,492.0,330.0,529.0,493.0,379.0,360.0,591.0,109.0,216.0,551.0,551.0,551.0,189.0,34.0,358.0,252.0,33.0,372.0,559.0],\"yaxis\":\"y\",\"type\":\"scatter\"}],                        {\"template\":{\"data\":{\"histogram2dcontour\":[{\"type\":\"histogram2dcontour\",\"colorbar\":{\"outlinewidth\":0,\"ticks\":\"\"},\"colorscale\":[[0.0,\"#0d0887\"],[0.1111111111111111,\"#46039f\"],[0.2222222222222222,\"#7201a8\"],[0.3333333333333333,\"#9c179e\"],[0.4444444444444444,\"#bd3786\"],[0.5555555555555556,\"#d8576b\"],[0.6666666666666666,\"#ed7953\"],[0.7777777777777778,\"#fb9f3a\"],[0.8888888888888888,\"#fdca26\"],[1.0,\"#f0f921\"]]}],\"choropleth\":[{\"type\":\"choropleth\",\"colorbar\":{\"outlinewidth\":0,\"ticks\":\"\"}}],\"histogram2d\":[{\"type\":\"histogram2d\",\"colorbar\":{\"outlinewidth\":0,\"ticks\":\"\"},\"colorscale\":[[0.0,\"#0d0887\"],[0.1111111111111111,\"#46039f\"],[0.2222222222222222,\"#7201a8\"],[0.3333333333333333,\"#9c179e\"],[0.4444444444444444,\"#bd3786\"],[0.5555555555555556,\"#d8576b\"],[0.6666666666666666,\"#ed7953\"],[0.7777777777777778,\"#fb9f3a\"],[0.8888888888888888,\"#fdca26\"],[1.0,\"#f0f921\"]]}],\"heatmap\":[{\"type\":\"heatmap\",\"colorbar\":{\"outlinewidth\":0,\"ticks\":\"\"},\"colorscale\":[[0.0,\"#0d0887\"],[0.1111111111111111,\"#46039f\"],[0.2222222222222222,\"#7201a8\"],[0.3333333333333333,\"#9c179e\"],[0.4444444444444444,\"#bd3786\"],[0.5555555555555556,\"#d8576b\"],[0.6666666666666666,\"#ed7953\"],[0.7777777777777778,\"#fb9f3a\"],[0.8888888888888888,\"#fdca26\"],[1.0,\"#f0f921\"]]}],\"heatmapgl\":[{\"type\":\"heatmapgl\",\"colorbar\":{\"outlinewidth\":0,\"ticks\":\"\"},\"colorscale\":[[0.0,\"#0d0887\"],[0.1111111111111111,\"#46039f\"],[0.2222222222222222,\"#7201a8\"],[0.3333333333333333,\"#9c179e\"],[0.4444444444444444,\"#bd3786\"],[0.5555555555555556,\"#d8576b\"],[0.6666666666666666,\"#ed7953\"],[0.7777777777777778,\"#fb9f3a\"],[0.8888888888888888,\"#fdca26\"],[1.0,\"#f0f921\"]]}],\"contourcarpet\":[{\"type\":\"contourcarpet\",\"colorbar\":{\"outlinewidth\":0,\"ticks\":\"\"}}],\"contour\":[{\"type\":\"contour\",\"colorbar\":{\"outlinewidth\":0,\"ticks\":\"\"},\"colorscale\":[[0.0,\"#0d0887\"],[0.1111111111111111,\"#46039f\"],[0.2222222222222222,\"#7201a8\"],[0.3333333333333333,\"#9c179e\"],[0.4444444444444444,\"#bd3786\"],[0.5555555555555556,\"#d8576b\"],[0.6666666666666666,\"#ed7953\"],[0.7777777777777778,\"#fb9f3a\"],[0.8888888888888888,\"#fdca26\"],[1.0,\"#f0f921\"]]}],\"surface\":[{\"type\":\"surface\",\"colorbar\":{\"outlinewidth\":0,\"ticks\":\"\"},\"colorscale\":[[0.0,\"#0d0887\"],[0.1111111111111111,\"#46039f\"],[0.2222222222222222,\"#7201a8\"],[0.3333333333333333,\"#9c179e\"],[0.4444444444444444,\"#bd3786\"],[0.5555555555555556,\"#d8576b\"],[0.6666666666666666,\"#ed7953\"],[0.7777777777777778,\"#fb9f3a\"],[0.8888888888888888,\"#fdca26\"],[1.0,\"#f0f921\"]]}],\"mesh3d\":[{\"type\":\"mesh3d\",\"colorbar\":{\"outlinewidth\":0,\"ticks\":\"\"}}],\"scatter\":[{\"fillpattern\":{\"fillmode\":\"overlay\",\"size\":10,\"solidity\":0.2},\"type\":\"scatter\"}],\"parcoords\":[{\"type\":\"parcoords\",\"line\":{\"colorbar\":{\"outlinewidth\":0,\"ticks\":\"\"}}}],\"scatterpolargl\":[{\"type\":\"scatterpolargl\",\"marker\":{\"colorbar\":{\"outlinewidth\":0,\"ticks\":\"\"}}}],\"bar\":[{\"error_x\":{\"color\":\"#2a3f5f\"},\"error_y\":{\"color\":\"#2a3f5f\"},\"marker\":{\"line\":{\"color\":\"#E5ECF6\",\"width\":0.5},\"pattern\":{\"fillmode\":\"overlay\",\"size\":10,\"solidity\":0.2}},\"type\":\"bar\"}],\"scattergeo\":[{\"type\":\"scattergeo\",\"marker\":{\"colorbar\":{\"outlinewidth\":0,\"ticks\":\"\"}}}],\"scatterpolar\":[{\"type\":\"scatterpolar\",\"marker\":{\"colorbar\":{\"outlinewidth\":0,\"ticks\":\"\"}}}],\"histogram\":[{\"marker\":{\"pattern\":{\"fillmode\":\"overlay\",\"size\":10,\"solidity\":0.2}},\"type\":\"histogram\"}],\"scattergl\":[{\"type\":\"scattergl\",\"marker\":{\"colorbar\":{\"outlinewidth\":0,\"ticks\":\"\"}}}],\"scatter3d\":[{\"type\":\"scatter3d\",\"line\":{\"colorbar\":{\"outlinewidth\":0,\"ticks\":\"\"}},\"marker\":{\"colorbar\":{\"outlinewidth\":0,\"ticks\":\"\"}}}],\"scattermapbox\":[{\"type\":\"scattermapbox\",\"marker\":{\"colorbar\":{\"outlinewidth\":0,\"ticks\":\"\"}}}],\"scatterternary\":[{\"type\":\"scatterternary\",\"marker\":{\"colorbar\":{\"outlinewidth\":0,\"ticks\":\"\"}}}],\"scattercarpet\":[{\"type\":\"scattercarpet\",\"marker\":{\"colorbar\":{\"outlinewidth\":0,\"ticks\":\"\"}}}],\"carpet\":[{\"aaxis\":{\"endlinecolor\":\"#2a3f5f\",\"gridcolor\":\"white\",\"linecolor\":\"white\",\"minorgridcolor\":\"white\",\"startlinecolor\":\"#2a3f5f\"},\"baxis\":{\"endlinecolor\":\"#2a3f5f\",\"gridcolor\":\"white\",\"linecolor\":\"white\",\"minorgridcolor\":\"white\",\"startlinecolor\":\"#2a3f5f\"},\"type\":\"carpet\"}],\"table\":[{\"cells\":{\"fill\":{\"color\":\"#EBF0F8\"},\"line\":{\"color\":\"white\"}},\"header\":{\"fill\":{\"color\":\"#C8D4E3\"},\"line\":{\"color\":\"white\"}},\"type\":\"table\"}],\"barpolar\":[{\"marker\":{\"line\":{\"color\":\"#E5ECF6\",\"width\":0.5},\"pattern\":{\"fillmode\":\"overlay\",\"size\":10,\"solidity\":0.2}},\"type\":\"barpolar\"}],\"pie\":[{\"automargin\":true,\"type\":\"pie\"}]},\"layout\":{\"autotypenumbers\":\"strict\",\"colorway\":[\"#636efa\",\"#EF553B\",\"#00cc96\",\"#ab63fa\",\"#FFA15A\",\"#19d3f3\",\"#FF6692\",\"#B6E880\",\"#FF97FF\",\"#FECB52\"],\"font\":{\"color\":\"#2a3f5f\"},\"hovermode\":\"closest\",\"hoverlabel\":{\"align\":\"left\"},\"paper_bgcolor\":\"white\",\"plot_bgcolor\":\"#E5ECF6\",\"polar\":{\"bgcolor\":\"#E5ECF6\",\"angularaxis\":{\"gridcolor\":\"white\",\"linecolor\":\"white\",\"ticks\":\"\"},\"radialaxis\":{\"gridcolor\":\"white\",\"linecolor\":\"white\",\"ticks\":\"\"}},\"ternary\":{\"bgcolor\":\"#E5ECF6\",\"aaxis\":{\"gridcolor\":\"white\",\"linecolor\":\"white\",\"ticks\":\"\"},\"baxis\":{\"gridcolor\":\"white\",\"linecolor\":\"white\",\"ticks\":\"\"},\"caxis\":{\"gridcolor\":\"white\",\"linecolor\":\"white\",\"ticks\":\"\"}},\"coloraxis\":{\"colorbar\":{\"outlinewidth\":0,\"ticks\":\"\"}},\"colorscale\":{\"sequential\":[[0.0,\"#0d0887\"],[0.1111111111111111,\"#46039f\"],[0.2222222222222222,\"#7201a8\"],[0.3333333333333333,\"#9c179e\"],[0.4444444444444444,\"#bd3786\"],[0.5555555555555556,\"#d8576b\"],[0.6666666666666666,\"#ed7953\"],[0.7777777777777778,\"#fb9f3a\"],[0.8888888888888888,\"#fdca26\"],[1.0,\"#f0f921\"]],\"sequentialminus\":[[0.0,\"#0d0887\"],[0.1111111111111111,\"#46039f\"],[0.2222222222222222,\"#7201a8\"],[0.3333333333333333,\"#9c179e\"],[0.4444444444444444,\"#bd3786\"],[0.5555555555555556,\"#d8576b\"],[0.6666666666666666,\"#ed7953\"],[0.7777777777777778,\"#fb9f3a\"],[0.8888888888888888,\"#fdca26\"],[1.0,\"#f0f921\"]],\"diverging\":[[0,\"#8e0152\"],[0.1,\"#c51b7d\"],[0.2,\"#de77ae\"],[0.3,\"#f1b6da\"],[0.4,\"#fde0ef\"],[0.5,\"#f7f7f7\"],[0.6,\"#e6f5d0\"],[0.7,\"#b8e186\"],[0.8,\"#7fbc41\"],[0.9,\"#4d9221\"],[1,\"#276419\"]]},\"xaxis\":{\"gridcolor\":\"white\",\"linecolor\":\"white\",\"ticks\":\"\",\"title\":{\"standoff\":15},\"zerolinecolor\":\"white\",\"automargin\":true,\"zerolinewidth\":2},\"yaxis\":{\"gridcolor\":\"white\",\"linecolor\":\"white\",\"ticks\":\"\",\"title\":{\"standoff\":15},\"zerolinecolor\":\"white\",\"automargin\":true,\"zerolinewidth\":2},\"scene\":{\"xaxis\":{\"backgroundcolor\":\"#E5ECF6\",\"gridcolor\":\"white\",\"linecolor\":\"white\",\"showbackground\":true,\"ticks\":\"\",\"zerolinecolor\":\"white\",\"gridwidth\":2},\"yaxis\":{\"backgroundcolor\":\"#E5ECF6\",\"gridcolor\":\"white\",\"linecolor\":\"white\",\"showbackground\":true,\"ticks\":\"\",\"zerolinecolor\":\"white\",\"gridwidth\":2},\"zaxis\":{\"backgroundcolor\":\"#E5ECF6\",\"gridcolor\":\"white\",\"linecolor\":\"white\",\"showbackground\":true,\"ticks\":\"\",\"zerolinecolor\":\"white\",\"gridwidth\":2}},\"shapedefaults\":{\"line\":{\"color\":\"#2a3f5f\"}},\"annotationdefaults\":{\"arrowcolor\":\"#2a3f5f\",\"arrowhead\":0,\"arrowwidth\":1},\"geo\":{\"bgcolor\":\"white\",\"landcolor\":\"#E5ECF6\",\"subunitcolor\":\"white\",\"showland\":true,\"showlakes\":true,\"lakecolor\":\"white\"},\"title\":{\"x\":0.05},\"mapbox\":{\"style\":\"light\"}}},\"xaxis\":{\"anchor\":\"y\",\"domain\":[0.0,1.0],\"title\":{\"text\":\"Performance Point (PP)\"}},\"yaxis\":{\"anchor\":\"x\",\"domain\":[0.0,1.0],\"title\":{\"text\":\"Horse Power (HP)\"}},\"legend\":{\"tracegroupgap\":0},\"margin\":{\"t\":60},\"hoverlabel\":{\"font\":{\"size\":14,\"family\":\"Rockwell\"},\"bgcolor\":\"white\"},\"hovermode\":\"closest\",\"title\":{\"font\":{\"size\":24},\"text\":\"The scatterplot between Performance Point (PP) and Horse Power (HP)\",\"x\":0.5,\"xanchor\":\"center\"}},                        {\"responsive\": true}                    ).then(function(){\n                            \nvar gd = document.getElementById('d519314f-7f8b-4da9-9eea-e681a1ef76d7');\nvar x = new MutationObserver(function (mutations, observer) {{\n        var display = window.getComputedStyle(gd).display;\n        if (!display || display === 'none') {{\n            console.log([gd, 'removed!']);\n            Plotly.purge(gd);\n            observer.disconnect();\n        }}\n}});\n\n// Listen for the removal of the full notebook cells\nvar notebookContainer = gd.closest('#notebook-container');\nif (notebookContainer) {{\n    x.observe(notebookContainer, {childList: true});\n}}\n\n// Listen for the clearing of the current output cell\nvar outputEl = gd.closest('.output');\nif (outputEl) {{\n    x.observe(outputEl, {childList: true});\n}}\n\n                        })                };                });            </script>        </div>"
         },
         "metadata": {},
         "output_type": "display_data"
        }
       ]
      }
     },
     "6ff5ef9d8a7e4dcb8df2b65e97a6206e": {
      "model_module": "@jupyter-widgets/base",
      "model_module_version": "1.2.0",
      "model_name": "LayoutModel",
      "state": {
       "_model_module": "@jupyter-widgets/base",
       "_model_module_version": "1.2.0",
       "_model_name": "LayoutModel",
       "_view_count": null,
       "_view_module": "@jupyter-widgets/base",
       "_view_module_version": "1.2.0",
       "_view_name": "LayoutView",
       "align_content": null,
       "align_items": null,
       "align_self": null,
       "border": null,
       "bottom": null,
       "display": null,
       "flex": null,
       "flex_flow": null,
       "grid_area": null,
       "grid_auto_columns": null,
       "grid_auto_flow": null,
       "grid_auto_rows": null,
       "grid_column": null,
       "grid_gap": null,
       "grid_row": null,
       "grid_template_areas": null,
       "grid_template_columns": null,
       "grid_template_rows": null,
       "height": null,
       "justify_content": null,
       "justify_items": null,
       "left": null,
       "margin": null,
       "max_height": null,
       "max_width": null,
       "min_height": null,
       "min_width": null,
       "object_fit": null,
       "object_position": null,
       "order": null,
       "overflow": null,
       "overflow_x": null,
       "overflow_y": null,
       "padding": null,
       "right": null,
       "top": null,
       "visibility": null,
       "width": null
      }
     },
     "77b64d1f1a724bb9a6cb83e8fa2fbcda": {
      "model_module": "@jupyter-widgets/controls",
      "model_module_version": "1.5.0",
      "model_name": "DescriptionStyleModel",
      "state": {
       "_model_module": "@jupyter-widgets/controls",
       "_model_module_version": "1.5.0",
       "_model_name": "DescriptionStyleModel",
       "_view_count": null,
       "_view_module": "@jupyter-widgets/base",
       "_view_module_version": "1.2.0",
       "_view_name": "StyleView",
       "description_width": ""
      }
     },
     "7de235b227244a84a0af038f8135b1d6": {
      "model_module": "@jupyter-widgets/controls",
      "model_module_version": "1.5.0",
      "model_name": "DescriptionStyleModel",
      "state": {
       "_model_module": "@jupyter-widgets/controls",
       "_model_module_version": "1.5.0",
       "_model_name": "DescriptionStyleModel",
       "_view_count": null,
       "_view_module": "@jupyter-widgets/base",
       "_view_module_version": "1.2.0",
       "_view_name": "StyleView",
       "description_width": ""
      }
     },
     "899018a80e0f45e2a7bfeba150a4417e": {
      "model_module": "@jupyter-widgets/output",
      "model_module_version": "1.0.0",
      "model_name": "OutputModel",
      "state": {
       "_dom_classes": [],
       "_model_module": "@jupyter-widgets/output",
       "_model_module_version": "1.0.0",
       "_model_name": "OutputModel",
       "_view_count": null,
       "_view_module": "@jupyter-widgets/output",
       "_view_module_version": "1.0.0",
       "_view_name": "OutputView",
       "layout": "IPY_MODEL_3f91df7893c34e23abc578cf24c3278e",
       "msg_id": "",
       "outputs": [
        {
         "name": "stdout",
         "output_type": "stream",
         "text": "\n This is the details of your selected car 🚗 \n\n"
        },
        {
         "data": {
          "text/html": "<div>\n<style scoped>\n    .dataframe tbody tr th:only-of-type {\n        vertical-align: middle;\n    }\n\n    .dataframe tbody tr th {\n        vertical-align: top;\n    }\n\n    .dataframe thead th {\n        text-align: right;\n    }\n</style>\n<table border=\"1\" class=\"dataframe\">\n  <thead>\n    <tr style=\"text-align: right;\">\n      <th></th>\n      <th>Manufacturer</th>\n      <th>Model</th>\n      <th>Category</th>\n      <th>Sub_Category</th>\n      <th>Performance Point (PP)</th>\n      <th>Transmission</th>\n      <th>Price (Cr.)</th>\n      <th>Horse Power (HP)</th>\n      <th>Weight (lbs)</th>\n    </tr>\n  </thead>\n  <tbody>\n    <tr>\n      <th>257</th>\n      <td>McLaren</td>\n      <td>McLaren McLaren VGT</td>\n      <td>Racing Car</td>\n      <td>[Hybrid Car, Vision Gran Turismo]</td>\n      <td>989.0</td>\n      <td>MR</td>\n      <td>1000000.0</td>\n      <td>1134.0</td>\n      <td>1984.0</td>\n    </tr>\n  </tbody>\n</table>\n</div>",
          "text/plain": "    Manufacturer                Model    Category  \\\n257      McLaren  McLaren McLaren VGT  Racing Car   \n\n                          Sub_Category  Performance Point (PP) Transmission  \\\n257  [Hybrid Car, Vision Gran Turismo]                   989.0           MR   \n\n     Price (Cr.)  Horse Power (HP)  Weight (lbs)  \n257    1000000.0            1134.0        1984.0  "
         },
         "metadata": {},
         "output_type": "display_data"
        },
        {
         "name": "stdout",
         "output_type": "stream",
         "text": "\n\n"
        },
        {
         "data": {
          "image/png": "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\n",
          "text/plain": "<Figure size 720x720 with 1 Axes>"
         },
         "metadata": {
          "needs_background": "light"
         },
         "output_type": "display_data"
        }
       ]
      }
     },
     "8ee9894994354f798ad35f3c237b5b8d": {
      "model_module": "@jupyter-widgets/controls",
      "model_module_version": "1.5.0",
      "model_name": "DropdownModel",
      "state": {
       "_dom_classes": [],
       "_model_module": "@jupyter-widgets/controls",
       "_model_module_version": "1.5.0",
       "_model_name": "DropdownModel",
       "_options_labels": [
        "Model",
        "Category",
        "Sub_Category",
        "Performance Point (PP)",
        "Transmission",
        "Price (Cr.)",
        "Horse Power (HP)",
        "Weight (lbs)"
       ],
       "_view_count": null,
       "_view_module": "@jupyter-widgets/controls",
       "_view_module_version": "1.5.0",
       "_view_name": "DropdownView",
       "description": "Sort_by",
       "description_tooltip": null,
       "disabled": false,
       "index": 6,
       "layout": "IPY_MODEL_6ff5ef9d8a7e4dcb8df2b65e97a6206e",
       "style": "IPY_MODEL_77b64d1f1a724bb9a6cb83e8fa2fbcda"
      }
     },
     "9b00f9d43bef4cf897b016a67439ef93": {
      "model_module": "@jupyter-widgets/controls",
      "model_module_version": "1.5.0",
      "model_name": "TextModel",
      "state": {
       "_dom_classes": [],
       "_model_module": "@jupyter-widgets/controls",
       "_model_module_version": "1.5.0",
       "_model_name": "TextModel",
       "_view_count": null,
       "_view_module": "@jupyter-widgets/controls",
       "_view_module_version": "1.5.0",
       "_view_name": "TextView",
       "continuous_update": true,
       "description": "Model_Search",
       "description_tooltip": null,
       "disabled": false,
       "layout": "IPY_MODEL_d9562cad657e4335ab103e8431ace1bd",
       "placeholder": "​",
       "style": "IPY_MODEL_c8eee21ebee74fc09f769b501d6fe419",
       "value": "."
      }
     },
     "a81a34ef1b41494d960b244524b84a2f": {
      "model_module": "@jupyter-widgets/controls",
      "model_module_version": "1.5.0",
      "model_name": "DropdownModel",
      "state": {
       "_dom_classes": [],
       "_model_module": "@jupyter-widgets/controls",
       "_model_module_version": "1.5.0",
       "_model_name": "DropdownModel",
       "_options_labels": [
        "Performance Point (PP)",
        "Price (Cr.)",
        "Horse Power (HP)",
        "Weight (lbs)",
        "Power-to-weight ratio (kg/kw)"
       ],
       "_view_count": null,
       "_view_module": "@jupyter-widgets/controls",
       "_view_module_version": "1.5.0",
       "_view_name": "DropdownView",
       "description": "y_axis",
       "description_tooltip": null,
       "disabled": false,
       "index": 2,
       "layout": "IPY_MODEL_e107c6d32ecc441c9b2c71b72765a90c",
       "style": "IPY_MODEL_7de235b227244a84a0af038f8135b1d6"
      }
     },
     "ae26e4a28bf2471d865f0ed16af52314": {
      "model_module": "@jupyter-widgets/base",
      "model_module_version": "1.2.0",
      "model_name": "LayoutModel",
      "state": {
       "_model_module": "@jupyter-widgets/base",
       "_model_module_version": "1.2.0",
       "_model_name": "LayoutModel",
       "_view_count": null,
       "_view_module": "@jupyter-widgets/base",
       "_view_module_version": "1.2.0",
       "_view_name": "LayoutView",
       "align_content": null,
       "align_items": null,
       "align_self": null,
       "border": null,
       "bottom": null,
       "display": null,
       "flex": null,
       "flex_flow": null,
       "grid_area": null,
       "grid_auto_columns": null,
       "grid_auto_flow": null,
       "grid_auto_rows": null,
       "grid_column": null,
       "grid_gap": null,
       "grid_row": null,
       "grid_template_areas": null,
       "grid_template_columns": null,
       "grid_template_rows": null,
       "height": null,
       "justify_content": null,
       "justify_items": null,
       "left": null,
       "margin": null,
       "max_height": null,
       "max_width": null,
       "min_height": null,
       "min_width": null,
       "object_fit": null,
       "object_position": null,
       "order": null,
       "overflow": null,
       "overflow_x": null,
       "overflow_y": null,
       "padding": null,
       "right": null,
       "top": null,
       "visibility": null,
       "width": null
      }
     },
     "b8de6d515f9948e0b0bdff38e9bcd29f": {
      "model_module": "@jupyter-widgets/base",
      "model_module_version": "1.2.0",
      "model_name": "LayoutModel",
      "state": {
       "_model_module": "@jupyter-widgets/base",
       "_model_module_version": "1.2.0",
       "_model_name": "LayoutModel",
       "_view_count": null,
       "_view_module": "@jupyter-widgets/base",
       "_view_module_version": "1.2.0",
       "_view_name": "LayoutView",
       "align_content": null,
       "align_items": null,
       "align_self": null,
       "border": null,
       "bottom": null,
       "display": null,
       "flex": null,
       "flex_flow": null,
       "grid_area": null,
       "grid_auto_columns": null,
       "grid_auto_flow": null,
       "grid_auto_rows": null,
       "grid_column": null,
       "grid_gap": null,
       "grid_row": null,
       "grid_template_areas": null,
       "grid_template_columns": null,
       "grid_template_rows": null,
       "height": null,
       "justify_content": null,
       "justify_items": null,
       "left": null,
       "margin": null,
       "max_height": null,
       "max_width": null,
       "min_height": null,
       "min_width": null,
       "object_fit": null,
       "object_position": null,
       "order": null,
       "overflow": null,
       "overflow_x": null,
       "overflow_y": null,
       "padding": null,
       "right": null,
       "top": null,
       "visibility": null,
       "width": null
      }
     },
     "c7b8c2763e5c4147aec4ff932cc97b5d": {
      "model_module": "@jupyter-widgets/base",
      "model_module_version": "1.2.0",
      "model_name": "LayoutModel",
      "state": {
       "_model_module": "@jupyter-widgets/base",
       "_model_module_version": "1.2.0",
       "_model_name": "LayoutModel",
       "_view_count": null,
       "_view_module": "@jupyter-widgets/base",
       "_view_module_version": "1.2.0",
       "_view_name": "LayoutView",
       "align_content": null,
       "align_items": null,
       "align_self": null,
       "border": null,
       "bottom": null,
       "display": null,
       "flex": null,
       "flex_flow": null,
       "grid_area": null,
       "grid_auto_columns": null,
       "grid_auto_flow": null,
       "grid_auto_rows": null,
       "grid_column": null,
       "grid_gap": null,
       "grid_row": null,
       "grid_template_areas": null,
       "grid_template_columns": null,
       "grid_template_rows": null,
       "height": null,
       "justify_content": null,
       "justify_items": null,
       "left": null,
       "margin": null,
       "max_height": null,
       "max_width": null,
       "min_height": null,
       "min_width": null,
       "object_fit": null,
       "object_position": null,
       "order": null,
       "overflow": null,
       "overflow_x": null,
       "overflow_y": null,
       "padding": null,
       "right": null,
       "top": null,
       "visibility": null,
       "width": null
      }
     },
     "c8eee21ebee74fc09f769b501d6fe419": {
      "model_module": "@jupyter-widgets/controls",
      "model_module_version": "1.5.0",
      "model_name": "DescriptionStyleModel",
      "state": {
       "_model_module": "@jupyter-widgets/controls",
       "_model_module_version": "1.5.0",
       "_model_name": "DescriptionStyleModel",
       "_view_count": null,
       "_view_module": "@jupyter-widgets/base",
       "_view_module_version": "1.2.0",
       "_view_name": "StyleView",
       "description_width": ""
      }
     },
     "ca3ce72923544d2aacde4a9c39eebb62": {
      "model_module": "@jupyter-widgets/controls",
      "model_module_version": "1.5.0",
      "model_name": "DropdownModel",
      "state": {
       "_dom_classes": [],
       "_model_module": "@jupyter-widgets/controls",
       "_model_module_version": "1.5.0",
       "_model_name": "DropdownModel",
       "_options_labels": [
        "Abarth",
        "Alfa Romeo",
        "Other Manufacturers",
        "Mercedes-Benz",
        "Aston Martin",
        "Audi",
        "BMW",
        "Bugatti",
        "Chevrolet",
        "Citroën",
        "Daihatsu",
        "Dodge",
        "DS",
        "Ferrari",
        "Fiat",
        "Ford",
        "Honda",
        "Hyundai",
        "Infiniti",
        "Jaguar",
        "Jeep",
        "KTM",
        "Lamborghini",
        "Lancia",
        "Lexus",
        "Maserati",
        "Mazda",
        "McLaren",
        "Mini",
        "Mitsubishi",
        "Nissan",
        "Peugeot",
        "Porsche",
        "Renault",
        "Subaru",
        "Toyota",
        "Suzuki",
        "Tesla",
        "Volkswagen"
       ],
       "_view_count": null,
       "_view_module": "@jupyter-widgets/controls",
       "_view_module_version": "1.5.0",
       "_view_name": "DropdownView",
       "description": "Brand",
       "description_tooltip": null,
       "disabled": false,
       "index": 27,
       "layout": "IPY_MODEL_ae26e4a28bf2471d865f0ed16af52314",
       "style": "IPY_MODEL_e7b9fc42717544b58d53dc059b3d33df"
      }
     },
     "d0177517ffde493b8462de8bb1b7ddd2": {
      "model_module": "@jupyter-widgets/base",
      "model_module_version": "1.2.0",
      "model_name": "LayoutModel",
      "state": {
       "_model_module": "@jupyter-widgets/base",
       "_model_module_version": "1.2.0",
       "_model_name": "LayoutModel",
       "_view_count": null,
       "_view_module": "@jupyter-widgets/base",
       "_view_module_version": "1.2.0",
       "_view_name": "LayoutView",
       "align_content": null,
       "align_items": null,
       "align_self": null,
       "border": null,
       "bottom": null,
       "display": null,
       "flex": null,
       "flex_flow": null,
       "grid_area": null,
       "grid_auto_columns": null,
       "grid_auto_flow": null,
       "grid_auto_rows": null,
       "grid_column": null,
       "grid_gap": null,
       "grid_row": null,
       "grid_template_areas": null,
       "grid_template_columns": null,
       "grid_template_rows": null,
       "height": null,
       "justify_content": null,
       "justify_items": null,
       "left": null,
       "margin": null,
       "max_height": null,
       "max_width": null,
       "min_height": null,
       "min_width": null,
       "object_fit": null,
       "object_position": null,
       "order": null,
       "overflow": null,
       "overflow_x": null,
       "overflow_y": null,
       "padding": null,
       "right": null,
       "top": null,
       "visibility": null,
       "width": null
      }
     },
     "d24df685d20947b58684f1f90ca2c3dc": {
      "model_module": "@jupyter-widgets/controls",
      "model_module_version": "1.5.0",
      "model_name": "DropdownModel",
      "state": {
       "_dom_classes": [],
       "_model_module": "@jupyter-widgets/controls",
       "_model_module_version": "1.5.0",
       "_model_name": "DropdownModel",
       "_options_labels": [
        "Category",
        "Sub-Category",
        "Transmission"
       ],
       "_view_count": null,
       "_view_module": "@jupyter-widgets/controls",
       "_view_module_version": "1.5.0",
       "_view_name": "DropdownView",
       "description": "Dimension",
       "description_tooltip": null,
       "disabled": false,
       "index": 1,
       "layout": "IPY_MODEL_33a19de9c92440ffb5581536dbdd738b",
       "style": "IPY_MODEL_fce2744accd0478e80ae83262f1cdaba"
      }
     },
     "d51120dec1ab40dca68d73c6ef0d54f3": {
      "model_module": "@jupyter-widgets/controls",
      "model_module_version": "1.5.0",
      "model_name": "DescriptionStyleModel",
      "state": {
       "_model_module": "@jupyter-widgets/controls",
       "_model_module_version": "1.5.0",
       "_model_name": "DescriptionStyleModel",
       "_view_count": null,
       "_view_module": "@jupyter-widgets/base",
       "_view_module_version": "1.2.0",
       "_view_name": "StyleView",
       "description_width": ""
      }
     },
     "d524524bc9804e678544399cfe602866": {
      "model_module": "@jupyter-widgets/controls",
      "model_module_version": "1.5.0",
      "model_name": "VBoxModel",
      "state": {
       "_dom_classes": [
        "widget-interact"
       ],
       "_model_module": "@jupyter-widgets/controls",
       "_model_module_version": "1.5.0",
       "_model_name": "VBoxModel",
       "_view_count": null,
       "_view_module": "@jupyter-widgets/controls",
       "_view_module_version": "1.5.0",
       "_view_name": "VBoxView",
       "box_style": "",
       "children": [
        "IPY_MODEL_ca3ce72923544d2aacde4a9c39eebb62",
        "IPY_MODEL_8ee9894994354f798ad35f3c237b5b8d",
        "IPY_MODEL_ecf1055e9749457793d4d5fe13cd6a2d",
        "IPY_MODEL_9b00f9d43bef4cf897b016a67439ef93",
        "IPY_MODEL_e05bdb9452384e5b92269f6d409c5881"
       ],
       "layout": "IPY_MODEL_d0177517ffde493b8462de8bb1b7ddd2"
      }
     },
     "d6c125b35db740f2be603a408064cb49": {
      "model_module": "@jupyter-widgets/controls",
      "model_module_version": "1.5.0",
      "model_name": "VBoxModel",
      "state": {
       "_dom_classes": [
        "widget-interact"
       ],
       "_model_module": "@jupyter-widgets/controls",
       "_model_module_version": "1.5.0",
       "_model_name": "VBoxModel",
       "_view_count": null,
       "_view_module": "@jupyter-widgets/controls",
       "_view_module_version": "1.5.0",
       "_view_name": "VBoxView",
       "box_style": "",
       "children": [
        "IPY_MODEL_0da23e0b0df44a7a915f1b0cff789a29",
        "IPY_MODEL_899018a80e0f45e2a7bfeba150a4417e"
       ],
       "layout": "IPY_MODEL_ec6dd95f19b34e1fa46d9bd4d19f98e2"
      }
     },
     "d9562cad657e4335ab103e8431ace1bd": {
      "model_module": "@jupyter-widgets/base",
      "model_module_version": "1.2.0",
      "model_name": "LayoutModel",
      "state": {
       "_model_module": "@jupyter-widgets/base",
       "_model_module_version": "1.2.0",
       "_model_name": "LayoutModel",
       "_view_count": null,
       "_view_module": "@jupyter-widgets/base",
       "_view_module_version": "1.2.0",
       "_view_name": "LayoutView",
       "align_content": null,
       "align_items": null,
       "align_self": null,
       "border": null,
       "bottom": null,
       "display": null,
       "flex": null,
       "flex_flow": null,
       "grid_area": null,
       "grid_auto_columns": null,
       "grid_auto_flow": null,
       "grid_auto_rows": null,
       "grid_column": null,
       "grid_gap": null,
       "grid_row": null,
       "grid_template_areas": null,
       "grid_template_columns": null,
       "grid_template_rows": null,
       "height": null,
       "justify_content": null,
       "justify_items": null,
       "left": null,
       "margin": null,
       "max_height": null,
       "max_width": null,
       "min_height": null,
       "min_width": null,
       "object_fit": null,
       "object_position": null,
       "order": null,
       "overflow": null,
       "overflow_x": null,
       "overflow_y": null,
       "padding": null,
       "right": null,
       "top": null,
       "visibility": null,
       "width": null
      }
     },
     "e05bdb9452384e5b92269f6d409c5881": {
      "model_module": "@jupyter-widgets/output",
      "model_module_version": "1.0.0",
      "model_name": "OutputModel",
      "state": {
       "_dom_classes": [],
       "_model_module": "@jupyter-widgets/output",
       "_model_module_version": "1.0.0",
       "_model_name": "OutputModel",
       "_view_count": null,
       "_view_module": "@jupyter-widgets/output",
       "_view_module_version": "1.0.0",
       "_view_name": "OutputView",
       "layout": "IPY_MODEL_58df3f796b0f4c0f8d5a04ac52662467",
       "msg_id": "",
       "outputs": [
        {
         "data": {
          "text/html": "<div>\n<style scoped>\n    .dataframe tbody tr th:only-of-type {\n        vertical-align: middle;\n    }\n\n    .dataframe tbody tr th {\n        vertical-align: top;\n    }\n\n    .dataframe thead th {\n        text-align: right;\n    }\n</style>\n<table border=\"1\" class=\"dataframe\">\n  <thead>\n    <tr style=\"text-align: right;\">\n      <th></th>\n      <th>Manufacturer</th>\n      <th>Model</th>\n      <th>Category</th>\n      <th>Sub_Category</th>\n      <th>Performance Point (PP)</th>\n      <th>Transmission</th>\n      <th>Price (Cr.)</th>\n      <th>Horse Power (HP)</th>\n      <th>Weight (lbs)</th>\n    </tr>\n  </thead>\n  <tbody>\n    <tr>\n      <th>257</th>\n      <td>McLaren</td>\n      <td>McLaren McLaren VGT</td>\n      <td>Racing Car</td>\n      <td>[Hybrid Car, Vision Gran Turismo]</td>\n      <td>989.0</td>\n      <td>MR</td>\n      <td>1000000.0</td>\n      <td>1134.0</td>\n      <td>1984.0</td>\n    </tr>\n    <tr>\n      <th>256</th>\n      <td>McLaren</td>\n      <td>McLaren McLaren P1 GTR '16</td>\n      <td>Racing Car</td>\n      <td>[Hybrid Car]</td>\n      <td>797.0</td>\n      <td>MR</td>\n      <td>3600000.0</td>\n      <td>986.0</td>\n      <td>2965.0</td>\n    </tr>\n    <tr>\n      <th>258</th>\n      <td>McLaren</td>\n      <td>McLaren McLaren VGT (Gr.1)</td>\n      <td>Racing Car</td>\n      <td>[Hybrid Car, Vision Gran Turismo]</td>\n      <td>935.0</td>\n      <td>MR</td>\n      <td>1000000.0</td>\n      <td>936.0</td>\n      <td>1984.0</td>\n    </tr>\n    <tr>\n      <th>251</th>\n      <td>McLaren</td>\n      <td>McLaren 650S '14</td>\n      <td>Road Car</td>\n      <td>NaN</td>\n      <td>629.0</td>\n      <td>MR</td>\n      <td>340000.0</td>\n      <td>641.0</td>\n      <td>2932.0</td>\n    </tr>\n    <tr>\n      <th>259</th>\n      <td>McLaren</td>\n      <td>McLaren MP4-12C '10</td>\n      <td>Road Car</td>\n      <td>NaN</td>\n      <td>620.0</td>\n      <td>MR</td>\n      <td>225000.0</td>\n      <td>600.0</td>\n      <td>2976.0</td>\n    </tr>\n    <tr>\n      <th>253</th>\n      <td>McLaren</td>\n      <td>McLaren 650S GT3 '15</td>\n      <td>Racing Car</td>\n      <td>NaN</td>\n      <td>728.0</td>\n      <td>MR</td>\n      <td>450000.0</td>\n      <td>542.0</td>\n      <td>2734.0</td>\n    </tr>\n    <tr>\n      <th>252</th>\n      <td>McLaren</td>\n      <td>McLaren 650S Gr.4</td>\n      <td>Racing Car</td>\n      <td>NaN</td>\n      <td>638.0</td>\n      <td>MR</td>\n      <td>350000.0</td>\n      <td>399.0</td>\n      <td>2866.0</td>\n    </tr>\n  </tbody>\n</table>\n</div>",
          "text/plain": "    Manufacturer                       Model    Category  \\\n257      McLaren         McLaren McLaren VGT  Racing Car   \n256      McLaren  McLaren McLaren P1 GTR '16  Racing Car   \n258      McLaren  McLaren McLaren VGT (Gr.1)  Racing Car   \n251      McLaren            McLaren 650S '14    Road Car   \n259      McLaren         McLaren MP4-12C '10    Road Car   \n253      McLaren        McLaren 650S GT3 '15  Racing Car   \n252      McLaren           McLaren 650S Gr.4  Racing Car   \n\n                          Sub_Category  Performance Point (PP) Transmission  \\\n257  [Hybrid Car, Vision Gran Turismo]                   989.0           MR   \n256                       [Hybrid Car]                   797.0           MR   \n258  [Hybrid Car, Vision Gran Turismo]                   935.0           MR   \n251                                NaN                   629.0           MR   \n259                                NaN                   620.0           MR   \n253                                NaN                   728.0           MR   \n252                                NaN                   638.0           MR   \n\n     Price (Cr.)  Horse Power (HP)  Weight (lbs)  \n257    1000000.0            1134.0        1984.0  \n256    3600000.0             986.0        2965.0  \n258    1000000.0             936.0        1984.0  \n251     340000.0             641.0        2932.0  \n259     225000.0             600.0        2976.0  \n253     450000.0             542.0        2734.0  \n252     350000.0             399.0        2866.0  "
         },
         "metadata": {},
         "output_type": "display_data"
        }
       ]
      }
     },
     "e107c6d32ecc441c9b2c71b72765a90c": {
      "model_module": "@jupyter-widgets/base",
      "model_module_version": "1.2.0",
      "model_name": "LayoutModel",
      "state": {
       "_model_module": "@jupyter-widgets/base",
       "_model_module_version": "1.2.0",
       "_model_name": "LayoutModel",
       "_view_count": null,
       "_view_module": "@jupyter-widgets/base",
       "_view_module_version": "1.2.0",
       "_view_name": "LayoutView",
       "align_content": null,
       "align_items": null,
       "align_self": null,
       "border": null,
       "bottom": null,
       "display": null,
       "flex": null,
       "flex_flow": null,
       "grid_area": null,
       "grid_auto_columns": null,
       "grid_auto_flow": null,
       "grid_auto_rows": null,
       "grid_column": null,
       "grid_gap": null,
       "grid_row": null,
       "grid_template_areas": null,
       "grid_template_columns": null,
       "grid_template_rows": null,
       "height": null,
       "justify_content": null,
       "justify_items": null,
       "left": null,
       "margin": null,
       "max_height": null,
       "max_width": null,
       "min_height": null,
       "min_width": null,
       "object_fit": null,
       "object_position": null,
       "order": null,
       "overflow": null,
       "overflow_x": null,
       "overflow_y": null,
       "padding": null,
       "right": null,
       "top": null,
       "visibility": null,
       "width": null
      }
     },
     "e363b8c42b9340a98c71d39c4d8b6889": {
      "model_module": "@jupyter-widgets/base",
      "model_module_version": "1.2.0",
      "model_name": "LayoutModel",
      "state": {
       "_model_module": "@jupyter-widgets/base",
       "_model_module_version": "1.2.0",
       "_model_name": "LayoutModel",
       "_view_count": null,
       "_view_module": "@jupyter-widgets/base",
       "_view_module_version": "1.2.0",
       "_view_name": "LayoutView",
       "align_content": null,
       "align_items": null,
       "align_self": null,
       "border": null,
       "bottom": null,
       "display": null,
       "flex": null,
       "flex_flow": null,
       "grid_area": null,
       "grid_auto_columns": null,
       "grid_auto_flow": null,
       "grid_auto_rows": null,
       "grid_column": null,
       "grid_gap": null,
       "grid_row": null,
       "grid_template_areas": null,
       "grid_template_columns": null,
       "grid_template_rows": null,
       "height": null,
       "justify_content": null,
       "justify_items": null,
       "left": null,
       "margin": null,
       "max_height": null,
       "max_width": null,
       "min_height": null,
       "min_width": null,
       "object_fit": null,
       "object_position": null,
       "order": null,
       "overflow": null,
       "overflow_x": null,
       "overflow_y": null,
       "padding": null,
       "right": null,
       "top": null,
       "visibility": null,
       "width": null
      }
     },
     "e7b9fc42717544b58d53dc059b3d33df": {
      "model_module": "@jupyter-widgets/controls",
      "model_module_version": "1.5.0",
      "model_name": "DescriptionStyleModel",
      "state": {
       "_model_module": "@jupyter-widgets/controls",
       "_model_module_version": "1.5.0",
       "_model_name": "DescriptionStyleModel",
       "_view_count": null,
       "_view_module": "@jupyter-widgets/base",
       "_view_module_version": "1.2.0",
       "_view_name": "StyleView",
       "description_width": ""
      }
     },
     "ec6dd95f19b34e1fa46d9bd4d19f98e2": {
      "model_module": "@jupyter-widgets/base",
      "model_module_version": "1.2.0",
      "model_name": "LayoutModel",
      "state": {
       "_model_module": "@jupyter-widgets/base",
       "_model_module_version": "1.2.0",
       "_model_name": "LayoutModel",
       "_view_count": null,
       "_view_module": "@jupyter-widgets/base",
       "_view_module_version": "1.2.0",
       "_view_name": "LayoutView",
       "align_content": null,
       "align_items": null,
       "align_self": null,
       "border": null,
       "bottom": null,
       "display": null,
       "flex": null,
       "flex_flow": null,
       "grid_area": null,
       "grid_auto_columns": null,
       "grid_auto_flow": null,
       "grid_auto_rows": null,
       "grid_column": null,
       "grid_gap": null,
       "grid_row": null,
       "grid_template_areas": null,
       "grid_template_columns": null,
       "grid_template_rows": null,
       "height": null,
       "justify_content": null,
       "justify_items": null,
       "left": null,
       "margin": null,
       "max_height": null,
       "max_width": null,
       "min_height": null,
       "min_width": null,
       "object_fit": null,
       "object_position": null,
       "order": null,
       "overflow": null,
       "overflow_x": null,
       "overflow_y": null,
       "padding": null,
       "right": null,
       "top": null,
       "visibility": null,
       "width": null
      }
     },
     "ecf1055e9749457793d4d5fe13cd6a2d": {
      "model_module": "@jupyter-widgets/controls",
      "model_module_version": "1.5.0",
      "model_name": "DropdownModel",
      "state": {
       "_dom_classes": [],
       "_model_module": "@jupyter-widgets/controls",
       "_model_module_version": "1.5.0",
       "_model_name": "DropdownModel",
       "_options_labels": [
        "Ascending",
        "Descending"
       ],
       "_view_count": null,
       "_view_module": "@jupyter-widgets/controls",
       "_view_module_version": "1.5.0",
       "_view_name": "DropdownView",
       "description": "Sort_method",
       "description_tooltip": null,
       "disabled": false,
       "index": 1,
       "layout": "IPY_MODEL_c7b8c2763e5c4147aec4ff932cc97b5d",
       "style": "IPY_MODEL_d51120dec1ab40dca68d73c6ef0d54f3"
      }
     },
     "fce2744accd0478e80ae83262f1cdaba": {
      "model_module": "@jupyter-widgets/controls",
      "model_module_version": "1.5.0",
      "model_name": "DescriptionStyleModel",
      "state": {
       "_model_module": "@jupyter-widgets/controls",
       "_model_module_version": "1.5.0",
       "_model_name": "DescriptionStyleModel",
       "_view_count": null,
       "_view_module": "@jupyter-widgets/base",
       "_view_module_version": "1.2.0",
       "_view_name": "StyleView",
       "description_width": ""
      }
     }
    },
    "version_major": 2,
    "version_minor": 0
   }
  }
 },
 "nbformat": 4,
 "nbformat_minor": 5
}
